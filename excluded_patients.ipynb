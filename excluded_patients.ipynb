{
 "cells": [
  {
   "cell_type": "markdown",
   "id": "87c4a2c4",
   "metadata": {},
   "source": [
    "<div style=\"border: 2px solid #f0f0f0; padding: 10px; border-radius: 5px; background-color: #f9f9f9; font-size: 16px; color: #000000;\">\n",
    "<b>We identify patients with specific genetic mutations, including GBA, LSNCA, and LLRRK2, as well as individuals who were prescribed dopaminergic medications either at baseline or before.</b>\n",
    "</div>\n"
   ]
  },
  {
   "cell_type": "code",
   "execution_count": null,
   "id": "85328776",
   "metadata": {},
   "outputs": [],
   "source": [
    "import pandas as pd\n",
    "import os\n",
    "from pathlib import Path"
   ]
  },
  {
   "cell_type": "code",
   "execution_count": null,
   "id": "56d34dfa",
   "metadata": {},
   "outputs": [],
   "source": [
    "path2 = Path(\"/home/znazari/data\") \n",
    "path3=Path(\"/scratch/znazari/PPMI_ver_sep2022/study_data/Subject_Characteristics/\")\n",
    "path7= Path(\"/scratch/znazari/PPMI_ver_sep2022/study_data/Medical_History\")"
   ]
  },
  {
   "cell_type": "markdown",
   "id": "0ad8f432",
   "metadata": {},
   "source": [
    "#  Patients with Mutation Genes (GBA, LSNCA, LLRRK2) "
   ]
  },
  {
   "cell_type": "code",
   "execution_count": null,
   "id": "2a26e347",
   "metadata": {},
   "outputs": [],
   "source": [
    "# reading the file which contains diagnosis\n",
    "diago=pd.read_csv(path3/\"Participant_Status.csv\", header=None )\n",
    "diago1=diago.rename(columns=diago.iloc[0]).drop(diago.index[0]).reset_index(drop=True)\n",
    "\n",
    "#Patients who have the mutations\n",
    "selected_rows = diago1[(diago1[\"ENRLGBA\"] == \"1\")|(diago1[\"ENRLSNCA\"] == \"1\")|(diago1[\"ENRLLRRK2\"] == \"1\")]"
   ]
  },
  {
   "cell_type": "code",
   "execution_count": null,
   "id": "3db6c725",
   "metadata": {},
   "outputs": [],
   "source": [
    "#Saving the lsit of patient IDs who hae mutations \n",
    "selected_rows[\"PATNO\"].to_csv(path2/'mutated_g_patients.csv', index=False)"
   ]
  },
  {
   "cell_type": "markdown",
   "id": "1b939f9f",
   "metadata": {},
   "source": [
    "# Patients using Dopaminergic Drugs (Levodopa Equivalent Medication)\n",
    "\n",
    "Dopaminergic medications, including levodopa, dopamine agonists and monoamine oxidase\n",
    "inhibitors, are stored as levodopa equivalent daily dosage (LEDD)18 and this can be found on\n",
    "the LEDD_Concomitant_Medication_Log table.\n",
    "\n",
    "Dopamine agonists and monoamine oxidase inhibitors are two classes of dopaminergic medications used to treat Parkinson’s disease. Dopamine agonists mimic the effects of dopamine in the brain, while monoamine oxidase inhibitors block the breakdown of dopamine in the brain. [Comparative effectiveness of dopamine agonists and monoamine oxidase type-B inhibitors for Parkinson’s disease: a multiple treatment comparison meta-analysis](https://link.springer.com/article/10.1007/s00228-020-02961-6)\n",
    "\n",
    "\n",
    "**I want to know if the patient was taking the drugs in the baseline, and before that date so they need to be excluded from study later on**\n",
    "\n",
    "We look at patient BL and check when they started taking the dopmanergic drug and select the patients where their drug taking date is at the basline or before. "
   ]
  },
  {
   "cell_type": "code",
   "execution_count": null,
   "id": "2086e084",
   "metadata": {},
   "outputs": [],
   "source": [
    "# file where the data of patients which using dopaminergic medications is stored\n",
    "drug4=pd.read_csv(path7/\"LEDD_Concomitant_Medication_Log.csv\" )\n",
    "\n",
    "# Convert STARTDT to datetime if it's not already\n",
    "drug4['STARTDT'] = pd.to_datetime(drug4['STARTDT'])\n",
    "\n",
    "# Find the index of the earliest date for each patient\n",
    "earliest_dates_index = drug4.groupby('PATNO')['STARTDT'].idxmin()\n",
    "\n",
    "# Select the rows corresponding to the earliest dates\n",
    "earliest_dates_df = drug4.loc[earliest_dates_index, ['PATNO', 'LEDD', 'STARTDT']]"
   ]
  },
  {
   "cell_type": "code",
   "execution_count": null,
   "id": "21331725",
   "metadata": {},
   "outputs": [],
   "source": [
    "# keep only pateints date with base line\n",
    "\n",
    "#Details of vital signs (blood pressure, temperature, weight, height, etc.) The file with most BL patient IDs!\n",
    "check_date1=pd.read_csv(path7/\"Vital_Signs.csv\" )\n",
    "\n",
    "check_date = check_date1[check_date1['EVENT_ID'] == 'BL']\n",
    "\n",
    "# Convert INFODT to datetime if it's not already\n",
    "check_date['INFODT'] = pd.to_datetime(check_date['INFODT'])\n",
    "\n",
    "# Drop rows with missing values in the 'INFODT' column\n",
    "check_date = check_date.dropna(subset=['INFODT'])\n",
    "\n",
    "# Check if the DataFrame is empty\n",
    "if not check_date.empty:\n",
    "    # Find the index of the earliest date for each combination of 'PATNO' and 'EVENT_ID'\n",
    "    earliest_dates_index = check_date.groupby(['PATNO', 'EVENT_ID'])['INFODT'].idxmin()\n",
    "\n",
    "    # Select the rows corresponding to the earliest dates\n",
    "    original_earliest_dates_df = check_date.loc[earliest_dates_index, ['PATNO', 'INFODT']].copy()\n",
    "\n",
    "# original_earliest_dates_df are all pateints in the baseline and the corresponding date to the baseline"
   ]
  },
  {
   "cell_type": "code",
   "execution_count": null,
   "id": "173eb9de",
   "metadata": {},
   "outputs": [],
   "source": [
    "# Merge on 'PATNO'\n",
    "merged_df = pd.merge(earliest_dates_df, original_earliest_dates_df, on='PATNO', suffixes=('_earliest', '_original'))\n",
    "\n",
    "# Filter rows based on the condition\n",
    "filtered_df = merged_df[merged_df['STARTDT'] <= merged_df['INFODT']]\n",
    "\n",
    "# Select relevant columns\n",
    "result_df = filtered_df[['PATNO', 'STARTDT', 'INFODT']]\n",
    "\n",
    "patients_using_ddrug=result_df.reset_index(drop=True)\n",
    "patients_using_ddrug\n",
    "\n",
    "# Saving patient numbers whom they were using dopamenergic drugs before of at the time of baseline (BL).\n",
    "patients_using_ddrug.to_csv(path2/'patients_using_ddrug.csv', index=False)"
   ]
  },
  {
   "cell_type": "code",
   "execution_count": 3,
   "id": "737f233d",
   "metadata": {},
   "outputs": [
    {
     "name": "stdout",
     "output_type": "stream",
     "text": [
      "Last update : 2024-01-26\n"
     ]
    }
   ],
   "source": [
    "from datetime import datetime\n",
    "\n",
    "# Get the current date\n",
    "current_date = datetime.now().date()\n",
    "\n",
    "# Print the current date\n",
    "print(\"Last update :\", current_date)\n",
    "\n"
   ]
  }
 ],
 "metadata": {
  "kernelspec": {
   "display_name": "Python 3",
   "language": "python",
   "name": "python3"
  },
  "language_info": {
   "codemirror_mode": {
    "name": "ipython",
    "version": 3
   },
   "file_extension": ".py",
   "mimetype": "text/x-python",
   "name": "python",
   "nbconvert_exporter": "python",
   "pygments_lexer": "ipython3",
   "version": "3.9.13"
  }
 },
 "nbformat": 4,
 "nbformat_minor": 5
}
