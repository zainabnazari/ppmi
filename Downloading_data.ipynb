{
 "cells": [
  {
   "cell_type": "code",
   "execution_count": 19,
   "id": "a70bdd30",
   "metadata": {},
   "outputs": [
    {
     "name": "stdout",
     "output_type": "stream",
     "text": [
      "Login successful\n",
      "Data response PPMI_RNAseq_IR3_Release_20210402.pdf was successfull\n",
      "File downloaded successfully\n"
     ]
    }
   ],
   "source": [
    "import requests\n",
    "from bs4 import BeautifulSoup\n",
    "import tarfile\n",
    "import shutil\n",
    " \n",
    "\n",
    "# Login credentials\n",
    "username = 'i.arisi@ebri.it' #replace with your own username and password \n",
    "password = '????????'\n",
    "\n",
    "# Session object for persistent connection\n",
    "session = requests.Session()\n",
    "\n",
    "# Login URL of loni ppmi data \n",
    "login_url = 'https://ida.loni.usc.edu/web/ppmi-rnaseq-app-login.jsp' \n",
    "login_data = {\n",
    "    'username': username,\n",
    "    'password': password\n",
    "}\n",
    "\n",
    "# Send a POST request to login\n",
    "response = session.post(login_url, data=login_data)\n",
    "# Local path to save the downloaded file\n",
    "local_path = '/Users/Utente/Desktop/Data_PPMI/download/PPMI_RNAseq_IR3_Release_new.pdf'  # Replace with the desired local path\n",
    "\n",
    "\n",
    "# Check if login was successful\n",
    "if response.status_code == 200:\n",
    "    print('Login successful')\n",
    "    # Continue with downloading data or performing other operations\n",
    "\n",
    "    # Example: Download data from a specific URL\n",
    "    data_url = 'https://ida.loni.usc.edu/download/files/genetic/2c6c21ac-1433-4871-972c-6e1751ce353e/ppmi/PPMI_RNAseq_IR3_Release_20210402.pdf'  # Replace with the actual data URL\n",
    "    response = session.get(data_url)\n",
    "    print('Data response PPMI_RNAseq_IR3_Release_20210402.pdf was successfull')\n",
    "    \n",
    "    response = requests.get(data_url, stream=True)\n",
    "\n",
    "    # Save the downloaded file locally\n",
    "    with open(local_path, 'wb') as f:\n",
    "        response.raw.decode_content = True\n",
    "        shutil.copyfileobj(response.raw, f)\n",
    "    print('File downloaded successfully')\n",
    "\n",
    "else:\n",
    "    print('Login failed')"
   ]
  },
  {
   "cell_type": "code",
   "execution_count": null,
   "id": "83eca4a0",
   "metadata": {},
   "outputs": [],
   "source": []
  },
  {
   "cell_type": "code",
   "execution_count": 10,
   "id": "dad60046",
   "metadata": {},
   "outputs": [
    {
     "name": "stdout",
     "output_type": "stream",
     "text": [
      "Repetition 1/1\n"
     ]
    },
    {
     "ename": "TypeError",
     "evalue": "list indices must be integers or slices, not list",
     "output_type": "error",
     "traceback": [
      "\u001b[0;31m---------------------------------------------------------------------------\u001b[0m",
      "\u001b[0;31mTypeError\u001b[0m                                 Traceback (most recent call last)",
      "\u001b[0;32m/tmp/ipykernel_11659/3140887348.py\u001b[0m in \u001b[0;36m<module>\u001b[0;34m\u001b[0m\n\u001b[1;32m     63\u001b[0m \u001b[0;34m\u001b[0m\u001b[0m\n\u001b[1;32m     64\u001b[0m \u001b[0;31m# Get the names of the final selected top features\u001b[0m\u001b[0;34m\u001b[0m\u001b[0;34m\u001b[0m\u001b[0m\n\u001b[0;32m---> 65\u001b[0;31m \u001b[0mfinal_top_features\u001b[0m \u001b[0;34m=\u001b[0m \u001b[0mdata\u001b[0m\u001b[0;34m.\u001b[0m\u001b[0mfeature_names\u001b[0m\u001b[0;34m[\u001b[0m\u001b[0mfinal_top_feature_indices\u001b[0m\u001b[0;34m]\u001b[0m\u001b[0;34m\u001b[0m\u001b[0;34m\u001b[0m\u001b[0m\n\u001b[0m\u001b[1;32m     66\u001b[0m \u001b[0;34m\u001b[0m\u001b[0m\n\u001b[1;32m     67\u001b[0m \u001b[0mprint\u001b[0m\u001b[0;34m(\u001b[0m\u001b[0;34m\"Final selected top features:\"\u001b[0m\u001b[0;34m)\u001b[0m\u001b[0;34m\u001b[0m\u001b[0;34m\u001b[0m\u001b[0m\n",
      "\u001b[0;31mTypeError\u001b[0m: list indices must be integers or slices, not list"
     ]
    }
   ],
   "source": [
    "import numpy as np\n",
    "import pandas as pd\n",
    "from sklearn.datasets import load_iris\n",
    "from sklearn.model_selection import StratifiedKFold\n",
    "from sklearn.ensemble import RandomForestClassifier\n",
    "from sklearn.inspection import permutation_importance\n",
    "\n",
    "# Load the Iris dataset\n",
    "data = load_iris()\n",
    "X, y = data.data, data.target\n",
    "\n",
    "# Set the number of repetitions for Random Forest training\n",
    "num_repetitions = 1\n",
    "\n",
    "# Set the number of folds for repeated stratified 10-fold cross-validation\n",
    "num_folds = 2\n",
    "\n",
    "# Set the random seed for reproducibility\n",
    "random_seed = 42\n",
    "\n",
    "# Define the function to train a Random Forest model and compute permutation feature importances\n",
    "def train_rf_with_permutation_importance(X_train, y_train, X_test, y_test, num_features):\n",
    "    rf_model = RandomForestClassifier(n_estimators=100, random_state=random_seed)\n",
    "    rf_model.fit(X_train, y_train)\n",
    "\n",
    "    perm_importance = permutation_importance(rf_model, X_test, y_test, n_repeats=3, random_state=random_seed)\n",
    "    feature_importance = perm_importance.importances_mean\n",
    "\n",
    "    # Get the indices of the top features based on their importance\n",
    "    top_feature_indices = np.argsort(feature_importance)[-int(np.sqrt(num_features)):]\n",
    "    \n",
    "    return top_feature_indices\n",
    "\n",
    "# Initialize lists to store the selected top features across all splits\n",
    "selected_top_features = []\n",
    "\n",
    "# Create the repeated stratified k-fold cross-validator\n",
    "cv = StratifiedKFold(n_splits=num_folds, shuffle=True, random_state=random_seed)\n",
    "\n",
    "# Repeat the process for a total of 'num_repetitions' times\n",
    "for repetition in range(num_repetitions):\n",
    "    print(f\"Repetition {repetition+1}/{num_repetitions}\")\n",
    "\n",
    "    # Perform repeated stratified k-fold cross-validation\n",
    "    for train_idx, test_idx in cv.split(X, y):\n",
    "        X_train, X_test = X[train_idx], X[test_idx]\n",
    "        y_train, y_test = y[train_idx], y[test_idx]\n",
    "\n",
    "        # Get the selected top features for this split\n",
    "        top_features_split = train_rf_with_permutation_importance(X_train, y_train, X_test, y_test, len(X[0]))\n",
    "\n",
    "        # Add the selected top features to the list\n",
    "        selected_top_features.extend(top_features_split)\n",
    "\n",
    "# Count the occurrences of each feature in the selected_top_features list\n",
    "feature_counts = pd.Series(selected_top_features).value_counts()\n",
    "\n",
    "# Get the indices of the top features based on their overall occurrence\n",
    "final_top_feature_indices = feature_counts.index[:int(np.sqrt(len(X[0])))]\n",
    "\n",
    "# Convert the Index to a list of integer indices\n",
    "final_top_feature_indices = final_top_feature_indices.tolist()\n",
    "\n",
    "# Get the names of the final selected top features\n",
    "final_top_features = data.feature_names[final_top_feature_indices]\n",
    "\n",
    "print(\"Final selected top features:\")\n",
    "print(final_top_features)\n"
   ]
  },
  {
   "cell_type": "code",
   "execution_count": null,
   "id": "5e367a70",
   "metadata": {},
   "outputs": [],
   "source": []
  }
 ],
 "metadata": {
  "kernelspec": {
   "display_name": "Python 3",
   "language": "python",
   "name": "python3"
  },
  "language_info": {
   "codemirror_mode": {
    "name": "ipython",
    "version": 3
   },
   "file_extension": ".py",
   "mimetype": "text/x-python",
   "name": "python",
   "nbconvert_exporter": "python",
   "pygments_lexer": "ipython3",
   "version": "3.9.13"
  }
 },
 "nbformat": 4,
 "nbformat_minor": 5
}
