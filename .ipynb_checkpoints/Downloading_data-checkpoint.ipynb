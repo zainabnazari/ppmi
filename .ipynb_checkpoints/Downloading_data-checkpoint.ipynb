{
 "cells": [
  {
   "cell_type": "code",
   "execution_count": 19,
   "id": "a70bdd30",
   "metadata": {},
   "outputs": [
    {
     "name": "stdout",
     "output_type": "stream",
     "text": [
      "Login successful\n",
      "Data response PPMI_RNAseq_IR3_Release_20210402.pdf was successfull\n",
      "File downloaded successfully\n"
     ]
    }
   ],
   "source": [
    "import requests\n",
    "from bs4 import BeautifulSoup\n",
    "import tarfile\n",
    "import shutil\n",
    " \n",
    "\n",
    "# Login credentials\n",
    "username = 'i.arisi@ebri.it' #replace with your own username and password \n",
    "password = '????????'\n",
    "\n",
    "# Session object for persistent connection\n",
    "session = requests.Session()\n",
    "\n",
    "# Login URL of loni ppmi data \n",
    "login_url = 'https://ida.loni.usc.edu/web/ppmi-rnaseq-app-login.jsp' \n",
    "login_data = {\n",
    "    'username': username,\n",
    "    'password': password\n",
    "}\n",
    "\n",
    "# Send a POST request to login\n",
    "response = session.post(login_url, data=login_data)\n",
    "# Local path to save the downloaded file\n",
    "local_path = '/Users/Utente/Desktop/Data_PPMI/download/PPMI_RNAseq_IR3_Release_new.pdf'  # Replace with the desired local path\n",
    "\n",
    "\n",
    "# Check if login was successful\n",
    "if response.status_code == 200:\n",
    "    print('Login successful')\n",
    "    # Continue with downloading data or performing other operations\n",
    "\n",
    "    # Example: Download data from a specific URL\n",
    "    data_url = 'https://ida.loni.usc.edu/download/files/genetic/2c6c21ac-1433-4871-972c-6e1751ce353e/ppmi/PPMI_RNAseq_IR3_Release_20210402.pdf'  # Replace with the actual data URL\n",
    "    response = session.get(data_url)\n",
    "    print('Data response PPMI_RNAseq_IR3_Release_20210402.pdf was successfull')\n",
    "    \n",
    "    response = requests.get(data_url, stream=True)\n",
    "\n",
    "    # Save the downloaded file locally\n",
    "    with open(local_path, 'wb') as f:\n",
    "        response.raw.decode_content = True\n",
    "        shutil.copyfileobj(response.raw, f)\n",
    "    print('File downloaded successfully')\n",
    "\n",
    "else:\n",
    "    print('Login failed')"
   ]
  },
  {
   "cell_type": "code",
   "execution_count": null,
   "id": "83eca4a0",
   "metadata": {},
   "outputs": [],
   "source": []
  },
  {
   "cell_type": "code",
   "execution_count": 1,
   "id": "84394954",
   "metadata": {},
   "outputs": [
    {
     "name": "stdout",
     "output_type": "stream",
     "text": [
      "sepal length (cm): 0.0\n",
      "sepal width (cm): 0.0\n",
      "petal length (cm): 0.25\n",
      "petal width (cm): 0.21999999999999997\n"
     ]
    }
   ],
   "source": [
    "import numpy as np\n",
    "import pandas as pd\n",
    "from sklearn.datasets import load_iris\n",
    "from sklearn.model_selection import train_test_split\n",
    "from sklearn.ensemble import RandomForestClassifier\n",
    "from sklearn.inspection import permutation_importance\n",
    "\n",
    "# Load the Iris dataset\n",
    "data = load_iris()\n",
    "X, y = data.data, data.target\n",
    "\n",
    "# Split the dataset into training and testing sets\n",
    "X_train, X_test, y_train, y_test = train_test_split(X, y, test_size=0.2, random_state=42)\n",
    "\n",
    "# Create a Random Forest classifier\n",
    "rf_model = RandomForestClassifier(n_estimators=100, random_state=42)\n",
    "\n",
    "# Fit the model on the training data\n",
    "rf_model.fit(X_train, y_train)\n",
    "\n",
    "# Use permutation_importance to compute feature importances\n",
    "perm_importance = permutation_importance(rf_model, X_test, y_test, n_repeats=10, random_state=42)\n",
    "\n",
    "# Get the feature importances and feature names\n",
    "feature_importance = perm_importance.importances_mean\n",
    "feature_names = data.feature_names\n",
    "\n",
    "# Display the feature importances\n",
    "for feature_name, importance in zip(feature_names, feature_importance):\n",
    "    print(f\"{feature_name}: {importance}\")\n"
   ]
  },
  {
   "cell_type": "code",
   "execution_count": null,
   "id": "abaad838",
   "metadata": {},
   "outputs": [],
   "source": []
  }
 ],
 "metadata": {
  "kernelspec": {
   "display_name": "Python 3",
   "language": "python",
   "name": "python3"
  },
  "language_info": {
   "codemirror_mode": {
    "name": "ipython",
    "version": 3
   },
   "file_extension": ".py",
   "mimetype": "text/x-python",
   "name": "python",
   "nbconvert_exporter": "python",
   "pygments_lexer": "ipython3",
   "version": "3.9.13"
  }
 },
 "nbformat": 4,
 "nbformat_minor": 5
}
