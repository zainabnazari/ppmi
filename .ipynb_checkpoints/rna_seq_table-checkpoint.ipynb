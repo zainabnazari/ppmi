{
 "cells": [
  {
   "cell_type": "markdown",
   "id": "56d184cd",
   "metadata": {},
   "source": [
    "# <span style=\"color:#8B4513;\"> Table of Ensembl Gene IDs  ENSG VS  Patient Num. from PPMI @ LONI\n",
    "</span>\n",
    "\n",
    "- Retrieving data from the 'IR3/counts' folder involves extracting the final column (counts) associated with each patient during their baseline (BL) visit.\n",
    "\n",
    "- Data from Project 133 RNA Sequencing Feature Counts/TPM (IR3/B38/Phases 1-2, version 2021-04-02"
   ]
  },
  {
   "cell_type": "code",
   "execution_count": 2,
   "id": "5c7b8ba7",
   "metadata": {
    "slideshow": {
     "slide_type": "slide"
    }
   },
   "outputs": [],
   "source": [
    "import dask.dataframe as dd\n",
    "import pandas as pd\n",
    "import numpy as np\n",
    "import os\n",
    "import glob\n",
    "import functools\n",
    "from pathlib import Path\n",
    "import time\n",
    "from datetime import datetime"
   ]
  },
  {
   "cell_type": "code",
   "execution_count": 2,
   "id": "8ba5df20",
   "metadata": {},
   "outputs": [],
   "source": [
    "# Note that the counts file in the IR3 is around 152 G, and the files are located in scratch area.\n",
    "\n",
    "path1=Path(\"/scratch/znazari/PPMI_ver_sep2022/RNA_Seq_data/star_ir3/counts/\")\n",
    "path2 = Path(\"/home/znazari/data\") # where the output data will be saved at the end.\n",
    "path3=Path(\"/scratch/znazari/PPMI_ver_sep2022/study_data/Subject_Characteristics/\")\n"
   ]
  },
  {
   "cell_type": "markdown",
   "id": "86494e1a",
   "metadata": {},
   "source": [
    "<a id=\"matrixcreation\"></a>\n",
    "## Matrix of Gene IDs and Counts for Patients\n",
    " Loading the data from IR3/counts folder and extracting the column (counts) of each patient file for their BL visit."
   ]
  },
  {
   "cell_type": "code",
   "execution_count": 5,
   "id": "403b8db8",
   "metadata": {
    "tags": [
     "matrix-creation"
    ]
   },
   "outputs": [
    {
     "name": "stdout",
     "output_type": "stream",
     "text": [
      "Execution Time: 891.5956218242645 seconds\n"
     ]
    }
   ],
   "source": [
    "# Get all file names in the folder\n",
    "all_files = [file.name for file in path1.glob('*')]\n",
    "\n",
    "# Filter the files that contain \"BL\" in their names\n",
    "bl_files2 = [file for file in all_files if \"BL\" in file]\n",
    "\n",
    "#Convert to dataframe\n",
    "bl_files =pd.DataFrame(bl_files2)\n",
    "\n",
    "# We define a function where we can take the second phrase seperated by dot. The second phrase \n",
    "# is the patient ID. So with this functin we want to get the patient IDs from their file's name\n",
    "def function_names(fname):\n",
    "    tokens=fname.split('.')\n",
    "    return tokens[1]\n",
    "\n",
    "# we create a list with the name of the each patients.\n",
    "bl_list = [function_names(bl_files.iloc[i][0]) for i in range(len(bl_files))]\n",
    "\n",
    "start_time = time.time()\n",
    "\n",
    "# here we read all the files with with base visit(BL) from the counts folder (where we have all the files\n",
    "# for all the patients and all the visit).\n",
    "list_bl_files = [dd.read_csv(path1/bl_files.iloc[i][0],skiprows=1,delimiter='\\t') for i in range(len(bl_files))]\n",
    "\n",
    "\n",
    "# we get th last columns of each file in the list\n",
    "last_columns = [ddf.iloc[:, -1:] for ddf in list_bl_files]\n",
    "\n",
    "# concatinating the list of the columns in a single file.\n",
    "single_file = dd.concat(last_columns, axis=1, ignore_unknown_divisions=True)\n",
    "\n",
    "# we change the name of the each columns with the patient numbers.\n",
    "single_file.columns = bl_list\n",
    "\n",
    "# we get the Geneid column and convert it to dask dataframe\n",
    "pd_tmp_file = list_bl_files[3].compute()\n",
    "geneid = pd_tmp_file['Geneid']\n",
    "ddf_geneid = dd.from_pandas(geneid, npartitions=1)\n",
    "\n",
    "# here we set the Geneid column as the index of the matrix.\n",
    "ddf_new_index = single_file.set_index(ddf_geneid)\n",
    "\n",
    "# converting to pandas data frame and saving.\n",
    "ir3_counts = ddf_new_index.compute()\n",
    "ir3_counts.to_csv(path2/\"matrix_ir3_counts_bl.csv\")\n",
    "\n",
    "end_time = time.time()\n",
    "\n",
    "execution_time = end_time - start_time\n",
    "print(f\"Execution Time: {execution_time} seconds\")"
   ]
  },
  {
   "cell_type": "code",
   "execution_count": 3,
   "id": "294e93d4",
   "metadata": {},
   "outputs": [
    {
     "name": "stdout",
     "output_type": "stream",
     "text": [
      "Last update : 2024-02-02\n"
     ]
    }
   ],
   "source": [
    "# Get the current date\n",
    "current_date = datetime.now().date()\n",
    "\n",
    "# Print the current date\n",
    "print(\"Last update :\", current_date)"
   ]
  }
 ],
 "metadata": {
  "celltoolbar": "Slideshow",
  "kernelspec": {
   "display_name": "Python 3",
   "language": "python",
   "name": "python3"
  },
  "language_info": {
   "codemirror_mode": {
    "name": "ipython",
    "version": 3
   },
   "file_extension": ".py",
   "mimetype": "text/x-python",
   "name": "python",
   "nbconvert_exporter": "python",
   "pygments_lexer": "ipython3",
   "version": "3.9.13"
  }
 },
 "nbformat": 4,
 "nbformat_minor": 5
}
