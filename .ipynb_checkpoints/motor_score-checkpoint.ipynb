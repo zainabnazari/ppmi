{
 "cells": [
  {
   "cell_type": "markdown",
   "id": "6099c14b",
   "metadata": {},
   "source": [
    "# Motor Score (UPDRS) analysis of PPMI \n"
   ]
  },
  {
   "cell_type": "code",
   "execution_count": null,
   "id": "a53b3a87",
   "metadata": {},
   "outputs": [],
   "source": [
    "import pandas as pd\n",
    "import numpy as np\n",
    "import os\n",
    "from pathlib import Path\n",
    "import matplotlib.pyplot as plt\n",
    "from datetime import datetime\n",
    "\n",
    "from sklearn.model_selection import train_test_split\n",
    "\n",
    "from sklearn.metrics import roc_curve, roc_auc_score\n",
    "\n",
    "from sklearn.preprocessing import LabelEncoder\n",
    "from xgboost import XGBClassifier"
   ]
  },
  {
   "cell_type": "code",
   "execution_count": null,
   "id": "3c33c11d",
   "metadata": {},
   "outputs": [],
   "source": [
    "path2 = Path(\"/scratch/znazari/PPMI_ver_sep2022/study_data/motor_score\")\n",
    "path_ = Path(\"/home/znazari/data/\")# the path to the saved data"
   ]
  },
  {
   "cell_type": "code",
   "execution_count": null,
   "id": "eb27535c",
   "metadata": {},
   "outputs": [],
   "source": [
    "# Display all the file in the motor_score folder of study_data of PPMI\n",
    "content_list = os.listdir(path2)\n",
    "content_list"
   ]
  },
  {
   "cell_type": "markdown",
   "id": "848e1f33",
   "metadata": {},
   "source": [
    "Take the final total score of UPDRS part I, II, III"
   ]
  },
  {
   "cell_type": "code",
   "execution_count": null,
   "id": "e9a324ab",
   "metadata": {},
   "outputs": [],
   "source": [
    "motor_score_main = pd.read_csv(path_/\"intersect_PatNo_MDS_UPDRS_I_Ipat_IIpat_III_TotScores_only_BL_no_empty_Class_PD_HC_no_UR_value.txt\",delimiter='\\t')"
   ]
  },
  {
   "cell_type": "code",
   "execution_count": null,
   "id": "afb4b386",
   "metadata": {},
   "outputs": [],
   "source": [
    "motor_score_part1 = pd.read_csv(path2/\"MDS-UPDRS_Part_I_Patient_Questionnaire.csv\",delimiter=',')\n",
    "\n",
    "motor_score_part1"
   ]
  },
  {
   "cell_type": "code",
   "execution_count": null,
   "id": "e3cbd7a1",
   "metadata": {},
   "outputs": [],
   "source": [
    "# ML on the final data file \n",
    "\n",
    "# Separate features (X) and target variable (y)\n",
    "X = motor_score_main[['NP1RTOT', 'NP1PTOT', 'NP2PTOT','NP3TOT']]\n",
    "y = motor_score_main['Class']\n",
    "\n",
    "# Convert diagnosis labels to numeric values using LabelEncoder\n",
    "label_encoder = LabelEncoder()\n",
    "y_encoded = label_encoder.fit_transform(y)\n",
    "\n",
    "# Set the number of runs\n",
    "num_runs = 21\n",
    "\n",
    "# Initialize lists to store AUC scores and fpr, tpr values for each run\n",
    "auc_scores = []\n",
    "all_fpr, all_tpr = [], []\n",
    "\n",
    "# Plot all ROC curves with grey plots first\n",
    "plt.figure(figsize=(10, 8))\n",
    "for i in range(num_runs):\n",
    "    seed = i + 1  # Use different seeds\n",
    "    X_train, X_test, y_train, y_test = train_test_split(X, y_encoded, test_size=0.3, random_state=seed)\n",
    "\n",
    "    # Initialize and train the XGBoost model\n",
    "    xgb_model = XGBClassifier(random_state=seed, n_jobs=-1, max_depth=3)  # Add your parameters here\n",
    "    xgb_model.fit(X_train, y_train)\n",
    "\n",
    "    # Make predictions on the testing set\n",
    "    y_pred_proba = xgb_model.predict_proba(X_test)[:, 1]\n",
    "\n",
    "    # Calculate AUC score\n",
    "    auc_score = roc_auc_score(y_test, y_pred_proba)\n",
    "    auc_scores.append(auc_score)\n",
    "\n",
    "    # Calculate ROC curve\n",
    "    fpr, tpr, _ = roc_curve(y_test, y_pred_proba)\n",
    "    all_fpr.append(fpr)\n",
    "    all_tpr.append(tpr)\n",
    "\n",
    "    # If not the last run, plot a grey curve\n",
    "    if i != num_runs - 1:\n",
    "        color = 'lightgrey'\n",
    "        plt.plot(all_fpr[i], all_tpr[i], lw=2, color=color)\n",
    "\n",
    "# Find the index of the plot with the median AUC score\n",
    "median_index = np.argsort(auc_scores)[num_runs // 2]\n",
    "\n",
    "# Plot the median curve in blue\n",
    "plt.plot(all_fpr[median_index], all_tpr[median_index], lw=2, color='purple', label=f'Median Run (AUC = {auc_scores[median_index]:.2f})')\n",
    "\n",
    "plt.plot([0, 1], [0, 1], color='orange', lw=2, linestyle='--')\n",
    "plt.xlabel('False Positive Rate')\n",
    "plt.ylabel('True Positive Rate')\n",
    "plt.title('Receiver Operating Characteristic (ROC) Curves for 21 Runs')\n",
    "plt.legend(loc='lower right')\n",
    "\n",
    "plt.tight_layout()\n",
    "plt.show()\n"
   ]
  },
  {
   "cell_type": "code",
   "execution_count": null,
   "id": "f295bb12",
   "metadata": {
    "scrolled": false
   },
   "outputs": [],
   "source": [
    "motor_score_1 = pd.read_csv(path2/\"MDS-UPDRS_Part_I.csv\",delimiter=',')"
   ]
  },
  {
   "cell_type": "code",
   "execution_count": null,
   "id": "189d3ecf",
   "metadata": {},
   "outputs": [],
   "source": [
    "motor_score_2 = pd.read_csv(path2/\"MDS_UPDRS_Part_II__Patient_Questionnaire.csv\",delimiter=',')"
   ]
  },
  {
   "cell_type": "code",
   "execution_count": null,
   "id": "626c527c",
   "metadata": {},
   "outputs": [],
   "source": [
    "motor_score_3 = pd.read_csv(path2/\"MDS_UPDRS_Part_III.csv\",delimiter=',', low_memory=False)"
   ]
  },
  {
   "cell_type": "code",
   "execution_count": null,
   "id": "69447579",
   "metadata": {},
   "outputs": [],
   "source": [
    "motor_score_4 = pd.read_csv(path2/\"MDS-UPDRS_Part_IV__Motor_Complications.csv\",delimiter=',', low_memory=False)"
   ]
  },
  {
   "cell_type": "code",
   "execution_count": null,
   "id": "44ff3b0f",
   "metadata": {},
   "outputs": [],
   "source": [
    "motor_score_5 = pd.read_csv(path2/\"Participant_Motor_Function_Questionnaire.csv\",delimiter=',', low_memory=False)"
   ]
  },
  {
   "cell_type": "code",
   "execution_count": null,
   "id": "bc7bee60",
   "metadata": {
    "scrolled": true
   },
   "outputs": [],
   "source": [
    "# Extract rows with 'BL' in the 'EVENT_ID' column\n",
    "filtered_data = motor_score_1[motor_score_1['EVENT_ID'].str.contains('BL')]\n",
    "\n",
    "# Select only the 'PATNO' and 'NP1RTOT' columns\n",
    "columns_=['PATNO', 'NP1COG','NP1HALL','NP1DPRS','NP1ANXS','NP1APAT','NP1DDS']\n",
    "result = filtered_data[columns_]"
   ]
  },
  {
   "cell_type": "code",
   "execution_count": null,
   "id": "df1ac0ad",
   "metadata": {},
   "outputs": [],
   "source": [
    "# Get the current date\n",
    "current_date = datetime.now().date()\n",
    "\n",
    "# Print the current date\n",
    "print(\"Last update :\", current_date)"
   ]
  }
 ],
 "metadata": {
  "kernelspec": {
   "display_name": "Python 3",
   "language": "python",
   "name": "python3"
  },
  "language_info": {
   "codemirror_mode": {
    "name": "ipython",
    "version": 3
   },
   "file_extension": ".py",
   "mimetype": "text/x-python",
   "name": "python",
   "nbconvert_exporter": "python",
   "pygments_lexer": "ipython3",
   "version": "3.9.13"
  }
 },
 "nbformat": 4,
 "nbformat_minor": 5
}
