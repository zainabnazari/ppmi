{
 "cells": [
  {
   "cell_type": "code",
   "execution_count": 1,
   "id": "5c7b8ba7",
   "metadata": {},
   "outputs": [],
   "source": [
    "import pandas as pd\n",
    "import numpy as np\n",
    "from pathlib import Path\n",
    "import functools"
   ]
  },
  {
   "cell_type": "code",
   "execution_count": 2,
   "id": "83382e29",
   "metadata": {},
   "outputs": [],
   "source": [
    "path1=Path(\"/scratch/znazari/PPMI_ver_sep2022/RNA_Seq_data/star_ir2/counts/\")"
   ]
  },
  {
   "cell_type": "code",
   "execution_count": 3,
   "id": "89bc7b69",
   "metadata": {},
   "outputs": [],
   "source": [
    "bl_files=pd.read_csv(path1/\"n_bl.txt\", header=None )"
   ]
  },
  {
   "cell_type": "code",
   "execution_count": 4,
   "id": "1017a70f",
   "metadata": {},
   "outputs": [],
   "source": [
    "def function_names(fname):\n",
    "    tokens=fname.split('.')\n",
    "    return tokens[1] "
   ]
  },
  {
   "cell_type": "code",
   "execution_count": 5,
   "id": "702c927c",
   "metadata": {},
   "outputs": [],
   "source": [
    "bl_list=[]\n",
    "for i in range(len(bl_files)):\n",
    "    bl_list=bl_list+[function_names(bl_files.iloc[i][0])]\n",
    "    "
   ]
  },
  {
   "cell_type": "code",
   "execution_count": 6,
   "id": "5f6f7e3c",
   "metadata": {},
   "outputs": [
    {
     "data": {
      "text/plain": [
       "['3016', '3020', '3023', '3024', '3026']"
      ]
     },
     "execution_count": 6,
     "metadata": {},
     "output_type": "execute_result"
    }
   ],
   "source": [
    "bl_list"
   ]
  },
  {
   "cell_type": "code",
   "execution_count": 7,
   "id": "19bcdca0",
   "metadata": {},
   "outputs": [
    {
     "name": "stdout",
     "output_type": "stream",
     "text": [
      "2.15 s ± 25.3 ms per loop (mean ± std. dev. of 7 runs, 1 loop each)\n"
     ]
    }
   ],
   "source": [
    "%%timeit\n",
    "list_bl_files=[]\n",
    "for i in range(len(bl_files)):\n",
    "    list_bl_files=list_bl_files+[pd.read_csv(path1/bl_files.iloc[i][0],skiprows=1,delimiter='\\t', index_col=[0])]"
   ]
  },
  {
   "cell_type": "code",
   "execution_count": 8,
   "id": "db079932",
   "metadata": {},
   "outputs": [
    {
     "ename": "NameError",
     "evalue": "name 'list_bl_files' is not defined",
     "output_type": "error",
     "traceback": [
      "\u001b[0;31m---------------------------------------------------------------------------\u001b[0m",
      "\u001b[0;31mNameError\u001b[0m                                 Traceback (most recent call last)",
      "\u001b[0;32m/tmp/ipykernel_23612/4229674700.py\u001b[0m in \u001b[0;36m<module>\u001b[0;34m\u001b[0m\n\u001b[0;32m----> 1\u001b[0;31m \u001b[0mlist_bl_files\u001b[0m\u001b[0;34m[\u001b[0m\u001b[0;36m0\u001b[0m\u001b[0;34m]\u001b[0m\u001b[0;34m\u001b[0m\u001b[0;34m\u001b[0m\u001b[0m\n\u001b[0m",
      "\u001b[0;31mNameError\u001b[0m: name 'list_bl_files' is not defined"
     ]
    }
   ],
   "source": [
    "list_bl_files[0]"
   ]
  },
  {
   "cell_type": "code",
   "execution_count": null,
   "id": "a9cbfb07",
   "metadata": {},
   "outputs": [],
   "source": [
    "hi_check=pd.read_csv(path1/bl_files.iloc[2][0],skiprows=1,delimiter='\\t', index_col=[0])"
   ]
  },
  {
   "cell_type": "code",
   "execution_count": null,
   "id": "38cc1b19",
   "metadata": {},
   "outputs": [],
   "source": [
    "hi_check.iloc[:,-1:]"
   ]
  },
  {
   "cell_type": "code",
   "execution_count": null,
   "id": "3d65e3fd",
   "metadata": {},
   "outputs": [],
   "source": [
    "list_bl_files[0]"
   ]
  },
  {
   "cell_type": "code",
   "execution_count": null,
   "id": "6bf61245",
   "metadata": {},
   "outputs": [],
   "source": [
    "def merge(a,b):\n",
    "    a.iloc[:,-1:].reset_index(drop=False).merge(b.iloc[:,-2:-1].reset_index(drop=True), left_index=True, right_index=True)\n",
    "    return a\n"
   ]
  },
  {
   "cell_type": "code",
   "execution_count": null,
   "id": "21f42a4c",
   "metadata": {},
   "outputs": [],
   "source": [
    "for i in range(len(bl_list)):\n",
    "    list_bl_files[i].columns = list(list_bl_files[i].columns[:-1])+[bl_list[i]]"
   ]
  },
  {
   "cell_type": "code",
   "execution_count": null,
   "id": "68b5aa93",
   "metadata": {},
   "outputs": [],
   "source": [
    "first_two_elements_merge=list_bl_files[0].iloc[:,-1:].reset_index(drop=False).merge(list_bl_files[1].iloc[:,-1:].reset_index(drop=True), left_index=True, right_index=True)\n"
   ]
  },
  {
   "cell_type": "code",
   "execution_count": null,
   "id": "b05ab54d",
   "metadata": {},
   "outputs": [],
   "source": [
    "list_bl_files_conv=[first_two_elements_merge]+list_bl_files[2:]\n",
    "def merge_df(a,b):\n",
    "    return a.reset_index(drop=True).merge(b.iloc[:,-1:].reset_index(drop=True),left_index=True, right_index=True)\n",
    "merged=functools.reduce(merge_df,list_bl_files_conv)"
   ]
  },
  {
   "cell_type": "code",
   "execution_count": null,
   "id": "b3eaca81",
   "metadata": {},
   "outputs": [],
   "source": [
    "print(merged)"
   ]
  },
  {
   "cell_type": "code",
   "execution_count": null,
   "id": "c6b86c9a",
   "metadata": {},
   "outputs": [],
   "source": [
    "merged.to_excel(\"oh_n_bl_matrix.xlsx\", sheet_name=\"n_bl\", index=False)"
   ]
  },
  {
   "cell_type": "code",
   "execution_count": null,
   "id": "e1449283",
   "metadata": {},
   "outputs": [],
   "source": []
  }
 ],
 "metadata": {
  "kernelspec": {
   "display_name": "Python 3",
   "language": "python",
   "name": "python3"
  },
  "language_info": {
   "codemirror_mode": {
    "name": "ipython",
    "version": 3
   },
   "file_extension": ".py",
   "mimetype": "text/x-python",
   "name": "python",
   "nbconvert_exporter": "python",
   "pygments_lexer": "ipython3",
   "version": "3.9.13"
  }
 },
 "nbformat": 4,
 "nbformat_minor": 5
}
