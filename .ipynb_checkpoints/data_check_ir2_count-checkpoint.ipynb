{
 "cells": [
  {
   "cell_type": "markdown",
   "id": "fe6bace1",
   "metadata": {},
   "source": [
    "**In this part we take the matrix we created for BL count IR2 and make a matrix with new PIDs**\n",
    "\n"
   ]
  },
  {
   "cell_type": "code",
   "execution_count": 1,
   "id": "5c7b8ba7",
   "metadata": {},
   "outputs": [],
   "source": [
    "import pandas as pd\n",
    "import numpy as np\n",
    "from pathlib import Path\n",
    "import functools"
   ]
  },
  {
   "cell_type": "markdown",
   "id": "ab095bad",
   "metadata": {},
   "source": [
    "Here we upload the the big diagnosis that we have created previously."
   ]
  },
  {
   "cell_type": "code",
   "execution_count": 2,
   "id": "e1a243f2",
   "metadata": {},
   "outputs": [],
   "source": [
    "final2=pd.read_csv(\"final.csv\", header=None,index_col=[0])"
   ]
  },
  {
   "cell_type": "markdown",
   "id": "f09dd433",
   "metadata": {},
   "source": [
    "we make it readable order that we need to have with making the columns in appropriate way."
   ]
  },
  {
   "cell_type": "code",
   "execution_count": 3,
   "id": "c51ab88f",
   "metadata": {},
   "outputs": [
    {
     "data": {
      "text/html": [
       "<div>\n",
       "<style scoped>\n",
       "    .dataframe tbody tr th:only-of-type {\n",
       "        vertical-align: middle;\n",
       "    }\n",
       "\n",
       "    .dataframe tbody tr th {\n",
       "        vertical-align: top;\n",
       "    }\n",
       "\n",
       "    .dataframe thead th {\n",
       "        text-align: right;\n",
       "    }\n",
       "</style>\n",
       "<table border=\"1\" class=\"dataframe\">\n",
       "  <thead>\n",
       "    <tr style=\"text-align: right;\">\n",
       "      <th></th>\n",
       "      <th>PATNO</th>\n",
       "      <th>AGE_AT_VISIT</th>\n",
       "      <th>AFICBERB</th>\n",
       "      <th>ASHKJEW</th>\n",
       "      <th>BASQUE</th>\n",
       "      <th>BIRTHDT</th>\n",
       "      <th>SEX</th>\n",
       "      <th>CHLDBEAR</th>\n",
       "      <th>HANDED</th>\n",
       "      <th>HISPLAT</th>\n",
       "      <th>RAASIAN</th>\n",
       "      <th>RABLACK</th>\n",
       "      <th>RAHAWOPI</th>\n",
       "      <th>RAINDALS</th>\n",
       "      <th>RANOS</th>\n",
       "      <th>RAWHITE</th>\n",
       "      <th>COHORT_DEFINITION</th>\n",
       "    </tr>\n",
       "  </thead>\n",
       "  <tbody>\n",
       "    <tr>\n",
       "      <th>0</th>\n",
       "      <td>3000</td>\n",
       "      <td>69.1</td>\n",
       "      <td>0</td>\n",
       "      <td>0</td>\n",
       "      <td>0</td>\n",
       "      <td>12/1941</td>\n",
       "      <td>0</td>\n",
       "      <td>0</td>\n",
       "      <td>1</td>\n",
       "      <td>0</td>\n",
       "      <td>0</td>\n",
       "      <td>0</td>\n",
       "      <td>0</td>\n",
       "      <td>0</td>\n",
       "      <td>0</td>\n",
       "      <td>1</td>\n",
       "      <td>Healthy Control</td>\n",
       "    </tr>\n",
       "    <tr>\n",
       "      <th>1</th>\n",
       "      <td>3001</td>\n",
       "      <td>65.1</td>\n",
       "      <td>0</td>\n",
       "      <td>0</td>\n",
       "      <td>0</td>\n",
       "      <td>01/1946</td>\n",
       "      <td>1</td>\n",
       "      <td>NaN</td>\n",
       "      <td>2</td>\n",
       "      <td>0</td>\n",
       "      <td>0</td>\n",
       "      <td>0</td>\n",
       "      <td>0</td>\n",
       "      <td>0</td>\n",
       "      <td>0</td>\n",
       "      <td>1</td>\n",
       "      <td>Parkinson's Disease</td>\n",
       "    </tr>\n",
       "    <tr>\n",
       "      <th>2</th>\n",
       "      <td>3002</td>\n",
       "      <td>67.6</td>\n",
       "      <td>0</td>\n",
       "      <td>0</td>\n",
       "      <td>0</td>\n",
       "      <td>08/1943</td>\n",
       "      <td>0</td>\n",
       "      <td>0</td>\n",
       "      <td>1</td>\n",
       "      <td>0</td>\n",
       "      <td>0</td>\n",
       "      <td>0</td>\n",
       "      <td>0</td>\n",
       "      <td>0</td>\n",
       "      <td>0</td>\n",
       "      <td>1</td>\n",
       "      <td>Parkinson's Disease</td>\n",
       "    </tr>\n",
       "    <tr>\n",
       "      <th>3</th>\n",
       "      <td>3003</td>\n",
       "      <td>56.7</td>\n",
       "      <td>0</td>\n",
       "      <td>0</td>\n",
       "      <td>0</td>\n",
       "      <td>07/1954</td>\n",
       "      <td>0</td>\n",
       "      <td>0</td>\n",
       "      <td>1</td>\n",
       "      <td>0</td>\n",
       "      <td>0</td>\n",
       "      <td>0</td>\n",
       "      <td>0</td>\n",
       "      <td>0</td>\n",
       "      <td>0</td>\n",
       "      <td>1</td>\n",
       "      <td>Parkinson's Disease</td>\n",
       "    </tr>\n",
       "    <tr>\n",
       "      <th>4</th>\n",
       "      <td>3004</td>\n",
       "      <td>59.4</td>\n",
       "      <td>0</td>\n",
       "      <td>0</td>\n",
       "      <td>0</td>\n",
       "      <td>11/1951</td>\n",
       "      <td>1</td>\n",
       "      <td>NaN</td>\n",
       "      <td>1</td>\n",
       "      <td>0</td>\n",
       "      <td>0</td>\n",
       "      <td>0</td>\n",
       "      <td>0</td>\n",
       "      <td>0</td>\n",
       "      <td>0</td>\n",
       "      <td>1</td>\n",
       "      <td>Healthy Control</td>\n",
       "    </tr>\n",
       "    <tr>\n",
       "      <th>...</th>\n",
       "      <td>...</td>\n",
       "      <td>...</td>\n",
       "      <td>...</td>\n",
       "      <td>...</td>\n",
       "      <td>...</td>\n",
       "      <td>...</td>\n",
       "      <td>...</td>\n",
       "      <td>...</td>\n",
       "      <td>...</td>\n",
       "      <td>...</td>\n",
       "      <td>...</td>\n",
       "      <td>...</td>\n",
       "      <td>...</td>\n",
       "      <td>...</td>\n",
       "      <td>...</td>\n",
       "      <td>...</td>\n",
       "      <td>...</td>\n",
       "    </tr>\n",
       "    <tr>\n",
       "      <th>1926</th>\n",
       "      <td>160252</td>\n",
       "      <td>80.3</td>\n",
       "      <td>0</td>\n",
       "      <td>0</td>\n",
       "      <td>0</td>\n",
       "      <td>05/1942</td>\n",
       "      <td>1</td>\n",
       "      <td>NaN</td>\n",
       "      <td>1</td>\n",
       "      <td>0</td>\n",
       "      <td>0</td>\n",
       "      <td>0</td>\n",
       "      <td>0</td>\n",
       "      <td>0</td>\n",
       "      <td>0</td>\n",
       "      <td>1</td>\n",
       "      <td>Parkinson's Disease</td>\n",
       "    </tr>\n",
       "    <tr>\n",
       "      <th>1927</th>\n",
       "      <td>161236</td>\n",
       "      <td>55.6</td>\n",
       "      <td>0</td>\n",
       "      <td>0</td>\n",
       "      <td>0</td>\n",
       "      <td>01/1967</td>\n",
       "      <td>1</td>\n",
       "      <td>NaN</td>\n",
       "      <td>1</td>\n",
       "      <td>0</td>\n",
       "      <td>0</td>\n",
       "      <td>0</td>\n",
       "      <td>0</td>\n",
       "      <td>0</td>\n",
       "      <td>0</td>\n",
       "      <td>1</td>\n",
       "      <td>Parkinson's Disease</td>\n",
       "    </tr>\n",
       "    <tr>\n",
       "      <th>1928</th>\n",
       "      <td>162140</td>\n",
       "      <td>68.8</td>\n",
       "      <td>0</td>\n",
       "      <td>0</td>\n",
       "      <td>0</td>\n",
       "      <td>10/1953</td>\n",
       "      <td>1</td>\n",
       "      <td>NaN</td>\n",
       "      <td>1</td>\n",
       "      <td>0</td>\n",
       "      <td>0</td>\n",
       "      <td>0</td>\n",
       "      <td>0</td>\n",
       "      <td>0</td>\n",
       "      <td>0</td>\n",
       "      <td>1</td>\n",
       "      <td>Prodromal</td>\n",
       "    </tr>\n",
       "    <tr>\n",
       "      <th>1929</th>\n",
       "      <td>162905</td>\n",
       "      <td>45.2</td>\n",
       "      <td>0</td>\n",
       "      <td>0</td>\n",
       "      <td>0</td>\n",
       "      <td>06/1977</td>\n",
       "      <td>1</td>\n",
       "      <td>NaN</td>\n",
       "      <td>1</td>\n",
       "      <td>0</td>\n",
       "      <td>0</td>\n",
       "      <td>1</td>\n",
       "      <td>0</td>\n",
       "      <td>0</td>\n",
       "      <td>0</td>\n",
       "      <td>0</td>\n",
       "      <td>Healthy Control</td>\n",
       "    </tr>\n",
       "    <tr>\n",
       "      <th>1930</th>\n",
       "      <td>162929</td>\n",
       "      <td>84.6</td>\n",
       "      <td>0</td>\n",
       "      <td>0</td>\n",
       "      <td>0</td>\n",
       "      <td>01/1938</td>\n",
       "      <td>1</td>\n",
       "      <td>NaN</td>\n",
       "      <td>1</td>\n",
       "      <td>0</td>\n",
       "      <td>0</td>\n",
       "      <td>0</td>\n",
       "      <td>0</td>\n",
       "      <td>0</td>\n",
       "      <td>0</td>\n",
       "      <td>1</td>\n",
       "      <td>Parkinson's Disease</td>\n",
       "    </tr>\n",
       "  </tbody>\n",
       "</table>\n",
       "<p>1931 rows × 17 columns</p>\n",
       "</div>"
      ],
      "text/plain": [
       "       PATNO AGE_AT_VISIT AFICBERB ASHKJEW BASQUE  BIRTHDT SEX CHLDBEAR  \\\n",
       "0       3000         69.1        0       0      0  12/1941   0        0   \n",
       "1       3001         65.1        0       0      0  01/1946   1      NaN   \n",
       "2       3002         67.6        0       0      0  08/1943   0        0   \n",
       "3       3003         56.7        0       0      0  07/1954   0        0   \n",
       "4       3004         59.4        0       0      0  11/1951   1      NaN   \n",
       "...      ...          ...      ...     ...    ...      ...  ..      ...   \n",
       "1926  160252         80.3        0       0      0  05/1942   1      NaN   \n",
       "1927  161236         55.6        0       0      0  01/1967   1      NaN   \n",
       "1928  162140         68.8        0       0      0  10/1953   1      NaN   \n",
       "1929  162905         45.2        0       0      0  06/1977   1      NaN   \n",
       "1930  162929         84.6        0       0      0  01/1938   1      NaN   \n",
       "\n",
       "     HANDED HISPLAT RAASIAN RABLACK RAHAWOPI RAINDALS RANOS RAWHITE  \\\n",
       "0         1       0       0       0        0        0     0       1   \n",
       "1         2       0       0       0        0        0     0       1   \n",
       "2         1       0       0       0        0        0     0       1   \n",
       "3         1       0       0       0        0        0     0       1   \n",
       "4         1       0       0       0        0        0     0       1   \n",
       "...     ...     ...     ...     ...      ...      ...   ...     ...   \n",
       "1926      1       0       0       0        0        0     0       1   \n",
       "1927      1       0       0       0        0        0     0       1   \n",
       "1928      1       0       0       0        0        0     0       1   \n",
       "1929      1       0       0       1        0        0     0       0   \n",
       "1930      1       0       0       0        0        0     0       1   \n",
       "\n",
       "        COHORT_DEFINITION  \n",
       "0         Healthy Control  \n",
       "1     Parkinson's Disease  \n",
       "2     Parkinson's Disease  \n",
       "3     Parkinson's Disease  \n",
       "4         Healthy Control  \n",
       "...                   ...  \n",
       "1926  Parkinson's Disease  \n",
       "1927  Parkinson's Disease  \n",
       "1928            Prodromal  \n",
       "1929      Healthy Control  \n",
       "1930  Parkinson's Disease  \n",
       "\n",
       "[1931 rows x 17 columns]"
      ]
     },
     "execution_count": 3,
     "metadata": {},
     "output_type": "execute_result"
    }
   ],
   "source": [
    "final=final2.rename(columns=final2.iloc[0]).drop(final2.index[0]).reset_index(drop=True)\n",
    "final"
   ]
  },
  {
   "cell_type": "markdown",
   "id": "e363aeb6",
   "metadata": {},
   "source": [
    "We read off the raw matrix that we have created previously, they usually contain more patient that we have their diagnosis."
   ]
  },
  {
   "cell_type": "code",
   "execution_count": 4,
   "id": "0c564117",
   "metadata": {},
   "outputs": [
    {
     "ename": "NameError",
     "evalue": "name 'path_data' is not defined",
     "output_type": "error",
     "traceback": [
      "\u001b[0;31m---------------------------------------------------------------------------\u001b[0m",
      "\u001b[0;31mNameError\u001b[0m                                 Traceback (most recent call last)",
      "\u001b[0;32m/tmp/ipykernel_31214/2619202293.py\u001b[0m in \u001b[0;36m<module>\u001b[0;34m\u001b[0m\n\u001b[0;32m----> 1\u001b[0;31m \u001b[0mbl_matrix\u001b[0m\u001b[0;34m=\u001b[0m\u001b[0mpd\u001b[0m\u001b[0;34m.\u001b[0m\u001b[0mread_csv\u001b[0m\u001b[0;34m(\u001b[0m\u001b[0mpath_data\u001b[0m\u001b[0;34m/\u001b[0m\u001b[0;34m\"bl_matrix_counts_ir2.txt\"\u001b[0m\u001b[0;34m,\u001b[0m \u001b[0mheader\u001b[0m\u001b[0;34m=\u001b[0m\u001b[0;32mNone\u001b[0m\u001b[0;34m,\u001b[0m \u001b[0mlow_memory\u001b[0m\u001b[0;34m=\u001b[0m\u001b[0;32mFalse\u001b[0m\u001b[0;34m)\u001b[0m\u001b[0;34m\u001b[0m\u001b[0;34m\u001b[0m\u001b[0m\n\u001b[0m",
      "\u001b[0;31mNameError\u001b[0m: name 'path_data' is not defined"
     ]
    }
   ],
   "source": [
    "bl_matrix=pd.read_csv(path_data/\"bl_matrix_counts_ir2.txt\", header=None, low_memory=False)\n"
   ]
  },
  {
   "cell_type": "markdown",
   "id": "64d6c756",
   "metadata": {},
   "source": [
    "We resolve some problem that we have encoutered for reading the file"
   ]
  },
  {
   "cell_type": "code",
   "execution_count": null,
   "id": "18fdfc83",
   "metadata": {},
   "outputs": [],
   "source": [
    "bl_matrix2=bl_matrix.rename(columns=bl_matrix.iloc[0]).drop(bl_matrix.index[0]).reset_index(drop=True)"
   ]
  },
  {
   "cell_type": "code",
   "execution_count": null,
   "id": "85d9d5ba",
   "metadata": {},
   "outputs": [],
   "source": [
    "bl_matrix2['Geneid']"
   ]
  },
  {
   "cell_type": "markdown",
   "id": "1ac3d84d",
   "metadata": {},
   "source": [
    "Then we read the list of pateint that we have which is big and their diagnosis is not necessary available in the diagnosis matrix."
   ]
  },
  {
   "cell_type": "code",
   "execution_count": null,
   "id": "7ce1d487",
   "metadata": {},
   "outputs": [],
   "source": [
    "path1=Path(\"/scratch/znazari/PPMI_ver_sep2022/RNA_Seq_data/star_ir2/counts/\")"
   ]
  },
  {
   "cell_type": "code",
   "execution_count": null,
   "id": "e9df85c2",
   "metadata": {},
   "outputs": [],
   "source": [
    "bl_files=pd.read_csv(path1/\"bl.txt\", header=None )"
   ]
  },
  {
   "cell_type": "code",
   "execution_count": null,
   "id": "50be6b5a",
   "metadata": {},
   "outputs": [],
   "source": [
    "def function_names(fname):\n",
    "    tokens=fname.split('.')\n",
    "    return tokens[1]"
   ]
  },
  {
   "cell_type": "markdown",
   "id": "e2edfa73",
   "metadata": {},
   "source": [
    "Below we will have the list of the patient IDs that are still larger than what is supposed to be."
   ]
  },
  {
   "cell_type": "code",
   "execution_count": null,
   "id": "897259c0",
   "metadata": {},
   "outputs": [],
   "source": [
    "bl_list=[]\n",
    "for i in range(len(bl_files)):\n",
    "    bl_list=bl_list+[function_names(bl_files.iloc[i][0])]"
   ]
  },
  {
   "cell_type": "markdown",
   "id": "6627b6e4",
   "metadata": {},
   "source": [
    "Below we ar going to have all the patients that we have their IDs and diagnosis."
   ]
  },
  {
   "cell_type": "code",
   "execution_count": null,
   "id": "54381093",
   "metadata": {},
   "outputs": [],
   "source": [
    "patient_diagonises=final[['PATNO','COHORT_DEFINITION']]\n",
    "patient_diagonises"
   ]
  },
  {
   "cell_type": "code",
   "execution_count": null,
   "id": "fca8bab7",
   "metadata": {},
   "outputs": [],
   "source": [
    "big_patients=list(patient_diagonises['PATNO'])\n",
    "len(big_patients)"
   ]
  },
  {
   "cell_type": "markdown",
   "id": "b6d09fd2",
   "metadata": {},
   "source": [
    "Below we are going to check how many of those patients that we initially get from the files of the RNA-seq are actually have their diagnosis in the big list of patients with their diagnosis."
   ]
  },
  {
   "cell_type": "code",
   "execution_count": null,
   "id": "3dcd000a",
   "metadata": {},
   "outputs": [],
   "source": [
    "contains=[]\n",
    "not_contains=[]\n",
    "for i in bl_list:\n",
    "    if i in big_patients:\n",
    "        contains+=[i]\n",
    "    else:\n",
    "        not_contains+=[i]"
   ]
  },
  {
   "cell_type": "markdown",
   "id": "562a62ec",
   "metadata": {},
   "source": [
    "Below we neet to get all the patient IDs which are represented as \"string\" to be presented as type integer, as it was for the list that we had in the orginal RNA-seq matrices."
   ]
  },
  {
   "cell_type": "code",
   "execution_count": null,
   "id": "bae59df6",
   "metadata": {},
   "outputs": [],
   "source": [
    "r_contains=[int(x) for x in contains]"
   ]
  },
  {
   "cell_type": "markdown",
   "id": "ec5d5ef8",
   "metadata": {},
   "source": [
    "Below we just extract the list of patients that are in the big original diagnosis matrix."
   ]
  },
  {
   "cell_type": "code",
   "execution_count": null,
   "id": "dec70ac7",
   "metadata": {},
   "outputs": [],
   "source": [
    "bl_matrix3=bl_matrix2[r_contains]"
   ]
  },
  {
   "cell_type": "markdown",
   "id": "44976e35",
   "metadata": {},
   "source": [
    "Below we need to replace the geneID column that were missing previously."
   ]
  },
  {
   "cell_type": "code",
   "execution_count": null,
   "id": "e2bfa366",
   "metadata": {},
   "outputs": [],
   "source": [
    "bl_matrix3.insert(loc=0, column ='Geneid',value = bl_matrix2['Geneid'])"
   ]
  },
  {
   "cell_type": "markdown",
   "id": "e9a8e48c",
   "metadata": {},
   "source": [
    "Finally we write the result into a txt file."
   ]
  },
  {
   "cell_type": "code",
   "execution_count": null,
   "id": "7a7848d5",
   "metadata": {},
   "outputs": [],
   "source": [
    "path_data=Path(\"/scratch/znazari/new_jobs_counts_ir2/final_data_count/\")"
   ]
  },
  {
   "cell_type": "code",
   "execution_count": null,
   "id": "c8a24c55",
   "metadata": {},
   "outputs": [],
   "source": [
    "bl_matrix3.to_csv(path_data/\"ordered_bl_matrix_ir2_count.txt\")"
   ]
  },
  {
   "cell_type": "markdown",
   "id": "b2910f1c",
   "metadata": {},
   "source": [
    "There we go:"
   ]
  },
  {
   "cell_type": "code",
   "execution_count": null,
   "id": "265e8b94",
   "metadata": {},
   "outputs": [],
   "source": [
    "bl_matrix3"
   ]
  },
  {
   "cell_type": "code",
   "execution_count": null,
   "id": "f8525285",
   "metadata": {},
   "outputs": [],
   "source": []
  }
 ],
 "metadata": {
  "kernelspec": {
   "display_name": "Python 3",
   "language": "python",
   "name": "python3"
  },
  "language_info": {
   "codemirror_mode": {
    "name": "ipython",
    "version": 3
   },
   "file_extension": ".py",
   "mimetype": "text/x-python",
   "name": "python",
   "nbconvert_exporter": "python",
   "pygments_lexer": "ipython3",
   "version": "3.9.13"
  }
 },
 "nbformat": 4,
 "nbformat_minor": 5
}
