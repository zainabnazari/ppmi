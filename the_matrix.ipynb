{
 "cells": [
  {
   "cell_type": "code",
   "execution_count": 89,
   "id": "5c7b8ba7",
   "metadata": {},
   "outputs": [],
   "source": [
    "import pandas as pd\n",
    "import numpy as np\n",
    "from pathlib import Path\n",
    "import functools"
   ]
  },
  {
   "cell_type": "markdown",
   "id": "ab095bad",
   "metadata": {},
   "source": [
    "Here is the folder with all the subject characteristics that we might possibly need to have"
   ]
  },
  {
   "cell_type": "code",
   "execution_count": 90,
   "id": "83382e29",
   "metadata": {},
   "outputs": [],
   "source": [
    "path1=Path(\"/scratch/znazari/PPMI_ver_sep2022/study_data/Subject_Characteristics/\")"
   ]
  },
  {
   "cell_type": "markdown",
   "id": "5f91ed13",
   "metadata": {},
   "source": [
    "The problem with this file is that its subject row is not in the proper place."
   ]
  },
  {
   "cell_type": "code",
   "execution_count": 91,
   "id": "89bc7b69",
   "metadata": {},
   "outputs": [],
   "source": [
    "age_at_visit=pd.read_csv(path1/\"Age_at_visit.csv\", header=None )\n",
    "age_at_visit2=age_at_visit.rename(columns=age_at_visit.iloc[0]).drop(age_at_visit.index[0]).reset_index(drop=True)\n"
   ]
  },
  {
   "cell_type": "code",
   "execution_count": null,
   "id": "18fdfc83",
   "metadata": {},
   "outputs": [],
   "source": []
  },
  {
   "cell_type": "code",
   "execution_count": 93,
   "id": "6f2ea785",
   "metadata": {},
   "outputs": [],
   "source": [
    "age=pd.read_csv(path1/\"Demographics.csv\", header=None )\n",
    "age2=age.rename(columns=age.iloc[0]).drop(age.index[0]).reset_index(drop=True)"
   ]
  },
  {
   "cell_type": "code",
   "execution_count": null,
   "id": "265e8b94",
   "metadata": {},
   "outputs": [],
   "source": []
  },
  {
   "cell_type": "code",
   "execution_count": 94,
   "id": "8a95d21d",
   "metadata": {},
   "outputs": [],
   "source": [
    "diago=pd.read_csv(path1/\"Participant_Status.csv\", header=None )\n",
    "diago1=diago.rename(columns=diago.iloc[0]).drop(diago.index[0]).reset_index(drop=True)"
   ]
  },
  {
   "cell_type": "code",
   "execution_count": 95,
   "id": "cc89da93",
   "metadata": {},
   "outputs": [],
   "source": [
    "diago2=diago1[['PATNO','COHORT_DEFINITION']]"
   ]
  },
  {
   "cell_type": "code",
   "execution_count": 96,
   "id": "79fc3e55",
   "metadata": {},
   "outputs": [],
   "source": [
    "new_patient=list(diago2['PATNO'])"
   ]
  },
  {
   "cell_type": "code",
   "execution_count": null,
   "id": "2e5217bf",
   "metadata": {},
   "outputs": [],
   "source": []
  },
  {
   "cell_type": "code",
   "execution_count": 97,
   "id": "c1f7c42b",
   "metadata": {},
   "outputs": [
    {
     "data": {
      "text/html": [
       "<div>\n",
       "<style scoped>\n",
       "    .dataframe tbody tr th:only-of-type {\n",
       "        vertical-align: middle;\n",
       "    }\n",
       "\n",
       "    .dataframe tbody tr th {\n",
       "        vertical-align: top;\n",
       "    }\n",
       "\n",
       "    .dataframe thead th {\n",
       "        text-align: right;\n",
       "    }\n",
       "</style>\n",
       "<table border=\"1\" class=\"dataframe\">\n",
       "  <thead>\n",
       "    <tr style=\"text-align: right;\">\n",
       "      <th></th>\n",
       "      <th>PATNO</th>\n",
       "      <th>EVENT_ID</th>\n",
       "      <th>AGE_AT_VISIT</th>\n",
       "    </tr>\n",
       "  </thead>\n",
       "  <tbody>\n",
       "    <tr>\n",
       "      <th>0</th>\n",
       "      <td>3000</td>\n",
       "      <td>BL</td>\n",
       "      <td>69.1</td>\n",
       "    </tr>\n",
       "    <tr>\n",
       "      <th>18</th>\n",
       "      <td>3001</td>\n",
       "      <td>BL</td>\n",
       "      <td>65.1</td>\n",
       "    </tr>\n",
       "    <tr>\n",
       "      <th>37</th>\n",
       "      <td>3002</td>\n",
       "      <td>BL</td>\n",
       "      <td>67.6</td>\n",
       "    </tr>\n",
       "    <tr>\n",
       "      <th>55</th>\n",
       "      <td>3003</td>\n",
       "      <td>BL</td>\n",
       "      <td>56.7</td>\n",
       "    </tr>\n",
       "    <tr>\n",
       "      <th>74</th>\n",
       "      <td>3004</td>\n",
       "      <td>BL</td>\n",
       "      <td>59.4</td>\n",
       "    </tr>\n",
       "    <tr>\n",
       "      <th>...</th>\n",
       "      <td>...</td>\n",
       "      <td>...</td>\n",
       "      <td>...</td>\n",
       "    </tr>\n",
       "    <tr>\n",
       "      <th>19524</th>\n",
       "      <td>160252</td>\n",
       "      <td>BL</td>\n",
       "      <td>80.3</td>\n",
       "    </tr>\n",
       "    <tr>\n",
       "      <th>19530</th>\n",
       "      <td>161236</td>\n",
       "      <td>BL</td>\n",
       "      <td>55.6</td>\n",
       "    </tr>\n",
       "    <tr>\n",
       "      <th>19533</th>\n",
       "      <td>162140</td>\n",
       "      <td>BL</td>\n",
       "      <td>68.8</td>\n",
       "    </tr>\n",
       "    <tr>\n",
       "      <th>19539</th>\n",
       "      <td>162905</td>\n",
       "      <td>BL</td>\n",
       "      <td>45.2</td>\n",
       "    </tr>\n",
       "    <tr>\n",
       "      <th>19541</th>\n",
       "      <td>162929</td>\n",
       "      <td>BL</td>\n",
       "      <td>84.6</td>\n",
       "    </tr>\n",
       "  </tbody>\n",
       "</table>\n",
       "<p>1931 rows × 3 columns</p>\n",
       "</div>"
      ],
      "text/plain": [
       "        PATNO EVENT_ID AGE_AT_VISIT\n",
       "0        3000       BL         69.1\n",
       "18       3001       BL         65.1\n",
       "37       3002       BL         67.6\n",
       "55       3003       BL         56.7\n",
       "74       3004       BL         59.4\n",
       "...       ...      ...          ...\n",
       "19524  160252       BL         80.3\n",
       "19530  161236       BL         55.6\n",
       "19533  162140       BL         68.8\n",
       "19539  162905       BL         45.2\n",
       "19541  162929       BL         84.6\n",
       "\n",
       "[1931 rows x 3 columns]"
      ]
     },
     "execution_count": 97,
     "metadata": {},
     "output_type": "execute_result"
    }
   ],
   "source": [
    "age_at_visit3=age_at_visit2.loc[age_at_visit2['EVENT_ID'].isin(['BL'])]\n",
    "age_at_visit3"
   ]
  },
  {
   "cell_type": "code",
   "execution_count": 98,
   "id": "0bd55e1f",
   "metadata": {},
   "outputs": [],
   "source": [
    "del age_at_visit3[\"EVENT_ID\"]"
   ]
  },
  {
   "cell_type": "code",
   "execution_count": 99,
   "id": "70ef8824",
   "metadata": {},
   "outputs": [],
   "source": [
    "df_new_age= age2[[\n",
    " 'PATNO',\n",
    " 'AFICBERB',\n",
    " 'ASHKJEW',\n",
    " 'BASQUE',\n",
    " 'BIRTHDT',\n",
    " 'SEX',\n",
    " 'CHLDBEAR',\n",
    " 'HANDED',\n",
    " 'HISPLAT',\n",
    " 'RAASIAN',\n",
    " 'RABLACK',\n",
    " 'RAHAWOPI',\n",
    " 'RAINDALS',\n",
    " 'RANOS',\n",
    " 'RAWHITE']]"
   ]
  },
  {
   "cell_type": "code",
   "execution_count": 100,
   "id": "72023be6",
   "metadata": {},
   "outputs": [
    {
     "data": {
      "text/html": [
       "<div>\n",
       "<style scoped>\n",
       "    .dataframe tbody tr th:only-of-type {\n",
       "        vertical-align: middle;\n",
       "    }\n",
       "\n",
       "    .dataframe tbody tr th {\n",
       "        vertical-align: top;\n",
       "    }\n",
       "\n",
       "    .dataframe thead th {\n",
       "        text-align: right;\n",
       "    }\n",
       "</style>\n",
       "<table border=\"1\" class=\"dataframe\">\n",
       "  <thead>\n",
       "    <tr style=\"text-align: right;\">\n",
       "      <th></th>\n",
       "      <th>PATNO</th>\n",
       "      <th>AFICBERB</th>\n",
       "      <th>ASHKJEW</th>\n",
       "      <th>BASQUE</th>\n",
       "      <th>BIRTHDT</th>\n",
       "      <th>SEX</th>\n",
       "      <th>CHLDBEAR</th>\n",
       "      <th>HANDED</th>\n",
       "      <th>HISPLAT</th>\n",
       "      <th>RAASIAN</th>\n",
       "      <th>RABLACK</th>\n",
       "      <th>RAHAWOPI</th>\n",
       "      <th>RAINDALS</th>\n",
       "      <th>RANOS</th>\n",
       "      <th>RAWHITE</th>\n",
       "    </tr>\n",
       "  </thead>\n",
       "  <tbody>\n",
       "    <tr>\n",
       "      <th>0</th>\n",
       "      <td>3000</td>\n",
       "      <td>0</td>\n",
       "      <td>0</td>\n",
       "      <td>0</td>\n",
       "      <td>12/1941</td>\n",
       "      <td>0</td>\n",
       "      <td>0</td>\n",
       "      <td>1</td>\n",
       "      <td>0</td>\n",
       "      <td>0</td>\n",
       "      <td>0</td>\n",
       "      <td>0</td>\n",
       "      <td>0</td>\n",
       "      <td>0</td>\n",
       "      <td>1</td>\n",
       "    </tr>\n",
       "    <tr>\n",
       "      <th>1</th>\n",
       "      <td>3001</td>\n",
       "      <td>0</td>\n",
       "      <td>0</td>\n",
       "      <td>0</td>\n",
       "      <td>01/1946</td>\n",
       "      <td>1</td>\n",
       "      <td>NaN</td>\n",
       "      <td>2</td>\n",
       "      <td>0</td>\n",
       "      <td>0</td>\n",
       "      <td>0</td>\n",
       "      <td>0</td>\n",
       "      <td>0</td>\n",
       "      <td>0</td>\n",
       "      <td>1</td>\n",
       "    </tr>\n",
       "    <tr>\n",
       "      <th>2</th>\n",
       "      <td>3002</td>\n",
       "      <td>0</td>\n",
       "      <td>0</td>\n",
       "      <td>0</td>\n",
       "      <td>08/1943</td>\n",
       "      <td>0</td>\n",
       "      <td>0</td>\n",
       "      <td>1</td>\n",
       "      <td>0</td>\n",
       "      <td>0</td>\n",
       "      <td>0</td>\n",
       "      <td>0</td>\n",
       "      <td>0</td>\n",
       "      <td>0</td>\n",
       "      <td>1</td>\n",
       "    </tr>\n",
       "    <tr>\n",
       "      <th>3</th>\n",
       "      <td>3003</td>\n",
       "      <td>0</td>\n",
       "      <td>0</td>\n",
       "      <td>0</td>\n",
       "      <td>07/1954</td>\n",
       "      <td>0</td>\n",
       "      <td>0</td>\n",
       "      <td>1</td>\n",
       "      <td>0</td>\n",
       "      <td>0</td>\n",
       "      <td>0</td>\n",
       "      <td>0</td>\n",
       "      <td>0</td>\n",
       "      <td>0</td>\n",
       "      <td>1</td>\n",
       "    </tr>\n",
       "    <tr>\n",
       "      <th>4</th>\n",
       "      <td>3004</td>\n",
       "      <td>0</td>\n",
       "      <td>0</td>\n",
       "      <td>0</td>\n",
       "      <td>11/1951</td>\n",
       "      <td>1</td>\n",
       "      <td>NaN</td>\n",
       "      <td>1</td>\n",
       "      <td>0</td>\n",
       "      <td>0</td>\n",
       "      <td>0</td>\n",
       "      <td>0</td>\n",
       "      <td>0</td>\n",
       "      <td>0</td>\n",
       "      <td>1</td>\n",
       "    </tr>\n",
       "    <tr>\n",
       "      <th>...</th>\n",
       "      <td>...</td>\n",
       "      <td>...</td>\n",
       "      <td>...</td>\n",
       "      <td>...</td>\n",
       "      <td>...</td>\n",
       "      <td>...</td>\n",
       "      <td>...</td>\n",
       "      <td>...</td>\n",
       "      <td>...</td>\n",
       "      <td>...</td>\n",
       "      <td>...</td>\n",
       "      <td>...</td>\n",
       "      <td>...</td>\n",
       "      <td>...</td>\n",
       "      <td>...</td>\n",
       "    </tr>\n",
       "    <tr>\n",
       "      <th>2343</th>\n",
       "      <td>162994</td>\n",
       "      <td>0</td>\n",
       "      <td>0</td>\n",
       "      <td>0</td>\n",
       "      <td>01/1972</td>\n",
       "      <td>0</td>\n",
       "      <td>1</td>\n",
       "      <td>1</td>\n",
       "      <td>0</td>\n",
       "      <td>0</td>\n",
       "      <td>0</td>\n",
       "      <td>0</td>\n",
       "      <td>0</td>\n",
       "      <td>0</td>\n",
       "      <td>1</td>\n",
       "    </tr>\n",
       "    <tr>\n",
       "      <th>2344</th>\n",
       "      <td>163265</td>\n",
       "      <td>0</td>\n",
       "      <td>0</td>\n",
       "      <td>0</td>\n",
       "      <td>08/1954</td>\n",
       "      <td>0</td>\n",
       "      <td>1</td>\n",
       "      <td>1</td>\n",
       "      <td>0</td>\n",
       "      <td>0</td>\n",
       "      <td>0</td>\n",
       "      <td>0</td>\n",
       "      <td>0</td>\n",
       "      <td>0</td>\n",
       "      <td>1</td>\n",
       "    </tr>\n",
       "    <tr>\n",
       "      <th>2345</th>\n",
       "      <td>164900</td>\n",
       "      <td>0</td>\n",
       "      <td>0</td>\n",
       "      <td>0</td>\n",
       "      <td>01/1951</td>\n",
       "      <td>1</td>\n",
       "      <td>NaN</td>\n",
       "      <td>1</td>\n",
       "      <td>0</td>\n",
       "      <td>0</td>\n",
       "      <td>1</td>\n",
       "      <td>0</td>\n",
       "      <td>0</td>\n",
       "      <td>0</td>\n",
       "      <td>0</td>\n",
       "    </tr>\n",
       "    <tr>\n",
       "      <th>2346</th>\n",
       "      <td>167222</td>\n",
       "      <td>0</td>\n",
       "      <td>1</td>\n",
       "      <td>0</td>\n",
       "      <td>07/1966</td>\n",
       "      <td>1</td>\n",
       "      <td>NaN</td>\n",
       "      <td>1</td>\n",
       "      <td>0</td>\n",
       "      <td>0</td>\n",
       "      <td>0</td>\n",
       "      <td>0</td>\n",
       "      <td>0</td>\n",
       "      <td>0</td>\n",
       "      <td>1</td>\n",
       "    </tr>\n",
       "    <tr>\n",
       "      <th>2347</th>\n",
       "      <td>168306</td>\n",
       "      <td>0</td>\n",
       "      <td>0</td>\n",
       "      <td>0</td>\n",
       "      <td>05/1953</td>\n",
       "      <td>1</td>\n",
       "      <td>NaN</td>\n",
       "      <td>1</td>\n",
       "      <td>0</td>\n",
       "      <td>0</td>\n",
       "      <td>0</td>\n",
       "      <td>0</td>\n",
       "      <td>0</td>\n",
       "      <td>0</td>\n",
       "      <td>1</td>\n",
       "    </tr>\n",
       "  </tbody>\n",
       "</table>\n",
       "<p>2348 rows × 15 columns</p>\n",
       "</div>"
      ],
      "text/plain": [
       "       PATNO AFICBERB ASHKJEW BASQUE  BIRTHDT SEX CHLDBEAR HANDED HISPLAT  \\\n",
       "0       3000        0       0      0  12/1941   0        0      1       0   \n",
       "1       3001        0       0      0  01/1946   1      NaN      2       0   \n",
       "2       3002        0       0      0  08/1943   0        0      1       0   \n",
       "3       3003        0       0      0  07/1954   0        0      1       0   \n",
       "4       3004        0       0      0  11/1951   1      NaN      1       0   \n",
       "...      ...      ...     ...    ...      ...  ..      ...    ...     ...   \n",
       "2343  162994        0       0      0  01/1972   0        1      1       0   \n",
       "2344  163265        0       0      0  08/1954   0        1      1       0   \n",
       "2345  164900        0       0      0  01/1951   1      NaN      1       0   \n",
       "2346  167222        0       1      0  07/1966   1      NaN      1       0   \n",
       "2347  168306        0       0      0  05/1953   1      NaN      1       0   \n",
       "\n",
       "     RAASIAN RABLACK RAHAWOPI RAINDALS RANOS RAWHITE  \n",
       "0          0       0        0        0     0       1  \n",
       "1          0       0        0        0     0       1  \n",
       "2          0       0        0        0     0       1  \n",
       "3          0       0        0        0     0       1  \n",
       "4          0       0        0        0     0       1  \n",
       "...      ...     ...      ...      ...   ...     ...  \n",
       "2343       0       0        0        0     0       1  \n",
       "2344       0       0        0        0     0       1  \n",
       "2345       0       1        0        0     0       0  \n",
       "2346       0       0        0        0     0       1  \n",
       "2347       0       0        0        0     0       1  \n",
       "\n",
       "[2348 rows x 15 columns]"
      ]
     },
     "execution_count": 100,
     "metadata": {},
     "output_type": "execute_result"
    }
   ],
   "source": [
    "df_new_age"
   ]
  },
  {
   "cell_type": "code",
   "execution_count": 101,
   "id": "d16c88a0",
   "metadata": {},
   "outputs": [],
   "source": [
    "my_data_frame=pd.merge(age_at_visit3, df_new_age, on='PATNO', how='left')"
   ]
  },
  {
   "cell_type": "code",
   "execution_count": 102,
   "id": "e7e80f70",
   "metadata": {},
   "outputs": [],
   "source": [
    "#this is the **final matrix** that we needed to creare in the beginning of this part.\n",
    "final=pd.merge(my_data_frame, diago2, on='PATNO', how='left')"
   ]
  },
  {
   "cell_type": "code",
   "execution_count": 103,
   "id": "c6b86c9a",
   "metadata": {},
   "outputs": [],
   "source": [
    "final.to_csv(\"the_matrix.txt\")"
   ]
  },
  {
   "cell_type": "code",
   "execution_count": 104,
   "id": "54381093",
   "metadata": {},
   "outputs": [
    {
     "data": {
      "text/html": [
       "<div>\n",
       "<style scoped>\n",
       "    .dataframe tbody tr th:only-of-type {\n",
       "        vertical-align: middle;\n",
       "    }\n",
       "\n",
       "    .dataframe tbody tr th {\n",
       "        vertical-align: top;\n",
       "    }\n",
       "\n",
       "    .dataframe thead th {\n",
       "        text-align: right;\n",
       "    }\n",
       "</style>\n",
       "<table border=\"1\" class=\"dataframe\">\n",
       "  <thead>\n",
       "    <tr style=\"text-align: right;\">\n",
       "      <th></th>\n",
       "      <th>PATNO</th>\n",
       "      <th>COHORT_DEFINITION</th>\n",
       "    </tr>\n",
       "  </thead>\n",
       "  <tbody>\n",
       "    <tr>\n",
       "      <th>0</th>\n",
       "      <td>3000</td>\n",
       "      <td>Healthy Control</td>\n",
       "    </tr>\n",
       "    <tr>\n",
       "      <th>1</th>\n",
       "      <td>3001</td>\n",
       "      <td>Parkinson's Disease</td>\n",
       "    </tr>\n",
       "    <tr>\n",
       "      <th>2</th>\n",
       "      <td>3002</td>\n",
       "      <td>Parkinson's Disease</td>\n",
       "    </tr>\n",
       "    <tr>\n",
       "      <th>3</th>\n",
       "      <td>3003</td>\n",
       "      <td>Parkinson's Disease</td>\n",
       "    </tr>\n",
       "    <tr>\n",
       "      <th>4</th>\n",
       "      <td>3004</td>\n",
       "      <td>Healthy Control</td>\n",
       "    </tr>\n",
       "    <tr>\n",
       "      <th>...</th>\n",
       "      <td>...</td>\n",
       "      <td>...</td>\n",
       "    </tr>\n",
       "    <tr>\n",
       "      <th>1926</th>\n",
       "      <td>160252</td>\n",
       "      <td>Parkinson's Disease</td>\n",
       "    </tr>\n",
       "    <tr>\n",
       "      <th>1927</th>\n",
       "      <td>161236</td>\n",
       "      <td>Parkinson's Disease</td>\n",
       "    </tr>\n",
       "    <tr>\n",
       "      <th>1928</th>\n",
       "      <td>162140</td>\n",
       "      <td>Prodromal</td>\n",
       "    </tr>\n",
       "    <tr>\n",
       "      <th>1929</th>\n",
       "      <td>162905</td>\n",
       "      <td>Healthy Control</td>\n",
       "    </tr>\n",
       "    <tr>\n",
       "      <th>1930</th>\n",
       "      <td>162929</td>\n",
       "      <td>Parkinson's Disease</td>\n",
       "    </tr>\n",
       "  </tbody>\n",
       "</table>\n",
       "<p>1931 rows × 2 columns</p>\n",
       "</div>"
      ],
      "text/plain": [
       "       PATNO    COHORT_DEFINITION\n",
       "0       3000      Healthy Control\n",
       "1       3001  Parkinson's Disease\n",
       "2       3002  Parkinson's Disease\n",
       "3       3003  Parkinson's Disease\n",
       "4       3004      Healthy Control\n",
       "...      ...                  ...\n",
       "1926  160252  Parkinson's Disease\n",
       "1927  161236  Parkinson's Disease\n",
       "1928  162140            Prodromal\n",
       "1929  162905      Healthy Control\n",
       "1930  162929  Parkinson's Disease\n",
       "\n",
       "[1931 rows x 2 columns]"
      ]
     },
     "execution_count": 104,
     "metadata": {},
     "output_type": "execute_result"
    }
   ],
   "source": [
    "patient_diagonises=final[['PATNO','COHORT_DEFINITION']]\n",
    "patient_diagonises"
   ]
  },
  {
   "cell_type": "code",
   "execution_count": 105,
   "id": "7ce1d487",
   "metadata": {},
   "outputs": [],
   "source": [
    "path1=Path(\"/scratch/znazari/PPMI_ver_sep2022/RNA_Seq_data/star_ir2/counts/\")"
   ]
  },
  {
   "cell_type": "code",
   "execution_count": 106,
   "id": "e9df85c2",
   "metadata": {},
   "outputs": [],
   "source": [
    "bl_files=pd.read_csv(path1/\"bl.txt\", header=None )"
   ]
  },
  {
   "cell_type": "code",
   "execution_count": 108,
   "id": "50be6b5a",
   "metadata": {},
   "outputs": [],
   "source": [
    "def function_names(fname):\n",
    "    tokens=fname.split('.')\n",
    "    return tokens[1]"
   ]
  },
  {
   "cell_type": "code",
   "execution_count": 109,
   "id": "897259c0",
   "metadata": {},
   "outputs": [],
   "source": [
    "bl_list=[]\n",
    "for i in range(len(bl_files)):\n",
    "    bl_list=bl_list+[function_names(bl_files.iloc[i][0])]"
   ]
  },
  {
   "cell_type": "code",
   "execution_count": 110,
   "id": "fca8bab7",
   "metadata": {},
   "outputs": [
    {
     "data": {
      "text/plain": [
       "1931"
      ]
     },
     "execution_count": 110,
     "metadata": {},
     "output_type": "execute_result"
    }
   ],
   "source": [
    "big_patients=list(patient_diagonises['PATNO'])\n",
    "len(big_patients)"
   ]
  },
  {
   "cell_type": "code",
   "execution_count": 23,
   "id": "4cf414b1",
   "metadata": {},
   "outputs": [],
   "source": [
    "pud=pd.DataFrame(bl_list)"
   ]
  },
  {
   "cell_type": "code",
   "execution_count": 24,
   "id": "30f06249",
   "metadata": {},
   "outputs": [
    {
     "name": "stderr",
     "output_type": "stream",
     "text": [
      "/tmp/ipykernel_30760/2806254814.py:1: SettingWithCopyWarning: \n",
      "A value is trying to be set on a copy of a slice from a DataFrame.\n",
      "Try using .loc[row_indexer,col_indexer] = value instead\n",
      "\n",
      "See the caveats in the documentation: https://pandas.pydata.org/pandas-docs/stable/user_guide/indexing.html#returning-a-view-versus-a-copy\n",
      "  patient_diagonises['BL_PATNO']=pud.fillna(0)\n"
     ]
    }
   ],
   "source": [
    "patient_diagonises['BL_PATNO']=pud.fillna(0)"
   ]
  },
  {
   "cell_type": "code",
   "execution_count": 25,
   "id": "c3f80c66",
   "metadata": {},
   "outputs": [
    {
     "data": {
      "text/html": [
       "<div>\n",
       "<style scoped>\n",
       "    .dataframe tbody tr th:only-of-type {\n",
       "        vertical-align: middle;\n",
       "    }\n",
       "\n",
       "    .dataframe tbody tr th {\n",
       "        vertical-align: top;\n",
       "    }\n",
       "\n",
       "    .dataframe thead th {\n",
       "        text-align: right;\n",
       "    }\n",
       "</style>\n",
       "<table border=\"1\" class=\"dataframe\">\n",
       "  <thead>\n",
       "    <tr style=\"text-align: right;\">\n",
       "      <th></th>\n",
       "      <th>PATNO</th>\n",
       "      <th>COHORT_DEFINITION</th>\n",
       "      <th>BL_PATNO</th>\n",
       "    </tr>\n",
       "  </thead>\n",
       "  <tbody>\n",
       "    <tr>\n",
       "      <th>0</th>\n",
       "      <td>3000</td>\n",
       "      <td>Healthy Control</td>\n",
       "      <td>10874</td>\n",
       "    </tr>\n",
       "    <tr>\n",
       "      <th>1</th>\n",
       "      <td>3001</td>\n",
       "      <td>Parkinson's Disease</td>\n",
       "      <td>12499</td>\n",
       "    </tr>\n",
       "    <tr>\n",
       "      <th>2</th>\n",
       "      <td>3002</td>\n",
       "      <td>Parkinson's Disease</td>\n",
       "      <td>12593</td>\n",
       "    </tr>\n",
       "    <tr>\n",
       "      <th>3</th>\n",
       "      <td>3003</td>\n",
       "      <td>Parkinson's Disease</td>\n",
       "      <td>13039</td>\n",
       "    </tr>\n",
       "    <tr>\n",
       "      <th>4</th>\n",
       "      <td>3004</td>\n",
       "      <td>Healthy Control</td>\n",
       "      <td>13424</td>\n",
       "    </tr>\n",
       "    <tr>\n",
       "      <th>...</th>\n",
       "      <td>...</td>\n",
       "      <td>...</td>\n",
       "      <td>...</td>\n",
       "    </tr>\n",
       "    <tr>\n",
       "      <th>1926</th>\n",
       "      <td>160252</td>\n",
       "      <td>Parkinson's Disease</td>\n",
       "      <td>NaN</td>\n",
       "    </tr>\n",
       "    <tr>\n",
       "      <th>1927</th>\n",
       "      <td>161236</td>\n",
       "      <td>Parkinson's Disease</td>\n",
       "      <td>NaN</td>\n",
       "    </tr>\n",
       "    <tr>\n",
       "      <th>1928</th>\n",
       "      <td>162140</td>\n",
       "      <td>Prodromal</td>\n",
       "      <td>NaN</td>\n",
       "    </tr>\n",
       "    <tr>\n",
       "      <th>1929</th>\n",
       "      <td>162905</td>\n",
       "      <td>Healthy Control</td>\n",
       "      <td>NaN</td>\n",
       "    </tr>\n",
       "    <tr>\n",
       "      <th>1930</th>\n",
       "      <td>162929</td>\n",
       "      <td>Parkinson's Disease</td>\n",
       "      <td>NaN</td>\n",
       "    </tr>\n",
       "  </tbody>\n",
       "</table>\n",
       "<p>1931 rows × 3 columns</p>\n",
       "</div>"
      ],
      "text/plain": [
       "       PATNO    COHORT_DEFINITION BL_PATNO\n",
       "0       3000      Healthy Control    10874\n",
       "1       3001  Parkinson's Disease    12499\n",
       "2       3002  Parkinson's Disease    12593\n",
       "3       3003  Parkinson's Disease    13039\n",
       "4       3004      Healthy Control    13424\n",
       "...      ...                  ...      ...\n",
       "1926  160252  Parkinson's Disease      NaN\n",
       "1927  161236  Parkinson's Disease      NaN\n",
       "1928  162140            Prodromal      NaN\n",
       "1929  162905      Healthy Control      NaN\n",
       "1930  162929  Parkinson's Disease      NaN\n",
       "\n",
       "[1931 rows x 3 columns]"
      ]
     },
     "execution_count": 25,
     "metadata": {},
     "output_type": "execute_result"
    }
   ],
   "source": [
    "patient_diagonises"
   ]
  },
  {
   "cell_type": "code",
   "execution_count": 26,
   "id": "db0339e7",
   "metadata": {},
   "outputs": [
    {
     "data": {
      "text/plain": [
       "1537"
      ]
     },
     "execution_count": 26,
     "metadata": {},
     "output_type": "execute_result"
    }
   ],
   "source": [
    "len(pud)"
   ]
  },
  {
   "cell_type": "code",
   "execution_count": 27,
   "id": "c1642d04",
   "metadata": {},
   "outputs": [],
   "source": [
    "test_list2=list(patient_diagonises['PATNO'])"
   ]
  },
  {
   "cell_type": "code",
   "execution_count": 29,
   "id": "6df04661",
   "metadata": {},
   "outputs": [],
   "source": [
    "test_list1=list(patient_diagonises['BL_PATNO'])"
   ]
  },
  {
   "cell_type": "code",
   "execution_count": 30,
   "id": "018394dc",
   "metadata": {},
   "outputs": [],
   "source": [
    "reesult=[]\n",
    "for i in test_list2:\n",
    "    if i in test_list1:\n",
    "        reesult+=[test_list1.index(i)]\n",
    "        "
   ]
  },
  {
   "cell_type": "code",
   "execution_count": 112,
   "id": "23f1f9f0",
   "metadata": {},
   "outputs": [],
   "source": [
    "len(reesult)\n",
    "reesult;"
   ]
  },
  {
   "cell_type": "code",
   "execution_count": 32,
   "id": "4647419e",
   "metadata": {},
   "outputs": [],
   "source": [
    "index_result=pd.DataFrame(reesult)"
   ]
  },
  {
   "cell_type": "code",
   "execution_count": 33,
   "id": "3b0ef403",
   "metadata": {},
   "outputs": [
    {
     "name": "stderr",
     "output_type": "stream",
     "text": [
      "/tmp/ipykernel_30760/3374289084.py:1: SettingWithCopyWarning: \n",
      "A value is trying to be set on a copy of a slice from a DataFrame.\n",
      "Try using .loc[row_indexer,col_indexer] = value instead\n",
      "\n",
      "See the caveats in the documentation: https://pandas.pydata.org/pandas-docs/stable/user_guide/indexing.html#returning-a-view-versus-a-copy\n",
      "  patient_diagonises['index']=index_result\n"
     ]
    }
   ],
   "source": [
    "patient_diagonises['index']=index_result"
   ]
  },
  {
   "cell_type": "code",
   "execution_count": 34,
   "id": "822150ec",
   "metadata": {},
   "outputs": [
    {
     "data": {
      "text/html": [
       "<div>\n",
       "<style scoped>\n",
       "    .dataframe tbody tr th:only-of-type {\n",
       "        vertical-align: middle;\n",
       "    }\n",
       "\n",
       "    .dataframe tbody tr th {\n",
       "        vertical-align: top;\n",
       "    }\n",
       "\n",
       "    .dataframe thead th {\n",
       "        text-align: right;\n",
       "    }\n",
       "</style>\n",
       "<table border=\"1\" class=\"dataframe\">\n",
       "  <thead>\n",
       "    <tr style=\"text-align: right;\">\n",
       "      <th></th>\n",
       "      <th>PATNO</th>\n",
       "      <th>COHORT_DEFINITION</th>\n",
       "      <th>BL_PATNO</th>\n",
       "      <th>index</th>\n",
       "    </tr>\n",
       "  </thead>\n",
       "  <tbody>\n",
       "    <tr>\n",
       "      <th>0</th>\n",
       "      <td>3000</td>\n",
       "      <td>Healthy Control</td>\n",
       "      <td>10874</td>\n",
       "      <td>13.0</td>\n",
       "    </tr>\n",
       "    <tr>\n",
       "      <th>1</th>\n",
       "      <td>3001</td>\n",
       "      <td>Parkinson's Disease</td>\n",
       "      <td>12499</td>\n",
       "      <td>14.0</td>\n",
       "    </tr>\n",
       "    <tr>\n",
       "      <th>2</th>\n",
       "      <td>3002</td>\n",
       "      <td>Parkinson's Disease</td>\n",
       "      <td>12593</td>\n",
       "      <td>15.0</td>\n",
       "    </tr>\n",
       "    <tr>\n",
       "      <th>3</th>\n",
       "      <td>3003</td>\n",
       "      <td>Parkinson's Disease</td>\n",
       "      <td>13039</td>\n",
       "      <td>16.0</td>\n",
       "    </tr>\n",
       "    <tr>\n",
       "      <th>4</th>\n",
       "      <td>3004</td>\n",
       "      <td>Healthy Control</td>\n",
       "      <td>13424</td>\n",
       "      <td>17.0</td>\n",
       "    </tr>\n",
       "    <tr>\n",
       "      <th>...</th>\n",
       "      <td>...</td>\n",
       "      <td>...</td>\n",
       "      <td>...</td>\n",
       "      <td>...</td>\n",
       "    </tr>\n",
       "    <tr>\n",
       "      <th>1926</th>\n",
       "      <td>160252</td>\n",
       "      <td>Parkinson's Disease</td>\n",
       "      <td>NaN</td>\n",
       "      <td>NaN</td>\n",
       "    </tr>\n",
       "    <tr>\n",
       "      <th>1927</th>\n",
       "      <td>161236</td>\n",
       "      <td>Parkinson's Disease</td>\n",
       "      <td>NaN</td>\n",
       "      <td>NaN</td>\n",
       "    </tr>\n",
       "    <tr>\n",
       "      <th>1928</th>\n",
       "      <td>162140</td>\n",
       "      <td>Prodromal</td>\n",
       "      <td>NaN</td>\n",
       "      <td>NaN</td>\n",
       "    </tr>\n",
       "    <tr>\n",
       "      <th>1929</th>\n",
       "      <td>162905</td>\n",
       "      <td>Healthy Control</td>\n",
       "      <td>NaN</td>\n",
       "      <td>NaN</td>\n",
       "    </tr>\n",
       "    <tr>\n",
       "      <th>1930</th>\n",
       "      <td>162929</td>\n",
       "      <td>Parkinson's Disease</td>\n",
       "      <td>NaN</td>\n",
       "      <td>NaN</td>\n",
       "    </tr>\n",
       "  </tbody>\n",
       "</table>\n",
       "<p>1931 rows × 4 columns</p>\n",
       "</div>"
      ],
      "text/plain": [
       "       PATNO    COHORT_DEFINITION BL_PATNO  index\n",
       "0       3000      Healthy Control    10874   13.0\n",
       "1       3001  Parkinson's Disease    12499   14.0\n",
       "2       3002  Parkinson's Disease    12593   15.0\n",
       "3       3003  Parkinson's Disease    13039   16.0\n",
       "4       3004      Healthy Control    13424   17.0\n",
       "...      ...                  ...      ...    ...\n",
       "1926  160252  Parkinson's Disease      NaN    NaN\n",
       "1927  161236  Parkinson's Disease      NaN    NaN\n",
       "1928  162140            Prodromal      NaN    NaN\n",
       "1929  162905      Healthy Control      NaN    NaN\n",
       "1930  162929  Parkinson's Disease      NaN    NaN\n",
       "\n",
       "[1931 rows x 4 columns]"
      ]
     },
     "execution_count": 34,
     "metadata": {},
     "output_type": "execute_result"
    }
   ],
   "source": [
    "patient_diagonises"
   ]
  },
  {
   "cell_type": "code",
   "execution_count": 35,
   "id": "98e597ea",
   "metadata": {},
   "outputs": [],
   "source": [
    "new_data=patient_diagonises.drop(columns=['PATNO','BL_PATNO'])"
   ]
  },
  {
   "cell_type": "code",
   "execution_count": 36,
   "id": "52650879",
   "metadata": {},
   "outputs": [
    {
     "data": {
      "text/html": [
       "<div>\n",
       "<style scoped>\n",
       "    .dataframe tbody tr th:only-of-type {\n",
       "        vertical-align: middle;\n",
       "    }\n",
       "\n",
       "    .dataframe tbody tr th {\n",
       "        vertical-align: top;\n",
       "    }\n",
       "\n",
       "    .dataframe thead th {\n",
       "        text-align: right;\n",
       "    }\n",
       "</style>\n",
       "<table border=\"1\" class=\"dataframe\">\n",
       "  <thead>\n",
       "    <tr style=\"text-align: right;\">\n",
       "      <th></th>\n",
       "      <th>COHORT_DEFINITION</th>\n",
       "      <th>index</th>\n",
       "    </tr>\n",
       "  </thead>\n",
       "  <tbody>\n",
       "    <tr>\n",
       "      <th>0</th>\n",
       "      <td>Healthy Control</td>\n",
       "      <td>13.0</td>\n",
       "    </tr>\n",
       "    <tr>\n",
       "      <th>1</th>\n",
       "      <td>Parkinson's Disease</td>\n",
       "      <td>14.0</td>\n",
       "    </tr>\n",
       "    <tr>\n",
       "      <th>2</th>\n",
       "      <td>Parkinson's Disease</td>\n",
       "      <td>15.0</td>\n",
       "    </tr>\n",
       "    <tr>\n",
       "      <th>3</th>\n",
       "      <td>Parkinson's Disease</td>\n",
       "      <td>16.0</td>\n",
       "    </tr>\n",
       "    <tr>\n",
       "      <th>4</th>\n",
       "      <td>Healthy Control</td>\n",
       "      <td>17.0</td>\n",
       "    </tr>\n",
       "    <tr>\n",
       "      <th>...</th>\n",
       "      <td>...</td>\n",
       "      <td>...</td>\n",
       "    </tr>\n",
       "    <tr>\n",
       "      <th>1926</th>\n",
       "      <td>Parkinson's Disease</td>\n",
       "      <td>NaN</td>\n",
       "    </tr>\n",
       "    <tr>\n",
       "      <th>1927</th>\n",
       "      <td>Parkinson's Disease</td>\n",
       "      <td>NaN</td>\n",
       "    </tr>\n",
       "    <tr>\n",
       "      <th>1928</th>\n",
       "      <td>Prodromal</td>\n",
       "      <td>NaN</td>\n",
       "    </tr>\n",
       "    <tr>\n",
       "      <th>1929</th>\n",
       "      <td>Healthy Control</td>\n",
       "      <td>NaN</td>\n",
       "    </tr>\n",
       "    <tr>\n",
       "      <th>1930</th>\n",
       "      <td>Parkinson's Disease</td>\n",
       "      <td>NaN</td>\n",
       "    </tr>\n",
       "  </tbody>\n",
       "</table>\n",
       "<p>1931 rows × 2 columns</p>\n",
       "</div>"
      ],
      "text/plain": [
       "        COHORT_DEFINITION  index\n",
       "0         Healthy Control   13.0\n",
       "1     Parkinson's Disease   14.0\n",
       "2     Parkinson's Disease   15.0\n",
       "3     Parkinson's Disease   16.0\n",
       "4         Healthy Control   17.0\n",
       "...                   ...    ...\n",
       "1926  Parkinson's Disease    NaN\n",
       "1927  Parkinson's Disease    NaN\n",
       "1928            Prodromal    NaN\n",
       "1929      Healthy Control    NaN\n",
       "1930  Parkinson's Disease    NaN\n",
       "\n",
       "[1931 rows x 2 columns]"
      ]
     },
     "execution_count": 36,
     "metadata": {},
     "output_type": "execute_result"
    }
   ],
   "source": [
    "new_data"
   ]
  },
  {
   "cell_type": "code",
   "execution_count": 37,
   "id": "a95837d3",
   "metadata": {},
   "outputs": [],
   "source": [
    "very_frame=new_data.sort_values(by=['index'])"
   ]
  },
  {
   "cell_type": "code",
   "execution_count": 38,
   "id": "058a760b",
   "metadata": {},
   "outputs": [
    {
     "data": {
      "text/html": [
       "<div>\n",
       "<style scoped>\n",
       "    .dataframe tbody tr th:only-of-type {\n",
       "        vertical-align: middle;\n",
       "    }\n",
       "\n",
       "    .dataframe tbody tr th {\n",
       "        vertical-align: top;\n",
       "    }\n",
       "\n",
       "    .dataframe thead th {\n",
       "        text-align: right;\n",
       "    }\n",
       "</style>\n",
       "<table border=\"1\" class=\"dataframe\">\n",
       "  <thead>\n",
       "    <tr style=\"text-align: right;\">\n",
       "      <th></th>\n",
       "      <th>COHORT_DEFINITION</th>\n",
       "      <th>index</th>\n",
       "    </tr>\n",
       "  </thead>\n",
       "  <tbody>\n",
       "    <tr>\n",
       "      <th>0</th>\n",
       "      <td>Parkinson's Disease</td>\n",
       "      <td>0.0</td>\n",
       "    </tr>\n",
       "    <tr>\n",
       "      <th>1</th>\n",
       "      <td>Parkinson's Disease</td>\n",
       "      <td>1.0</td>\n",
       "    </tr>\n",
       "    <tr>\n",
       "      <th>2</th>\n",
       "      <td>Parkinson's Disease</td>\n",
       "      <td>2.0</td>\n",
       "    </tr>\n",
       "    <tr>\n",
       "      <th>3</th>\n",
       "      <td>SWEDD</td>\n",
       "      <td>3.0</td>\n",
       "    </tr>\n",
       "    <tr>\n",
       "      <th>4</th>\n",
       "      <td>Healthy Control</td>\n",
       "      <td>4.0</td>\n",
       "    </tr>\n",
       "    <tr>\n",
       "      <th>...</th>\n",
       "      <td>...</td>\n",
       "      <td>...</td>\n",
       "    </tr>\n",
       "    <tr>\n",
       "      <th>1926</th>\n",
       "      <td>Parkinson's Disease</td>\n",
       "      <td>NaN</td>\n",
       "    </tr>\n",
       "    <tr>\n",
       "      <th>1927</th>\n",
       "      <td>Parkinson's Disease</td>\n",
       "      <td>NaN</td>\n",
       "    </tr>\n",
       "    <tr>\n",
       "      <th>1928</th>\n",
       "      <td>Prodromal</td>\n",
       "      <td>NaN</td>\n",
       "    </tr>\n",
       "    <tr>\n",
       "      <th>1929</th>\n",
       "      <td>Healthy Control</td>\n",
       "      <td>NaN</td>\n",
       "    </tr>\n",
       "    <tr>\n",
       "      <th>1930</th>\n",
       "      <td>Parkinson's Disease</td>\n",
       "      <td>NaN</td>\n",
       "    </tr>\n",
       "  </tbody>\n",
       "</table>\n",
       "<p>1931 rows × 2 columns</p>\n",
       "</div>"
      ],
      "text/plain": [
       "        COHORT_DEFINITION  index\n",
       "0     Parkinson's Disease    0.0\n",
       "1     Parkinson's Disease    1.0\n",
       "2     Parkinson's Disease    2.0\n",
       "3                   SWEDD    3.0\n",
       "4         Healthy Control    4.0\n",
       "...                   ...    ...\n",
       "1926  Parkinson's Disease    NaN\n",
       "1927  Parkinson's Disease    NaN\n",
       "1928            Prodromal    NaN\n",
       "1929      Healthy Control    NaN\n",
       "1930  Parkinson's Disease    NaN\n",
       "\n",
       "[1931 rows x 2 columns]"
      ]
     },
     "execution_count": 38,
     "metadata": {},
     "output_type": "execute_result"
    }
   ],
   "source": [
    "mano=very_frame.reset_index(drop=True)\n",
    "mano"
   ]
  },
  {
   "cell_type": "code",
   "execution_count": 39,
   "id": "fa19ad4a",
   "metadata": {},
   "outputs": [
    {
     "data": {
      "text/html": [
       "<div>\n",
       "<style scoped>\n",
       "    .dataframe tbody tr th:only-of-type {\n",
       "        vertical-align: middle;\n",
       "    }\n",
       "\n",
       "    .dataframe tbody tr th {\n",
       "        vertical-align: top;\n",
       "    }\n",
       "\n",
       "    .dataframe thead th {\n",
       "        text-align: right;\n",
       "    }\n",
       "</style>\n",
       "<table border=\"1\" class=\"dataframe\">\n",
       "  <thead>\n",
       "    <tr style=\"text-align: right;\">\n",
       "      <th></th>\n",
       "      <th>COHORT_DEFINITION</th>\n",
       "      <th>index</th>\n",
       "      <th>BL_PATNO2</th>\n",
       "    </tr>\n",
       "  </thead>\n",
       "  <tbody>\n",
       "    <tr>\n",
       "      <th>0</th>\n",
       "      <td>Parkinson's Disease</td>\n",
       "      <td>0.0</td>\n",
       "      <td>10874</td>\n",
       "    </tr>\n",
       "    <tr>\n",
       "      <th>1</th>\n",
       "      <td>Parkinson's Disease</td>\n",
       "      <td>1.0</td>\n",
       "      <td>12499</td>\n",
       "    </tr>\n",
       "    <tr>\n",
       "      <th>2</th>\n",
       "      <td>Parkinson's Disease</td>\n",
       "      <td>2.0</td>\n",
       "      <td>12593</td>\n",
       "    </tr>\n",
       "    <tr>\n",
       "      <th>3</th>\n",
       "      <td>SWEDD</td>\n",
       "      <td>3.0</td>\n",
       "      <td>13039</td>\n",
       "    </tr>\n",
       "    <tr>\n",
       "      <th>4</th>\n",
       "      <td>Healthy Control</td>\n",
       "      <td>4.0</td>\n",
       "      <td>13424</td>\n",
       "    </tr>\n",
       "    <tr>\n",
       "      <th>...</th>\n",
       "      <td>...</td>\n",
       "      <td>...</td>\n",
       "      <td>...</td>\n",
       "    </tr>\n",
       "    <tr>\n",
       "      <th>1926</th>\n",
       "      <td>Parkinson's Disease</td>\n",
       "      <td>NaN</td>\n",
       "      <td>NaN</td>\n",
       "    </tr>\n",
       "    <tr>\n",
       "      <th>1927</th>\n",
       "      <td>Parkinson's Disease</td>\n",
       "      <td>NaN</td>\n",
       "      <td>NaN</td>\n",
       "    </tr>\n",
       "    <tr>\n",
       "      <th>1928</th>\n",
       "      <td>Prodromal</td>\n",
       "      <td>NaN</td>\n",
       "      <td>NaN</td>\n",
       "    </tr>\n",
       "    <tr>\n",
       "      <th>1929</th>\n",
       "      <td>Healthy Control</td>\n",
       "      <td>NaN</td>\n",
       "      <td>NaN</td>\n",
       "    </tr>\n",
       "    <tr>\n",
       "      <th>1930</th>\n",
       "      <td>Parkinson's Disease</td>\n",
       "      <td>NaN</td>\n",
       "      <td>NaN</td>\n",
       "    </tr>\n",
       "  </tbody>\n",
       "</table>\n",
       "<p>1931 rows × 3 columns</p>\n",
       "</div>"
      ],
      "text/plain": [
       "        COHORT_DEFINITION  index BL_PATNO2\n",
       "0     Parkinson's Disease    0.0     10874\n",
       "1     Parkinson's Disease    1.0     12499\n",
       "2     Parkinson's Disease    2.0     12593\n",
       "3                   SWEDD    3.0     13039\n",
       "4         Healthy Control    4.0     13424\n",
       "...                   ...    ...       ...\n",
       "1926  Parkinson's Disease    NaN       NaN\n",
       "1927  Parkinson's Disease    NaN       NaN\n",
       "1928            Prodromal    NaN       NaN\n",
       "1929      Healthy Control    NaN       NaN\n",
       "1930  Parkinson's Disease    NaN       NaN\n",
       "\n",
       "[1931 rows x 3 columns]"
      ]
     },
     "execution_count": 39,
     "metadata": {},
     "output_type": "execute_result"
    }
   ],
   "source": [
    "mano['BL_PATNO2']=pud\n",
    "mano"
   ]
  },
  {
   "cell_type": "code",
   "execution_count": 40,
   "id": "0ff84c42",
   "metadata": {},
   "outputs": [],
   "source": [
    "tua=mano.drop(['index'], axis=1)"
   ]
  },
  {
   "cell_type": "markdown",
   "id": "f6cce229",
   "metadata": {},
   "source": [
    "This piece of code is for swapping two columns in dataframe"
   ]
  },
  {
   "cell_type": "code",
   "execution_count": 41,
   "id": "35126c95",
   "metadata": {},
   "outputs": [
    {
     "data": {
      "text/html": [
       "<div>\n",
       "<style scoped>\n",
       "    .dataframe tbody tr th:only-of-type {\n",
       "        vertical-align: middle;\n",
       "    }\n",
       "\n",
       "    .dataframe tbody tr th {\n",
       "        vertical-align: top;\n",
       "    }\n",
       "\n",
       "    .dataframe thead th {\n",
       "        text-align: right;\n",
       "    }\n",
       "</style>\n",
       "<table border=\"1\" class=\"dataframe\">\n",
       "  <thead>\n",
       "    <tr style=\"text-align: right;\">\n",
       "      <th></th>\n",
       "      <th>BL_PATNO2</th>\n",
       "      <th>COHORT_DEFINITION</th>\n",
       "    </tr>\n",
       "  </thead>\n",
       "  <tbody>\n",
       "    <tr>\n",
       "      <th>0</th>\n",
       "      <td>10874</td>\n",
       "      <td>Parkinson's Disease</td>\n",
       "    </tr>\n",
       "    <tr>\n",
       "      <th>1</th>\n",
       "      <td>12499</td>\n",
       "      <td>Parkinson's Disease</td>\n",
       "    </tr>\n",
       "    <tr>\n",
       "      <th>2</th>\n",
       "      <td>12593</td>\n",
       "      <td>Parkinson's Disease</td>\n",
       "    </tr>\n",
       "    <tr>\n",
       "      <th>3</th>\n",
       "      <td>13039</td>\n",
       "      <td>SWEDD</td>\n",
       "    </tr>\n",
       "    <tr>\n",
       "      <th>4</th>\n",
       "      <td>13424</td>\n",
       "      <td>Healthy Control</td>\n",
       "    </tr>\n",
       "    <tr>\n",
       "      <th>...</th>\n",
       "      <td>...</td>\n",
       "      <td>...</td>\n",
       "    </tr>\n",
       "    <tr>\n",
       "      <th>1532</th>\n",
       "      <td>65003</td>\n",
       "      <td>Parkinson's Disease</td>\n",
       "    </tr>\n",
       "    <tr>\n",
       "      <th>1533</th>\n",
       "      <td>65005</td>\n",
       "      <td>Parkinson's Disease</td>\n",
       "    </tr>\n",
       "    <tr>\n",
       "      <th>1534</th>\n",
       "      <td>65008</td>\n",
       "      <td>Healthy Control</td>\n",
       "    </tr>\n",
       "    <tr>\n",
       "      <th>1535</th>\n",
       "      <td>70239</td>\n",
       "      <td>Prodromal</td>\n",
       "    </tr>\n",
       "    <tr>\n",
       "      <th>1536</th>\n",
       "      <td>85242</td>\n",
       "      <td>Parkinson's Disease</td>\n",
       "    </tr>\n",
       "  </tbody>\n",
       "</table>\n",
       "<p>1537 rows × 2 columns</p>\n",
       "</div>"
      ],
      "text/plain": [
       "     BL_PATNO2    COHORT_DEFINITION\n",
       "0        10874  Parkinson's Disease\n",
       "1        12499  Parkinson's Disease\n",
       "2        12593  Parkinson's Disease\n",
       "3        13039                SWEDD\n",
       "4        13424      Healthy Control\n",
       "...        ...                  ...\n",
       "1532     65003  Parkinson's Disease\n",
       "1533     65005  Parkinson's Disease\n",
       "1534     65008      Healthy Control\n",
       "1535     70239            Prodromal\n",
       "1536     85242  Parkinson's Disease\n",
       "\n",
       "[1537 rows x 2 columns]"
      ]
     },
     "execution_count": 41,
     "metadata": {},
     "output_type": "execute_result"
    }
   ],
   "source": [
    "columns_titles = [\"BL_PATNO2\",\"COHORT_DEFINITION\"]\n",
    "tua=tua.reindex(columns=columns_titles)\n",
    "before_filter_patients=tua.dropna()\n",
    "before_filter_patients"
   ]
  },
  {
   "cell_type": "markdown",
   "id": "3283c8bf",
   "metadata": {},
   "source": [
    "**df.dropna()** drops the rows which have not a number (NaN) in them."
   ]
  },
  {
   "cell_type": "markdown",
   "id": "a2114839",
   "metadata": {},
   "source": [
    "How to understand if a dataframe is duplicated or not we can use the duplicated function and then we put that inside the dataframe again to see what is duplicated. If there are no result/output, then it means there is no duplications."
   ]
  },
  {
   "cell_type": "code",
   "execution_count": 42,
   "id": "ab3f451f",
   "metadata": {},
   "outputs": [],
   "source": [
    "my_duplicated=final['PATNO'].duplicated()"
   ]
  },
  {
   "cell_type": "code",
   "execution_count": 43,
   "id": "8817bd9f",
   "metadata": {},
   "outputs": [
    {
     "data": {
      "text/html": [
       "<div>\n",
       "<style scoped>\n",
       "    .dataframe tbody tr th:only-of-type {\n",
       "        vertical-align: middle;\n",
       "    }\n",
       "\n",
       "    .dataframe tbody tr th {\n",
       "        vertical-align: top;\n",
       "    }\n",
       "\n",
       "    .dataframe thead th {\n",
       "        text-align: right;\n",
       "    }\n",
       "</style>\n",
       "<table border=\"1\" class=\"dataframe\">\n",
       "  <thead>\n",
       "    <tr style=\"text-align: right;\">\n",
       "      <th></th>\n",
       "      <th>PATNO</th>\n",
       "      <th>AGE_AT_VISIT</th>\n",
       "      <th>AFICBERB</th>\n",
       "      <th>ASHKJEW</th>\n",
       "      <th>BASQUE</th>\n",
       "      <th>BIRTHDT</th>\n",
       "      <th>SEX</th>\n",
       "      <th>CHLDBEAR</th>\n",
       "      <th>HANDED</th>\n",
       "      <th>HISPLAT</th>\n",
       "      <th>RAASIAN</th>\n",
       "      <th>RABLACK</th>\n",
       "      <th>RAHAWOPI</th>\n",
       "      <th>RAINDALS</th>\n",
       "      <th>RANOS</th>\n",
       "      <th>RAWHITE</th>\n",
       "      <th>COHORT_DEFINITION</th>\n",
       "    </tr>\n",
       "  </thead>\n",
       "  <tbody>\n",
       "  </tbody>\n",
       "</table>\n",
       "</div>"
      ],
      "text/plain": [
       "Empty DataFrame\n",
       "Columns: [PATNO, AGE_AT_VISIT, AFICBERB, ASHKJEW, BASQUE, BIRTHDT, SEX, CHLDBEAR, HANDED, HISPLAT, RAASIAN, RABLACK, RAHAWOPI, RAINDALS, RANOS, RAWHITE, COHORT_DEFINITION]\n",
       "Index: []"
      ]
     },
     "execution_count": 43,
     "metadata": {},
     "output_type": "execute_result"
    }
   ],
   "source": [
    "final[my_duplicated]"
   ]
  },
  {
   "cell_type": "markdown",
   "id": "6eaa7ae4",
   "metadata": {},
   "source": [
    "Here Ivan asked to send him the transcriptomic data for IR2 and IR3 for counts and quant."
   ]
  },
  {
   "cell_type": "code",
   "execution_count": 44,
   "id": "a2510b79",
   "metadata": {},
   "outputs": [],
   "source": [
    "ipath1=Path(\"/scratch/znazari/PPMI_ver_sep2022/RNA_Seq_data/star_ir2/counts/\")\n",
    "bl_files=pd.read_csv(ipath1/\"bl.txt\", header=None )\n"
   ]
  },
  {
   "cell_type": "code",
   "execution_count": 45,
   "id": "527168e0",
   "metadata": {},
   "outputs": [],
   "source": [
    "def function_names(fname):\n",
    "    tokens=fname.split('.')\n",
    "    return tokens[1]"
   ]
  },
  {
   "cell_type": "code",
   "execution_count": 46,
   "id": "d6575de8",
   "metadata": {},
   "outputs": [],
   "source": [
    "bl_list=[]\n",
    "for i in range(len(bl_files)):\n",
    "    bl_list=bl_list+[function_names(bl_files.iloc[i][0])]"
   ]
  },
  {
   "cell_type": "code",
   "execution_count": null,
   "id": "f53f42c6",
   "metadata": {},
   "outputs": [],
   "source": []
  },
  {
   "cell_type": "code",
   "execution_count": 47,
   "id": "d5d68f02",
   "metadata": {},
   "outputs": [],
   "source": [
    "contains1=[]\n",
    "not_contains1=[]\n",
    "for i in bl_list:\n",
    "    if i in big_patients:\n",
    "        contains1+=[i]\n",
    "    else:\n",
    "        not_contains1+=[i]"
   ]
  },
  {
   "cell_type": "code",
   "execution_count": 48,
   "id": "8ce3319c",
   "metadata": {},
   "outputs": [
    {
     "name": "stdout",
     "output_type": "stream",
     "text": [
      "1128\n"
     ]
    },
    {
     "data": {
      "text/plain": [
       "409"
      ]
     },
     "execution_count": 48,
     "metadata": {},
     "output_type": "execute_result"
    }
   ],
   "source": [
    "print(len(contains1))\n",
    "len(not_contains1)"
   ]
  },
  {
   "cell_type": "code",
   "execution_count": 49,
   "id": "92d25da8",
   "metadata": {},
   "outputs": [],
   "source": [
    "contains1;"
   ]
  },
  {
   "cell_type": "code",
   "execution_count": 50,
   "id": "f6cd401d",
   "metadata": {},
   "outputs": [],
   "source": [
    "ir2_count=pd.DataFrame(bl_list)"
   ]
  },
  {
   "cell_type": "code",
   "execution_count": 51,
   "id": "e13f613b",
   "metadata": {},
   "outputs": [],
   "source": [
    "ir2_count.to_csv(\"ir2_counts_PIDs.txt\",  index=False)"
   ]
  },
  {
   "cell_type": "code",
   "execution_count": null,
   "id": "12404c28",
   "metadata": {},
   "outputs": [],
   "source": []
  },
  {
   "cell_type": "code",
   "execution_count": 52,
   "id": "8179d32b",
   "metadata": {},
   "outputs": [],
   "source": [
    "ipath2=Path(\"/scratch/znazari/PPMI_ver_sep2022/RNA_Seq_data/star_ir2/quant/\")\n",
    "quant2_files=pd.read_csv(ipath2/\"bl.txt\", header=None )"
   ]
  },
  {
   "cell_type": "code",
   "execution_count": 53,
   "id": "81197ec5",
   "metadata": {},
   "outputs": [],
   "source": [
    "bl_list2=[]\n",
    "for i in range(len(quant2_files)):\n",
    "    bl_list2=bl_list2+[function_names(quant2_files.iloc[i][0])]"
   ]
  },
  {
   "cell_type": "code",
   "execution_count": null,
   "id": "45a785d9",
   "metadata": {},
   "outputs": [],
   "source": []
  },
  {
   "cell_type": "code",
   "execution_count": 87,
   "id": "c9d40bd7",
   "metadata": {},
   "outputs": [],
   "source": [
    "contains2=[]\n",
    "not_contains2=[]\n",
    "for i in bl_list2:\n",
    "    if i in big_patients:\n",
    "        contains2+=[i]\n",
    "    else:\n",
    "        not_contains2+=[i]"
   ]
  },
  {
   "cell_type": "code",
   "execution_count": 55,
   "id": "74fffec2",
   "metadata": {},
   "outputs": [],
   "source": [
    "quantir2=pd.DataFrame(bl_list2)"
   ]
  },
  {
   "cell_type": "code",
   "execution_count": 56,
   "id": "ba323876",
   "metadata": {},
   "outputs": [],
   "source": [
    "quantir2.to_csv(\"ir2_quant_PIDs.txt\",  index=False)"
   ]
  },
  {
   "cell_type": "code",
   "execution_count": null,
   "id": "882636cc",
   "metadata": {},
   "outputs": [],
   "source": []
  },
  {
   "cell_type": "code",
   "execution_count": 57,
   "id": "d9e3874c",
   "metadata": {},
   "outputs": [],
   "source": [
    "ipath3=Path(\"/scratch/znazari/PPMI_ver_sep2022/RNA_Seq_data/star_ir3/counts/\")\n",
    "bl3_files=pd.read_csv(ipath3/\"bl.txt\", header=None )"
   ]
  },
  {
   "cell_type": "code",
   "execution_count": 58,
   "id": "d3fde690",
   "metadata": {},
   "outputs": [],
   "source": [
    "bl3_list=[]\n",
    "for i in range(len(bl3_files)):\n",
    "    bl3_list=bl3_list+[function_names(bl3_files.iloc[i][0])]"
   ]
  },
  {
   "cell_type": "code",
   "execution_count": null,
   "id": "76b12921",
   "metadata": {},
   "outputs": [],
   "source": []
  },
  {
   "cell_type": "code",
   "execution_count": 88,
   "id": "16d67cae",
   "metadata": {},
   "outputs": [],
   "source": [
    "contains3=[]\n",
    "not_contains3=[]\n",
    "for i in bl3_list:\n",
    "    if i in big_patients:\n",
    "        contains3+=[i]\n",
    "    else:\n",
    "        not_contains3+=[i]"
   ]
  },
  {
   "cell_type": "code",
   "execution_count": 60,
   "id": "3aaf3542",
   "metadata": {},
   "outputs": [
    {
     "data": {
      "text/plain": [
       "0"
      ]
     },
     "execution_count": 60,
     "metadata": {},
     "output_type": "execute_result"
    }
   ],
   "source": [
    "len(not_contains3)"
   ]
  },
  {
   "cell_type": "code",
   "execution_count": null,
   "id": "986531c2",
   "metadata": {},
   "outputs": [],
   "source": []
  },
  {
   "cell_type": "code",
   "execution_count": 61,
   "id": "7c70cb10",
   "metadata": {},
   "outputs": [],
   "source": [
    "ir3_count=pd.DataFrame(bl3_list)"
   ]
  },
  {
   "cell_type": "code",
   "execution_count": 62,
   "id": "ea63d6db",
   "metadata": {},
   "outputs": [],
   "source": [
    "ir3_count.to_csv(\"ir3_counts_PIDs.txt\",  index=False)"
   ]
  },
  {
   "cell_type": "code",
   "execution_count": null,
   "id": "f6c33fb3",
   "metadata": {},
   "outputs": [],
   "source": []
  },
  {
   "cell_type": "code",
   "execution_count": 63,
   "id": "46b88ff1",
   "metadata": {},
   "outputs": [],
   "source": [
    "ipath4=Path(\"/scratch/znazari/PPMI_ver_sep2022/RNA_Seq_data/my_star_ir3/quant/\")\n",
    "bl4_files=pd.read_csv(ipath4/\"bl.txt\", header=None )"
   ]
  },
  {
   "cell_type": "code",
   "execution_count": 64,
   "id": "d36db6bc",
   "metadata": {},
   "outputs": [],
   "source": [
    "bl4_list=[]\n",
    "for i in range(len(bl4_files)):\n",
    "    bl4_list=bl4_list+[function_names(bl4_files.iloc[i][0])]"
   ]
  },
  {
   "cell_type": "code",
   "execution_count": null,
   "id": "6f9bfd91",
   "metadata": {},
   "outputs": [],
   "source": []
  },
  {
   "cell_type": "code",
   "execution_count": 65,
   "id": "f5a71eab",
   "metadata": {},
   "outputs": [
    {
     "ename": "NameError",
     "evalue": "name 'very_big_PIDs' is not defined",
     "output_type": "error",
     "traceback": [
      "\u001b[0;31m---------------------------------------------------------------------------\u001b[0m",
      "\u001b[0;31mNameError\u001b[0m                                 Traceback (most recent call last)",
      "\u001b[0;32m/tmp/ipykernel_30760/811209095.py\u001b[0m in \u001b[0;36m<module>\u001b[0;34m\u001b[0m\n\u001b[1;32m      2\u001b[0m \u001b[0mnot_contains4\u001b[0m\u001b[0;34m=\u001b[0m\u001b[0;34m[\u001b[0m\u001b[0;34m]\u001b[0m\u001b[0;34m\u001b[0m\u001b[0;34m\u001b[0m\u001b[0m\n\u001b[1;32m      3\u001b[0m \u001b[0;32mfor\u001b[0m \u001b[0mi\u001b[0m \u001b[0;32min\u001b[0m \u001b[0mbl4_list\u001b[0m\u001b[0;34m:\u001b[0m\u001b[0;34m\u001b[0m\u001b[0;34m\u001b[0m\u001b[0m\n\u001b[0;32m----> 4\u001b[0;31m     \u001b[0;32mif\u001b[0m \u001b[0mi\u001b[0m \u001b[0;32min\u001b[0m \u001b[0mvery_big_PIDs\u001b[0m\u001b[0;34m:\u001b[0m\u001b[0;34m\u001b[0m\u001b[0;34m\u001b[0m\u001b[0m\n\u001b[0m\u001b[1;32m      5\u001b[0m         \u001b[0mcontains4\u001b[0m\u001b[0;34m+=\u001b[0m\u001b[0;34m[\u001b[0m\u001b[0mi\u001b[0m\u001b[0;34m]\u001b[0m\u001b[0;34m\u001b[0m\u001b[0;34m\u001b[0m\u001b[0m\n\u001b[1;32m      6\u001b[0m     \u001b[0;32melse\u001b[0m\u001b[0;34m:\u001b[0m\u001b[0;34m\u001b[0m\u001b[0;34m\u001b[0m\u001b[0m\n",
      "\u001b[0;31mNameError\u001b[0m: name 'very_big_PIDs' is not defined"
     ]
    }
   ],
   "source": [
    "contains4=[]\n",
    "not_contains4=[]\n",
    "for i in bl4_list:\n",
    "    if i in very_big_PIDs:\n",
    "        contains4+=[i]\n",
    "    else:\n",
    "        not_contains4+=[i]"
   ]
  },
  {
   "cell_type": "code",
   "execution_count": 66,
   "id": "30631a5b",
   "metadata": {},
   "outputs": [
    {
     "data": {
      "text/plain": [
       "0"
      ]
     },
     "execution_count": 66,
     "metadata": {},
     "output_type": "execute_result"
    }
   ],
   "source": [
    "len(not_contains4)"
   ]
  },
  {
   "cell_type": "code",
   "execution_count": 67,
   "id": "08b5b636",
   "metadata": {},
   "outputs": [],
   "source": [
    "ir3_quant=pd.DataFrame(bl4_list)"
   ]
  },
  {
   "cell_type": "code",
   "execution_count": 68,
   "id": "4a48b1e2",
   "metadata": {},
   "outputs": [],
   "source": [
    "ir3_quant.to_csv(\"ir3_quant_PIDs.txt\",  index=False)"
   ]
  },
  {
   "cell_type": "markdown",
   "id": "1621f0bf",
   "metadata": {},
   "source": [
    "Here we want to get the patient ID's from the file of PD_Diagnosis_History.csv from the folder: Medical_History"
   ]
  },
  {
   "cell_type": "code",
   "execution_count": 69,
   "id": "7c38aed9",
   "metadata": {},
   "outputs": [],
   "source": [
    "path_medical=Path(\"/scratch/znazari/PPMI_ver_sep2022/study_data/Medical_History\")\n"
   ]
  },
  {
   "cell_type": "code",
   "execution_count": 70,
   "id": "40161b7b",
   "metadata": {},
   "outputs": [],
   "source": [
    "files_medical=pd.read_csv(path_medical/\"PD_Diagnosis_History.csv\", header=None )"
   ]
  },
  {
   "cell_type": "code",
   "execution_count": 71,
   "id": "cf0afbf0",
   "metadata": {},
   "outputs": [],
   "source": [
    "files_medical_m=files_medical.rename(columns=files_medical.iloc[0]).drop(files_medical.index[0]).reset_index(drop=True)\n"
   ]
  },
  {
   "cell_type": "code",
   "execution_count": 72,
   "id": "05801d81",
   "metadata": {},
   "outputs": [],
   "source": [
    "medical_patients=list(files_medical_m['PATNO'])"
   ]
  },
  {
   "cell_type": "code",
   "execution_count": 73,
   "id": "1e47e3aa",
   "metadata": {},
   "outputs": [],
   "source": [
    "contains_1=[]\n",
    "not_contains_1=[]\n",
    "for i in bl_list:\n",
    "    if i in  medical_patients:\n",
    "        contains_1+=[i]\n",
    "    else:\n",
    "        not_contains_1+=[i]"
   ]
  },
  {
   "cell_type": "code",
   "execution_count": 74,
   "id": "262e173e",
   "metadata": {},
   "outputs": [
    {
     "data": {
      "text/plain": [
       "646"
      ]
     },
     "execution_count": 74,
     "metadata": {},
     "output_type": "execute_result"
    }
   ],
   "source": [
    "len(contains_1)"
   ]
  },
  {
   "cell_type": "code",
   "execution_count": 75,
   "id": "35c37782",
   "metadata": {},
   "outputs": [],
   "source": [
    "contains_2=[]\n",
    "not_contains_2=[]\n",
    "for i in medical_patients:\n",
    "    if i in  bl_list:\n",
    "        contains_2+=[i]\n",
    "    else:\n",
    "        not_contains_2+=[i]"
   ]
  },
  {
   "cell_type": "code",
   "execution_count": 76,
   "id": "0027e2f3",
   "metadata": {},
   "outputs": [
    {
     "data": {
      "text/plain": [
       "575"
      ]
     },
     "execution_count": 76,
     "metadata": {},
     "output_type": "execute_result"
    }
   ],
   "source": [
    "len(not_contains_2)"
   ]
  },
  {
   "cell_type": "markdown",
   "id": "19282ef6",
   "metadata": {},
   "source": [
    "Here I need to find the matrix where there is patient IDs that are included in bl of IR2 counts and also they are in the big diagnosis matrix, with a good order. At this point we ignore the medical history file as it is even less than what we need actually."
   ]
  },
  {
   "cell_type": "code",
   "execution_count": 77,
   "id": "caaa5b6d",
   "metadata": {},
   "outputs": [],
   "source": [
    "contains1;#this is the patient ID that I'll be using for the extracted matrix with genes included.\n",
    "len(contains1)\n",
    "contains1;"
   ]
  },
  {
   "cell_type": "code",
   "execution_count": 86,
   "id": "41bcbf4f",
   "metadata": {},
   "outputs": [
    {
     "data": {
      "text/html": [
       "<div>\n",
       "<style scoped>\n",
       "    .dataframe tbody tr th:only-of-type {\n",
       "        vertical-align: middle;\n",
       "    }\n",
       "\n",
       "    .dataframe tbody tr th {\n",
       "        vertical-align: top;\n",
       "    }\n",
       "\n",
       "    .dataframe thead th {\n",
       "        text-align: right;\n",
       "    }\n",
       "</style>\n",
       "<table border=\"1\" class=\"dataframe\">\n",
       "  <thead>\n",
       "    <tr style=\"text-align: right;\">\n",
       "      <th></th>\n",
       "      <th>PATNO</th>\n",
       "      <th>COHORT_DEFINITION</th>\n",
       "    </tr>\n",
       "  </thead>\n",
       "  <tbody>\n",
       "    <tr>\n",
       "      <th>0</th>\n",
       "      <td>3000</td>\n",
       "      <td>Healthy Control</td>\n",
       "    </tr>\n",
       "    <tr>\n",
       "      <th>1</th>\n",
       "      <td>3001</td>\n",
       "      <td>Parkinson's Disease</td>\n",
       "    </tr>\n",
       "    <tr>\n",
       "      <th>2</th>\n",
       "      <td>3002</td>\n",
       "      <td>Parkinson's Disease</td>\n",
       "    </tr>\n",
       "    <tr>\n",
       "      <th>3</th>\n",
       "      <td>3003</td>\n",
       "      <td>Parkinson's Disease</td>\n",
       "    </tr>\n",
       "    <tr>\n",
       "      <th>4</th>\n",
       "      <td>3004</td>\n",
       "      <td>Healthy Control</td>\n",
       "    </tr>\n",
       "    <tr>\n",
       "      <th>...</th>\n",
       "      <td>...</td>\n",
       "      <td>...</td>\n",
       "    </tr>\n",
       "    <tr>\n",
       "      <th>1926</th>\n",
       "      <td>160252</td>\n",
       "      <td>Parkinson's Disease</td>\n",
       "    </tr>\n",
       "    <tr>\n",
       "      <th>1927</th>\n",
       "      <td>161236</td>\n",
       "      <td>Parkinson's Disease</td>\n",
       "    </tr>\n",
       "    <tr>\n",
       "      <th>1928</th>\n",
       "      <td>162140</td>\n",
       "      <td>Prodromal</td>\n",
       "    </tr>\n",
       "    <tr>\n",
       "      <th>1929</th>\n",
       "      <td>162905</td>\n",
       "      <td>Healthy Control</td>\n",
       "    </tr>\n",
       "    <tr>\n",
       "      <th>1930</th>\n",
       "      <td>162929</td>\n",
       "      <td>Parkinson's Disease</td>\n",
       "    </tr>\n",
       "  </tbody>\n",
       "</table>\n",
       "<p>1931 rows × 2 columns</p>\n",
       "</div>"
      ],
      "text/plain": [
       "       PATNO    COHORT_DEFINITION\n",
       "0       3000      Healthy Control\n",
       "1       3001  Parkinson's Disease\n",
       "2       3002  Parkinson's Disease\n",
       "3       3003  Parkinson's Disease\n",
       "4       3004      Healthy Control\n",
       "...      ...                  ...\n",
       "1926  160252  Parkinson's Disease\n",
       "1927  161236  Parkinson's Disease\n",
       "1928  162140            Prodromal\n",
       "1929  162905      Healthy Control\n",
       "1930  162929  Parkinson's Disease\n",
       "\n",
       "[1931 rows x 2 columns]"
      ]
     },
     "execution_count": 86,
     "metadata": {},
     "output_type": "execute_result"
    }
   ],
   "source": [
    "patient_diagonises #this is the Diagnosis DataFrame with  big patient IDs "
   ]
  },
  {
   "cell_type": "code",
   "execution_count": 79,
   "id": "e41bd89f",
   "metadata": {},
   "outputs": [
    {
     "data": {
      "text/html": [
       "<div>\n",
       "<style scoped>\n",
       "    .dataframe tbody tr th:only-of-type {\n",
       "        vertical-align: middle;\n",
       "    }\n",
       "\n",
       "    .dataframe tbody tr th {\n",
       "        vertical-align: top;\n",
       "    }\n",
       "\n",
       "    .dataframe thead th {\n",
       "        text-align: right;\n",
       "    }\n",
       "</style>\n",
       "<table border=\"1\" class=\"dataframe\">\n",
       "  <thead>\n",
       "    <tr style=\"text-align: right;\">\n",
       "      <th></th>\n",
       "      <th>PATNO</th>\n",
       "      <th>COHORT_DEFINITION</th>\n",
       "    </tr>\n",
       "  </thead>\n",
       "  <tbody>\n",
       "    <tr>\n",
       "      <th>0</th>\n",
       "      <td>3000</td>\n",
       "      <td>Healthy Control</td>\n",
       "    </tr>\n",
       "    <tr>\n",
       "      <th>1</th>\n",
       "      <td>3001</td>\n",
       "      <td>Parkinson's Disease</td>\n",
       "    </tr>\n",
       "    <tr>\n",
       "      <th>2</th>\n",
       "      <td>3002</td>\n",
       "      <td>Parkinson's Disease</td>\n",
       "    </tr>\n",
       "    <tr>\n",
       "      <th>3</th>\n",
       "      <td>3003</td>\n",
       "      <td>Parkinson's Disease</td>\n",
       "    </tr>\n",
       "    <tr>\n",
       "      <th>4</th>\n",
       "      <td>3004</td>\n",
       "      <td>Healthy Control</td>\n",
       "    </tr>\n",
       "    <tr>\n",
       "      <th>...</th>\n",
       "      <td>...</td>\n",
       "      <td>...</td>\n",
       "    </tr>\n",
       "    <tr>\n",
       "      <th>1926</th>\n",
       "      <td>160252</td>\n",
       "      <td>Parkinson's Disease</td>\n",
       "    </tr>\n",
       "    <tr>\n",
       "      <th>1927</th>\n",
       "      <td>161236</td>\n",
       "      <td>Parkinson's Disease</td>\n",
       "    </tr>\n",
       "    <tr>\n",
       "      <th>1928</th>\n",
       "      <td>162140</td>\n",
       "      <td>Prodromal</td>\n",
       "    </tr>\n",
       "    <tr>\n",
       "      <th>1929</th>\n",
       "      <td>162905</td>\n",
       "      <td>Healthy Control</td>\n",
       "    </tr>\n",
       "    <tr>\n",
       "      <th>1930</th>\n",
       "      <td>162929</td>\n",
       "      <td>Parkinson's Disease</td>\n",
       "    </tr>\n",
       "  </tbody>\n",
       "</table>\n",
       "<p>1931 rows × 2 columns</p>\n",
       "</div>"
      ],
      "text/plain": [
       "       PATNO    COHORT_DEFINITION\n",
       "0       3000      Healthy Control\n",
       "1       3001  Parkinson's Disease\n",
       "2       3002  Parkinson's Disease\n",
       "3       3003  Parkinson's Disease\n",
       "4       3004      Healthy Control\n",
       "...      ...                  ...\n",
       "1926  160252  Parkinson's Disease\n",
       "1927  161236  Parkinson's Disease\n",
       "1928  162140            Prodromal\n",
       "1929  162905      Healthy Control\n",
       "1930  162929  Parkinson's Disease\n",
       "\n",
       "[1931 rows x 2 columns]"
      ]
     },
     "execution_count": 79,
     "metadata": {},
     "output_type": "execute_result"
    }
   ],
   "source": [
    "patient_diagonises=final[['PATNO','COHORT_DEFINITION']]\n",
    "patient_diagonises"
   ]
  },
  {
   "cell_type": "code",
   "execution_count": 80,
   "id": "627057d5",
   "metadata": {},
   "outputs": [],
   "source": [
    "relevant_patient_IDs = contains1 \n",
    "    \n",
    "# selecting rows based on condition \n",
    "filtered_PIs = patient_diagonises[patient_diagonises['PATNO'].isin(relevant_patient_IDs)] "
   ]
  },
  {
   "cell_type": "code",
   "execution_count": 81,
   "id": "8704466f",
   "metadata": {},
   "outputs": [
    {
     "data": {
      "text/html": [
       "<div>\n",
       "<style scoped>\n",
       "    .dataframe tbody tr th:only-of-type {\n",
       "        vertical-align: middle;\n",
       "    }\n",
       "\n",
       "    .dataframe tbody tr th {\n",
       "        vertical-align: top;\n",
       "    }\n",
       "\n",
       "    .dataframe thead th {\n",
       "        text-align: right;\n",
       "    }\n",
       "</style>\n",
       "<table border=\"1\" class=\"dataframe\">\n",
       "  <thead>\n",
       "    <tr style=\"text-align: right;\">\n",
       "      <th></th>\n",
       "      <th>BL_PATNO2</th>\n",
       "      <th>COHORT_DEFINITION</th>\n",
       "    </tr>\n",
       "  </thead>\n",
       "  <tbody>\n",
       "    <tr>\n",
       "      <th>0</th>\n",
       "      <td>10874</td>\n",
       "      <td>Parkinson's Disease</td>\n",
       "    </tr>\n",
       "    <tr>\n",
       "      <th>1</th>\n",
       "      <td>12499</td>\n",
       "      <td>Parkinson's Disease</td>\n",
       "    </tr>\n",
       "    <tr>\n",
       "      <th>2</th>\n",
       "      <td>12593</td>\n",
       "      <td>Parkinson's Disease</td>\n",
       "    </tr>\n",
       "    <tr>\n",
       "      <th>3</th>\n",
       "      <td>13039</td>\n",
       "      <td>SWEDD</td>\n",
       "    </tr>\n",
       "    <tr>\n",
       "      <th>4</th>\n",
       "      <td>13424</td>\n",
       "      <td>Healthy Control</td>\n",
       "    </tr>\n",
       "    <tr>\n",
       "      <th>...</th>\n",
       "      <td>...</td>\n",
       "      <td>...</td>\n",
       "    </tr>\n",
       "    <tr>\n",
       "      <th>1532</th>\n",
       "      <td>65003</td>\n",
       "      <td>Parkinson's Disease</td>\n",
       "    </tr>\n",
       "    <tr>\n",
       "      <th>1533</th>\n",
       "      <td>65005</td>\n",
       "      <td>Parkinson's Disease</td>\n",
       "    </tr>\n",
       "    <tr>\n",
       "      <th>1534</th>\n",
       "      <td>65008</td>\n",
       "      <td>Healthy Control</td>\n",
       "    </tr>\n",
       "    <tr>\n",
       "      <th>1535</th>\n",
       "      <td>70239</td>\n",
       "      <td>Prodromal</td>\n",
       "    </tr>\n",
       "    <tr>\n",
       "      <th>1536</th>\n",
       "      <td>85242</td>\n",
       "      <td>Parkinson's Disease</td>\n",
       "    </tr>\n",
       "  </tbody>\n",
       "</table>\n",
       "<p>1537 rows × 2 columns</p>\n",
       "</div>"
      ],
      "text/plain": [
       "     BL_PATNO2    COHORT_DEFINITION\n",
       "0        10874  Parkinson's Disease\n",
       "1        12499  Parkinson's Disease\n",
       "2        12593  Parkinson's Disease\n",
       "3        13039                SWEDD\n",
       "4        13424      Healthy Control\n",
       "...        ...                  ...\n",
       "1532     65003  Parkinson's Disease\n",
       "1533     65005  Parkinson's Disease\n",
       "1534     65008      Healthy Control\n",
       "1535     70239            Prodromal\n",
       "1536     85242  Parkinson's Disease\n",
       "\n",
       "[1537 rows x 2 columns]"
      ]
     },
     "execution_count": 81,
     "metadata": {},
     "output_type": "execute_result"
    }
   ],
   "source": [
    "before_filter_patients"
   ]
  },
  {
   "cell_type": "code",
   "execution_count": 82,
   "id": "b5439cc2",
   "metadata": {},
   "outputs": [
    {
     "data": {
      "text/html": [
       "<div>\n",
       "<style scoped>\n",
       "    .dataframe tbody tr th:only-of-type {\n",
       "        vertical-align: middle;\n",
       "    }\n",
       "\n",
       "    .dataframe tbody tr th {\n",
       "        vertical-align: top;\n",
       "    }\n",
       "\n",
       "    .dataframe thead th {\n",
       "        text-align: right;\n",
       "    }\n",
       "</style>\n",
       "<table border=\"1\" class=\"dataframe\">\n",
       "  <thead>\n",
       "    <tr style=\"text-align: right;\">\n",
       "      <th></th>\n",
       "      <th>BL_PATNO2</th>\n",
       "      <th>COHORT_DEFINITION</th>\n",
       "    </tr>\n",
       "  </thead>\n",
       "  <tbody>\n",
       "    <tr>\n",
       "      <th>0</th>\n",
       "      <td>10874</td>\n",
       "      <td>Parkinson's Disease</td>\n",
       "    </tr>\n",
       "    <tr>\n",
       "      <th>1</th>\n",
       "      <td>12499</td>\n",
       "      <td>Parkinson's Disease</td>\n",
       "    </tr>\n",
       "    <tr>\n",
       "      <th>2</th>\n",
       "      <td>12593</td>\n",
       "      <td>Parkinson's Disease</td>\n",
       "    </tr>\n",
       "    <tr>\n",
       "      <th>3</th>\n",
       "      <td>13039</td>\n",
       "      <td>SWEDD</td>\n",
       "    </tr>\n",
       "    <tr>\n",
       "      <th>4</th>\n",
       "      <td>13424</td>\n",
       "      <td>Healthy Control</td>\n",
       "    </tr>\n",
       "    <tr>\n",
       "      <th>...</th>\n",
       "      <td>...</td>\n",
       "      <td>...</td>\n",
       "    </tr>\n",
       "    <tr>\n",
       "      <th>1123</th>\n",
       "      <td>60095</td>\n",
       "      <td>Parkinson's Disease</td>\n",
       "    </tr>\n",
       "    <tr>\n",
       "      <th>1124</th>\n",
       "      <td>60171</td>\n",
       "      <td>Parkinson's Disease</td>\n",
       "    </tr>\n",
       "    <tr>\n",
       "      <th>1125</th>\n",
       "      <td>65002</td>\n",
       "      <td>Parkinson's Disease</td>\n",
       "    </tr>\n",
       "    <tr>\n",
       "      <th>1126</th>\n",
       "      <td>65003</td>\n",
       "      <td>Parkinson's Disease</td>\n",
       "    </tr>\n",
       "    <tr>\n",
       "      <th>1127</th>\n",
       "      <td>85242</td>\n",
       "      <td>Parkinson's Disease</td>\n",
       "    </tr>\n",
       "  </tbody>\n",
       "</table>\n",
       "<p>1128 rows × 2 columns</p>\n",
       "</div>"
      ],
      "text/plain": [
       "     BL_PATNO2    COHORT_DEFINITION\n",
       "0        10874  Parkinson's Disease\n",
       "1        12499  Parkinson's Disease\n",
       "2        12593  Parkinson's Disease\n",
       "3        13039                SWEDD\n",
       "4        13424      Healthy Control\n",
       "...        ...                  ...\n",
       "1123     60095  Parkinson's Disease\n",
       "1124     60171  Parkinson's Disease\n",
       "1125     65002  Parkinson's Disease\n",
       "1126     65003  Parkinson's Disease\n",
       "1127     85242  Parkinson's Disease\n",
       "\n",
       "[1128 rows x 2 columns]"
      ]
     },
     "execution_count": 82,
     "metadata": {},
     "output_type": "execute_result"
    }
   ],
   "source": [
    "relevant_patient_IDs = contains1 \n",
    "    \n",
    "# selecting rows based on condition \n",
    "after_filtered_PIs = before_filter_patients[before_filter_patients['BL_PATNO2'].isin(relevant_patient_IDs)] \n",
    "after_filtered_PIs.reset_index(drop=True)"
   ]
  },
  {
   "cell_type": "code",
   "execution_count": null,
   "id": "4d69b3e2",
   "metadata": {},
   "outputs": [],
   "source": []
  },
  {
   "cell_type": "code",
   "execution_count": 83,
   "id": "35922744",
   "metadata": {},
   "outputs": [
    {
     "name": "stderr",
     "output_type": "stream",
     "text": [
      "/tmp/ipykernel_30760/3938239890.py:1: SettingWithCopyWarning: \n",
      "A value is trying to be set on a copy of a slice from a DataFrame.\n",
      "Try using .loc[row_indexer,col_indexer] = value instead\n",
      "\n",
      "See the caveats in the documentation: https://pandas.pydata.org/pandas-docs/stable/user_guide/indexing.html#returning-a-view-versus-a-copy\n",
      "  filtered_PIs['ordered_patients']=relevant_patient_IDs\n"
     ]
    }
   ],
   "source": [
    "filtered_PIs['ordered_patients']=relevant_patient_IDs"
   ]
  },
  {
   "cell_type": "code",
   "execution_count": 84,
   "id": "22b5aa4d",
   "metadata": {},
   "outputs": [
    {
     "data": {
      "text/html": [
       "<div>\n",
       "<style scoped>\n",
       "    .dataframe tbody tr th:only-of-type {\n",
       "        vertical-align: middle;\n",
       "    }\n",
       "\n",
       "    .dataframe tbody tr th {\n",
       "        vertical-align: top;\n",
       "    }\n",
       "\n",
       "    .dataframe thead th {\n",
       "        text-align: right;\n",
       "    }\n",
       "</style>\n",
       "<table border=\"1\" class=\"dataframe\">\n",
       "  <thead>\n",
       "    <tr style=\"text-align: right;\">\n",
       "      <th></th>\n",
       "      <th>PATNO</th>\n",
       "      <th>COHORT_DEFINITION</th>\n",
       "      <th>ordered_patients</th>\n",
       "    </tr>\n",
       "  </thead>\n",
       "  <tbody>\n",
       "    <tr>\n",
       "      <th>0</th>\n",
       "      <td>3000</td>\n",
       "      <td>Healthy Control</td>\n",
       "      <td>10874</td>\n",
       "    </tr>\n",
       "    <tr>\n",
       "      <th>1</th>\n",
       "      <td>3001</td>\n",
       "      <td>Parkinson's Disease</td>\n",
       "      <td>12499</td>\n",
       "    </tr>\n",
       "    <tr>\n",
       "      <th>2</th>\n",
       "      <td>3002</td>\n",
       "      <td>Parkinson's Disease</td>\n",
       "      <td>12593</td>\n",
       "    </tr>\n",
       "    <tr>\n",
       "      <th>3</th>\n",
       "      <td>3003</td>\n",
       "      <td>Parkinson's Disease</td>\n",
       "      <td>13039</td>\n",
       "    </tr>\n",
       "    <tr>\n",
       "      <th>4</th>\n",
       "      <td>3004</td>\n",
       "      <td>Healthy Control</td>\n",
       "      <td>13424</td>\n",
       "    </tr>\n",
       "    <tr>\n",
       "      <th>...</th>\n",
       "      <td>...</td>\n",
       "      <td>...</td>\n",
       "      <td>...</td>\n",
       "    </tr>\n",
       "    <tr>\n",
       "      <th>1476</th>\n",
       "      <td>90456</td>\n",
       "      <td>Prodromal</td>\n",
       "      <td>60095</td>\n",
       "    </tr>\n",
       "    <tr>\n",
       "      <th>1477</th>\n",
       "      <td>91097</td>\n",
       "      <td>Prodromal</td>\n",
       "      <td>60171</td>\n",
       "    </tr>\n",
       "    <tr>\n",
       "      <th>1478</th>\n",
       "      <td>91837</td>\n",
       "      <td>Prodromal</td>\n",
       "      <td>65002</td>\n",
       "    </tr>\n",
       "    <tr>\n",
       "      <th>1479</th>\n",
       "      <td>92490</td>\n",
       "      <td>Prodromal</td>\n",
       "      <td>65003</td>\n",
       "    </tr>\n",
       "    <tr>\n",
       "      <th>1480</th>\n",
       "      <td>92834</td>\n",
       "      <td>Prodromal</td>\n",
       "      <td>85242</td>\n",
       "    </tr>\n",
       "  </tbody>\n",
       "</table>\n",
       "<p>1128 rows × 3 columns</p>\n",
       "</div>"
      ],
      "text/plain": [
       "      PATNO    COHORT_DEFINITION ordered_patients\n",
       "0      3000      Healthy Control            10874\n",
       "1      3001  Parkinson's Disease            12499\n",
       "2      3002  Parkinson's Disease            12593\n",
       "3      3003  Parkinson's Disease            13039\n",
       "4      3004      Healthy Control            13424\n",
       "...     ...                  ...              ...\n",
       "1476  90456            Prodromal            60095\n",
       "1477  91097            Prodromal            60171\n",
       "1478  91837            Prodromal            65002\n",
       "1479  92490            Prodromal            65003\n",
       "1480  92834            Prodromal            85242\n",
       "\n",
       "[1128 rows x 3 columns]"
      ]
     },
     "execution_count": 84,
     "metadata": {},
     "output_type": "execute_result"
    }
   ],
   "source": [
    "filtered_PIs"
   ]
  },
  {
   "cell_type": "code",
   "execution_count": null,
   "id": "e30fcdb7",
   "metadata": {},
   "outputs": [],
   "source": []
  },
  {
   "cell_type": "code",
   "execution_count": 85,
   "id": "815c5a99",
   "metadata": {},
   "outputs": [
    {
     "data": {
      "text/html": [
       "<div>\n",
       "<style scoped>\n",
       "    .dataframe tbody tr th:only-of-type {\n",
       "        vertical-align: middle;\n",
       "    }\n",
       "\n",
       "    .dataframe tbody tr th {\n",
       "        vertical-align: top;\n",
       "    }\n",
       "\n",
       "    .dataframe thead th {\n",
       "        text-align: right;\n",
       "    }\n",
       "</style>\n",
       "<table border=\"1\" class=\"dataframe\">\n",
       "  <thead>\n",
       "    <tr style=\"text-align: right;\">\n",
       "      <th></th>\n",
       "      <th>PATNO</th>\n",
       "      <th>COHORT_DEFINITION</th>\n",
       "    </tr>\n",
       "  </thead>\n",
       "  <tbody>\n",
       "    <tr>\n",
       "      <th>0</th>\n",
       "      <td>3000</td>\n",
       "      <td>Healthy Control</td>\n",
       "    </tr>\n",
       "    <tr>\n",
       "      <th>1</th>\n",
       "      <td>3001</td>\n",
       "      <td>Parkinson's Disease</td>\n",
       "    </tr>\n",
       "    <tr>\n",
       "      <th>2</th>\n",
       "      <td>3002</td>\n",
       "      <td>Parkinson's Disease</td>\n",
       "    </tr>\n",
       "    <tr>\n",
       "      <th>3</th>\n",
       "      <td>3003</td>\n",
       "      <td>Parkinson's Disease</td>\n",
       "    </tr>\n",
       "    <tr>\n",
       "      <th>4</th>\n",
       "      <td>3004</td>\n",
       "      <td>Healthy Control</td>\n",
       "    </tr>\n",
       "    <tr>\n",
       "      <th>...</th>\n",
       "      <td>...</td>\n",
       "      <td>...</td>\n",
       "    </tr>\n",
       "    <tr>\n",
       "      <th>1926</th>\n",
       "      <td>160252</td>\n",
       "      <td>Parkinson's Disease</td>\n",
       "    </tr>\n",
       "    <tr>\n",
       "      <th>1927</th>\n",
       "      <td>161236</td>\n",
       "      <td>Parkinson's Disease</td>\n",
       "    </tr>\n",
       "    <tr>\n",
       "      <th>1928</th>\n",
       "      <td>162140</td>\n",
       "      <td>Prodromal</td>\n",
       "    </tr>\n",
       "    <tr>\n",
       "      <th>1929</th>\n",
       "      <td>162905</td>\n",
       "      <td>Healthy Control</td>\n",
       "    </tr>\n",
       "    <tr>\n",
       "      <th>1930</th>\n",
       "      <td>162929</td>\n",
       "      <td>Parkinson's Disease</td>\n",
       "    </tr>\n",
       "  </tbody>\n",
       "</table>\n",
       "<p>1931 rows × 2 columns</p>\n",
       "</div>"
      ],
      "text/plain": [
       "       PATNO    COHORT_DEFINITION\n",
       "0       3000      Healthy Control\n",
       "1       3001  Parkinson's Disease\n",
       "2       3002  Parkinson's Disease\n",
       "3       3003  Parkinson's Disease\n",
       "4       3004      Healthy Control\n",
       "...      ...                  ...\n",
       "1926  160252  Parkinson's Disease\n",
       "1927  161236  Parkinson's Disease\n",
       "1928  162140            Prodromal\n",
       "1929  162905      Healthy Control\n",
       "1930  162929  Parkinson's Disease\n",
       "\n",
       "[1931 rows x 2 columns]"
      ]
     },
     "execution_count": 85,
     "metadata": {},
     "output_type": "execute_result"
    }
   ],
   "source": [
    "patient_diagonises[['PATNO','COHORT_DEFINITION']]"
   ]
  },
  {
   "cell_type": "code",
   "execution_count": null,
   "id": "a593855a",
   "metadata": {},
   "outputs": [],
   "source": []
  },
  {
   "cell_type": "code",
   "execution_count": null,
   "id": "ac5df281",
   "metadata": {},
   "outputs": [],
   "source": []
  }
 ],
 "metadata": {
  "kernelspec": {
   "display_name": "Python 3",
   "language": "python",
   "name": "python3"
  },
  "language_info": {
   "codemirror_mode": {
    "name": "ipython",
    "version": 3
   },
   "file_extension": ".py",
   "mimetype": "text/x-python",
   "name": "python",
   "nbconvert_exporter": "python",
   "pygments_lexer": "ipython3",
   "version": "3.9.13"
  }
 },
 "nbformat": 4,
 "nbformat_minor": 5
}
