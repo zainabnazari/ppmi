{
 "cells": [
  {
   "cell_type": "markdown",
   "id": "56d184cd",
   "metadata": {},
   "source": [
    " #  RNA-Seq Data Preprocessing STEP I\n",
    "\n",
    "\n",
    "-------\n",
    "\n",
    "- We keep only individuals with diagnosis of Health Control or Parkinson's Disease.\n",
    "- We remove patients that have these gene mutations : SNCA, GBA, LRRK2, and taking dopaminergic drugs.\n",
    "- We remove the duplicated gene IDs in which they carry _PAR_Y and its X transcript.\n",
    "-  We only keep genes with the intersection of counts and quants with protein coding and non-protein coding RNAincs.\n",
    "--------\n",
    "- We remove lowely expressed genes, by keeping only genes that had more than five counts in at least 10% of the individuals."
   ]
  },
  {
   "cell_type": "code",
   "execution_count": 1,
   "id": "5c7b8ba7",
   "metadata": {},
   "outputs": [],
   "source": [
    "import pandas as pd\n",
    "from pathlib import Path\n",
    "from datetime import datetime"
   ]
  },
  {
   "cell_type": "code",
   "execution_count": 2,
   "id": "8ba5df20",
   "metadata": {},
   "outputs": [],
   "source": [
    "path2 = Path(\"/home/znazari/data\") # where the output data will be saved at the end.\n",
    "path3=Path(\"/scratch/znazari/PPMI_ver_sep2022/study_data/Subject_Characteristics/\")"
   ]
  },
  {
   "cell_type": "code",
   "execution_count": 3,
   "id": "07749200",
   "metadata": {},
   "outputs": [],
   "source": [
    "# Read the main table of gene IDs vs invididuals \n",
    "read_ir3_counts = pd.read_csv(path2/\"matrix_ir3_counts_bl.csv\")\n",
    "\n",
    "# Set the geneid as indexing column\n",
    "read_ir3_counts.set_index('Geneid', inplace=True)"
   ]
  },
  {
   "cell_type": "code",
   "execution_count": 4,
   "id": "56456e0a",
   "metadata": {},
   "outputs": [],
   "source": [
    "# Read the file which contains diagnosis\n",
    "diago=pd.read_csv(path3/\"Participant_Status.csv\", header=None )\n",
    "diago1=diago.rename(columns=diago.iloc[0]).drop(diago.index[0]).reset_index(drop=True)\n",
    "\n",
    "# Select only diagnosis with parkinson's and control.\n",
    "selected_diagnosis_pd_hc = diago1[diago1['COHORT_DEFINITION'].isin(['Healthy Control', \"Parkinson's Disease\"])]\n",
    "pd_hc = selected_diagnosis_pd_hc['PATNO']\n",
    "\n",
    "filtered_df = read_ir3_counts.loc[:, read_ir3_counts.columns.isin(pd_hc)]"
   ]
  },
  {
   "cell_type": "code",
   "execution_count": 5,
   "id": "a169c1dd",
   "metadata": {},
   "outputs": [],
   "source": [
    "# Read the file which contains patients with gene mutations or dopaminzzergic drug users\n",
    "union_drugs_mutations=pd.read_csv(path2/'union_drugs_mutations.csv', index_col=0)\n",
    "s_union_drugs_mutations= union_drugs_mutations['0']\n",
    "s_union_drugs_mutations_str = s_union_drugs_mutations.astype(str)\n",
    "\n",
    "# Remove patients using dopaminergic drugs\n",
    "filtered_df_drug = filtered_df.drop(columns=s_union_drugs_mutations_str, errors='ignore')"
   ]
  },
  {
   "cell_type": "markdown",
   "id": "7b5e1e7e",
   "metadata": {},
   "source": [
    "## Complete list of Gene IDs with and withOUT versions"
   ]
  },
  {
   "cell_type": "code",
   "execution_count": 6,
   "id": "3e2c82d7",
   "metadata": {},
   "outputs": [],
   "source": [
    "# Remove patients using dopaminergic drugs\n",
    "\n",
    "filtered_df_drug = filtered_df.drop(columns=s_union_drugs_mutations_str, errors='ignore')\n",
    "with_version = filtered_df_drug.copy()\n",
    "\n",
    "# Remove the after dot (.) value, i.e. the version of the geneIDs is removed.\n",
    "filtered_df_drug.index =filtered_df_drug.index.str.split('.').str[0]\n",
    "without_version = filtered_df_drug\n",
    "\n",
    "# Combine them together\n",
    "all_IR3_counts_gene_IDs = pd.DataFrame({\n",
    "    'Gene_IDs_with_version': with_version.index,\n",
    "    'Gene_IDs_withOUT_version': without_version.index\n",
    "})\n",
    "\n",
    "all_IR3_counts_gene_IDs.to_csv(path2/\"all_IR3_counts_gene_IDs.csv\", index=False)"
   ]
  },
  {
   "cell_type": "markdown",
   "id": "2e410516",
   "metadata": {},
   "source": [
    "## Genes with its _PAR_Y counterparts\n",
    "\n",
    "We exclude genes associated with the Y chromosome in males, as well as their X chromosome counterparts, to eliminate some genes that contribute to speific gender.\n",
    "\n",
    "\n",
    "The suffix _PAR_Y in Ensembl ID refers to the pseudoautosomal region (PAR) of the Y chromosome. The PAR is a region of the Y chromosome that shares homology with the X chromosome, and it is the only part of the Y chromosome that recombines with the X chromosome during meiosis.\n",
    "\n",
    "In case we analyze genes exclusively in males, we aggregate counts for X and PAR_Y transcripts. Considering that quantification should encompass the total of these isoforms.\""
   ]
  },
  {
   "cell_type": "code",
   "execution_count": 7,
   "id": "82bd159f",
   "metadata": {},
   "outputs": [],
   "source": [
    "# Get the duplicated indices\n",
    "duplicated_indices = filtered_df_drug.index[filtered_df_drug.index.duplicated()]\n",
    "\n",
    "# Create a new dataframe with the duplicated indices\n",
    "new_df = filtered_df_drug.loc[duplicated_indices]\n",
    "\n",
    "# Sort the list of based on their indices\n",
    "new_df.sort_index(inplace=True)\n",
    "\n",
    "# Get the indices\n",
    "gene_id_duplicated = new_df.index\n",
    "\n",
    "# Make a list out of indices\n",
    "list_duplicated_genes = list(gene_id_duplicated)\n",
    "\n",
    "# Filter the list of genes with their _PAR_Y counter part and including their versions\n",
    "matching_rows = filtered_df_drug[filtered_df_drug.index.str.contains('|'.join(list_duplicated_genes), case=False)]\n",
    "\n",
    "# Make a list of genes that have duplicated Y chromosomes as well\n",
    "Genes_list_duplicated = list(matching_rows.index)\n",
    "\n",
    "# Remove them from the main list\n",
    "filtered_df_drug_duplicate_indices = filtered_df_drug.drop(list_duplicated_genes)"
   ]
  },
  {
   "cell_type": "code",
   "execution_count": null,
   "id": "fc882ed4",
   "metadata": {},
   "outputs": [],
   "source": [
    "# Keep the genes with proteomic and non proteomic IncRNAs genes\n",
    "\n",
    "protein_coding = pd.read_csv(path2/'HGNC_protein_coding_genes_31Jan2024.txt', delimiter='\\t')\n",
    "non_protein_codying = pd.read_csv(path2/'HGNC_lncRNA_non_coding_genes_31Jan2024.txt',delimiter='\\t')\n",
    "intersection_genes=pd.read_csv(path2/'Intersection_genes_IR3_counts_gene_IDs_with_HGNC_lncRNA_Protein_Coding_31Jan2024.txt',delimiter='\\t')"
   ]
  },
  {
   "cell_type": "code",
   "execution_count": null,
   "id": "06eb224b",
   "metadata": {},
   "outputs": [],
   "source": []
  },
  {
   "cell_type": "code",
   "execution_count": null,
   "id": "84a81e31",
   "metadata": {},
   "outputs": [],
   "source": [
    "#rna_filtered.to_csv(path2/'ir3_rna_step1.csv', index=True)\n",
    "# combine the target as well"
   ]
  },
  {
   "cell_type": "code",
   "execution_count": 87,
   "id": "53af4bc5",
   "metadata": {},
   "outputs": [
    {
     "name": "stdout",
     "output_type": "stream",
     "text": [
      "Last update : 2024-02-02\n"
     ]
    }
   ],
   "source": [
    "# Get the current date\n",
    "current_date = datetime.now().date()\n",
    "\n",
    "# Print the current date\n",
    "print(\"Last update :\", current_date)"
   ]
  },
  {
   "cell_type": "code",
   "execution_count": 28,
   "id": "ac4554df",
   "metadata": {},
   "outputs": [
    {
     "data": {
      "text/plain": [
       "GeneID\n",
       "GeneA    0.0\n",
       "GeneB    0.5\n",
       "GeneC    1.0\n",
       "dtype: float64"
      ]
     },
     "execution_count": 28,
     "metadata": {},
     "output_type": "execute_result"
    }
   ],
   "source": [
    "import pandas as pd\n",
    "\n",
    "# Assuming you have a DataFrame named df with patient IDs as columns and gene counts as rows\n",
    "# Replace these with your actual DataFrame\n",
    "\n",
    "# Sample data creation (replace this with your actual data)\n",
    "data = {'GeneID': ['GeneA', 'GeneB', 'GeneC'],\n",
    "        'Patient1': [3, 7, 10],\n",
    "        'Patient2': [1, 8, 12],\n",
    "        'Patient3': [2, 5, 9],\n",
    "       'Patient4': [2, 5, 9]}\n",
    "df = pd.DataFrame(data)\n",
    "\n",
    "# Set 'GeneID' column as the index\n",
    "df.set_index('GeneID', inplace=True)\n",
    "\n",
    "# Calculate the percentage of patients in which each gene has more than five counts\n",
    "gene_percentages = (df > 5).sum(axis=1) / df.shape[1]\n",
    "\n",
    "# Display the result\n",
    "gene_percentages\n"
   ]
  },
  {
   "cell_type": "code",
   "execution_count": 29,
   "id": "f5261b3d",
   "metadata": {},
   "outputs": [
    {
     "data": {
      "text/plain": [
       "GeneID\n",
       "GeneA    0\n",
       "GeneB    2\n",
       "GeneC    4\n",
       "dtype: int64"
      ]
     },
     "execution_count": 29,
     "metadata": {},
     "output_type": "execute_result"
    }
   ],
   "source": [
    "(df > 5).sum(axis=1)"
   ]
  },
  {
   "cell_type": "code",
   "execution_count": 30,
   "id": "502a2bfa",
   "metadata": {},
   "outputs": [
    {
     "data": {
      "text/html": [
       "<div>\n",
       "<style scoped>\n",
       "    .dataframe tbody tr th:only-of-type {\n",
       "        vertical-align: middle;\n",
       "    }\n",
       "\n",
       "    .dataframe tbody tr th {\n",
       "        vertical-align: top;\n",
       "    }\n",
       "\n",
       "    .dataframe thead th {\n",
       "        text-align: right;\n",
       "    }\n",
       "</style>\n",
       "<table border=\"1\" class=\"dataframe\">\n",
       "  <thead>\n",
       "    <tr style=\"text-align: right;\">\n",
       "      <th></th>\n",
       "      <th>Patient1</th>\n",
       "      <th>Patient2</th>\n",
       "      <th>Patient3</th>\n",
       "      <th>Patient4</th>\n",
       "    </tr>\n",
       "    <tr>\n",
       "      <th>GeneID</th>\n",
       "      <th></th>\n",
       "      <th></th>\n",
       "      <th></th>\n",
       "      <th></th>\n",
       "    </tr>\n",
       "  </thead>\n",
       "  <tbody>\n",
       "    <tr>\n",
       "      <th>GeneA</th>\n",
       "      <td>3</td>\n",
       "      <td>1</td>\n",
       "      <td>2</td>\n",
       "      <td>2</td>\n",
       "    </tr>\n",
       "    <tr>\n",
       "      <th>GeneB</th>\n",
       "      <td>7</td>\n",
       "      <td>8</td>\n",
       "      <td>5</td>\n",
       "      <td>5</td>\n",
       "    </tr>\n",
       "    <tr>\n",
       "      <th>GeneC</th>\n",
       "      <td>10</td>\n",
       "      <td>12</td>\n",
       "      <td>9</td>\n",
       "      <td>9</td>\n",
       "    </tr>\n",
       "  </tbody>\n",
       "</table>\n",
       "</div>"
      ],
      "text/plain": [
       "        Patient1  Patient2  Patient3  Patient4\n",
       "GeneID                                        \n",
       "GeneA          3         1         2         2\n",
       "GeneB          7         8         5         5\n",
       "GeneC         10        12         9         9"
      ]
     },
     "execution_count": 30,
     "metadata": {},
     "output_type": "execute_result"
    }
   ],
   "source": [
    "df"
   ]
  },
  {
   "cell_type": "code",
   "execution_count": 32,
   "id": "3201b91b",
   "metadata": {},
   "outputs": [
    {
     "data": {
      "text/plain": [
       "3"
      ]
     },
     "execution_count": 32,
     "metadata": {},
     "output_type": "execute_result"
    }
   ],
   "source": [
    "df.shape[0]"
   ]
  },
  {
   "cell_type": "code",
   "execution_count": 20,
   "id": "558bc16c",
   "metadata": {},
   "outputs": [],
   "source": [
    "import pandas as pd\n",
    "\n",
    "\n",
    "\n",
    "# Calculate the number of counts for each gene across all patients\n",
    "#gene_counts = df.sum(axis=0)\n",
    "\n",
    "# Calculate the percentage of patients in which each gene has more than five counts\n",
    "#gene_percentages = (df > 5).sum(axis=0) / df.shape[0]\n",
    "\n",
    "# Set the threshold value\n",
    "threshold = 0.1\n",
    "\n",
    "# Filter out genes whose percentage is below the threshold\n",
    "filtered_genes = gene_percentages[gene_percentages >= threshold].index\n",
    "\n",
    "# Remove the filtered genes from the dataframe\n",
    "df_filtered = df.loc[filtered_genes]\n"
   ]
  },
  {
   "cell_type": "code",
   "execution_count": 19,
   "id": "267bcf40",
   "metadata": {},
   "outputs": [
    {
     "data": {
      "text/plain": [
       "Index(['GeneB', 'GeneC'], dtype='object', name='GeneID')"
      ]
     },
     "execution_count": 19,
     "metadata": {},
     "output_type": "execute_result"
    }
   ],
   "source": [
    "filtered_genes"
   ]
  },
  {
   "cell_type": "code",
   "execution_count": 21,
   "id": "05cd4dbd",
   "metadata": {},
   "outputs": [
    {
     "data": {
      "text/html": [
       "<div>\n",
       "<style scoped>\n",
       "    .dataframe tbody tr th:only-of-type {\n",
       "        vertical-align: middle;\n",
       "    }\n",
       "\n",
       "    .dataframe tbody tr th {\n",
       "        vertical-align: top;\n",
       "    }\n",
       "\n",
       "    .dataframe thead th {\n",
       "        text-align: right;\n",
       "    }\n",
       "</style>\n",
       "<table border=\"1\" class=\"dataframe\">\n",
       "  <thead>\n",
       "    <tr style=\"text-align: right;\">\n",
       "      <th></th>\n",
       "      <th>Patient1</th>\n",
       "      <th>Patient2</th>\n",
       "      <th>Patient3</th>\n",
       "    </tr>\n",
       "    <tr>\n",
       "      <th>GeneID</th>\n",
       "      <th></th>\n",
       "      <th></th>\n",
       "      <th></th>\n",
       "    </tr>\n",
       "  </thead>\n",
       "  <tbody>\n",
       "    <tr>\n",
       "      <th>GeneB</th>\n",
       "      <td>7</td>\n",
       "      <td>8</td>\n",
       "      <td>5</td>\n",
       "    </tr>\n",
       "    <tr>\n",
       "      <th>GeneC</th>\n",
       "      <td>10</td>\n",
       "      <td>12</td>\n",
       "      <td>9</td>\n",
       "    </tr>\n",
       "  </tbody>\n",
       "</table>\n",
       "</div>"
      ],
      "text/plain": [
       "        Patient1  Patient2  Patient3\n",
       "GeneID                              \n",
       "GeneB          7         8         5\n",
       "GeneC         10        12         9"
      ]
     },
     "execution_count": 21,
     "metadata": {},
     "output_type": "execute_result"
    }
   ],
   "source": [
    "df_filtered"
   ]
  },
  {
   "cell_type": "code",
   "execution_count": null,
   "id": "43e0e3d3",
   "metadata": {},
   "outputs": [],
   "source": []
  }
 ],
 "metadata": {
  "celltoolbar": "Edit Metadata",
  "kernelspec": {
   "display_name": "Python 3",
   "language": "python",
   "name": "python3"
  },
  "language_info": {
   "codemirror_mode": {
    "name": "ipython",
    "version": 3
   },
   "file_extension": ".py",
   "mimetype": "text/x-python",
   "name": "python",
   "nbconvert_exporter": "python",
   "pygments_lexer": "ipython3",
   "version": "3.9.13"
  }
 },
 "nbformat": 4,
 "nbformat_minor": 5
}
