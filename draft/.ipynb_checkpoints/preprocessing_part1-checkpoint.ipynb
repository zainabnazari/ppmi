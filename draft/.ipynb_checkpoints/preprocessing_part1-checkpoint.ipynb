{
 "cells": [
  {
   "cell_type": "markdown",
   "id": "56d184cd",
   "metadata": {},
   "source": [
    " #  RNA-Seq Data Preprocessing Part I\n",
    "\n",
    "-------\n",
    "\n",
    "- We keep only individuals with diagnosis of Health Control or Parkinson's Disease.\n",
    "- We remove patients that have these gene mutations : SNCA, GBA, LRRK2, and taking dopaminergic drugs.\n",
    "- We remove the duplicated gene IDs which are those that carry ensembl genes with suffix _PAR_Y and their X transcripts.\n",
    "-  We only keep genes that are either in the 19393 protein coding gene list or in 5874 long intergenic non-coding RNAs (lincRNAs) list that we obtained from the official HGNC repository (date: 31-Jan-2024).\n",
    "- We filter out genes with low expression levels, retaining only those genes that exhibit more than five counts in a minimum of 10% of the individuals."
   ]
  },
  {
   "cell_type": "code",
   "execution_count": 1,
   "id": "5c7b8ba7",
   "metadata": {},
   "outputs": [],
   "source": [
    "import pandas as pd\n",
    "from pathlib import Path\n",
    "from datetime import datetime"
   ]
  },
  {
   "cell_type": "code",
   "execution_count": 2,
   "id": "8ba5df20",
   "metadata": {},
   "outputs": [],
   "source": [
    "path2 = Path(\"/home/znazari/data\") # where the output data will be saved at the end.\n",
    "path3=Path(\"/scratch/znazari/PPMI_ver_sep2022/study_data/Subject_Characteristics/\")"
   ]
  },
  {
   "cell_type": "code",
   "execution_count": 3,
   "id": "07749200",
   "metadata": {},
   "outputs": [],
   "source": [
    "# Read the main table of gene IDs vs invididuals \n",
    "read_ir3_counts = pd.read_csv(path2/\"matrix_ir3_counts_bl.csv\")\n",
    "\n",
    "# Set the geneid as indexing column\n",
    "read_ir3_counts.set_index('Geneid', inplace=True)"
   ]
  },
  {
   "cell_type": "code",
   "execution_count": 4,
   "id": "56456e0a",
   "metadata": {},
   "outputs": [],
   "source": [
    "# Read the file which contains diagnosis\n",
    "diago=pd.read_csv(path3/\"Participant_Status.csv\", header=None )\n",
    "diago1=diago.rename(columns=diago.iloc[0]).drop(diago.index[0]).reset_index(drop=True)\n",
    "\n",
    "# Select only diagnosis with parkinson's and control.\n",
    "selected_diagnosis_pd_hc = diago1[diago1['COHORT_DEFINITION'].isin(['Healthy Control', \"Parkinson's Disease\"])]\n",
    "pd_hc = selected_diagnosis_pd_hc['PATNO']\n",
    "\n",
    "# Matrix of gene IDs with pateints only with PD and Control subjests\n",
    "filtered_df = read_ir3_counts.loc[:, read_ir3_counts.columns.isin(pd_hc)]"
   ]
  },
  {
   "cell_type": "code",
   "execution_count": 6,
   "id": "a169c1dd",
   "metadata": {},
   "outputs": [],
   "source": [
    "# Read the file which contains patients with gene mutations and/or using dopaminergic drugs\n",
    "union_drugs_mutations=pd.read_csv(path2/'union_drugs_mutations.csv', index_col=0)\n",
    "s_union_drugs_mutations= union_drugs_mutations['0']\n",
    "s_union_drugs_mutations_str = s_union_drugs_mutations.astype(str)\n",
    "\n",
    "# Remove patients with gene mutations and/or using dopaminergic drugs\n",
    "filtered_df_drug = filtered_df.drop(columns=s_union_drugs_mutations_str, errors='ignore')\n",
    "\n",
    "# Make some copy for later use\n",
    "filtered_df_drug_c = filtered_df_drug.copy()"
   ]
  },
  {
   "cell_type": "markdown",
   "id": "2e410516",
   "metadata": {},
   "source": [
    "## Genes with  _PAR_Y and their X counterpart\n",
    "\n",
    "The suffix _PAR_Y in Ensembl ID refers to the pseudoautosomal region (PAR) of the Y chromosome (which can only be found in males). The PAR is a region of the Y chromosome that shares homology with the X chromosome, and it is the only part of the Y chromosome that recombines with the X chromosome during meiosis.\n",
    "\n",
    "For simplicity, we exclude genes associated with the Y chromosome (_PAR_Y genes), as well as their X chromosome counterparts. Alternatively  for female we could remove the _PAR_Y as it is irrelevant for them and for males we could add the value of _PAR_Y genes with their X counterparts, considering that quantification should encompass the total value of these isoforms."
   ]
  },
  {
   "cell_type": "code",
   "execution_count": 8,
   "id": "2c26f6e5",
   "metadata": {},
   "outputs": [],
   "source": [
    "# Remove the version\n",
    "filtered_df_drug_c.index =filtered_df_drug.index.str.split('.').str[0]\n",
    "\n",
    "# Get the duplicated indices\n",
    "duplicated_indices = filtered_df_drug_c.index[filtered_df_drug_c.index.duplicated()]\n",
    "\n",
    "# Create a new dataframe with the duplicated indices\n",
    "new_df = filtered_df_drug_c.loc[duplicated_indices]\n",
    "\n",
    "# Sort the list of based on their indices\n",
    "new_df.sort_index(inplace=True)\n",
    "\n",
    "# Get the indices\n",
    "gene_id_duplicated = new_df.index\n",
    "\n",
    "# Make a list out of indices\n",
    "list_duplicated_genes = list(gene_id_duplicated)\n",
    "\n",
    "# Filter the list of genes with their _PAR_Y counter part and including their versions\n",
    "matching_rows = filtered_df_drug[filtered_df_drug.index.str.contains('|'.join(list_duplicated_genes), case=False)]\n",
    "\n",
    "# Make a list of genes that have duplicated Y chromosomes as well\n",
    "Genes_list_duplicated = list(matching_rows.index)\n",
    "\n",
    "filtered_df_druggg = filtered_df_drug[~filtered_df_drug.index.isin(Genes_list_duplicated)]"
   ]
  },
  {
   "cell_type": "markdown",
   "id": "7b5e1e7e",
   "metadata": {},
   "source": [
    "## Save complete list of Gene IDs with and withOUT versions"
   ]
  },
  {
   "cell_type": "code",
   "execution_count": 14,
   "id": "fb903012",
   "metadata": {},
   "outputs": [],
   "source": [
    "# Combine them together\n",
    "all_IR3_counts_gene_IDs = pd.DataFrame({\n",
    "    'Gene_IDs_with_version': filtered_df_drug.index,\n",
    "    'Gene_IDs_withOUT_version': filtered_df_drug_c.index})\n",
    "\n",
    "# Save complete list of Gene IDs with and withOUT versions\n",
    "all_IR3_counts_gene_IDs.to_csv(path2/\"all_IR3_counts_gene_IDs.csv\", index=False)"
   ]
  },
  {
   "cell_type": "markdown",
   "id": "9cc34575",
   "metadata": {},
   "source": [
    "## Ensembl gene IDs corresponding to protein-coding and long non-coding RNA genes\n",
    "\n",
    "We obtained a complete list of long non-coding RNA and protein-coding gene symbols from the official HGNC repository (date: 31-Jan-2024), that were then converted to Ensemble gene IDs using a table from BioMart (date: 31-Jan-2024). Only expression data corresponding to long non-coding RNA and protein-coding genes (24694 Ensemble gene IDs in total) were selected for further analysis."
   ]
  },
  {
   "cell_type": "code",
   "execution_count": 11,
   "id": "fc882ed4",
   "metadata": {},
   "outputs": [],
   "source": [
    "# Keep the genes with proteomic and non proteomic IncRNAs genes\n",
    "\n",
    "# protein coding gene symbols:\n",
    "protein_coding = pd.read_csv(\"../External_data/HGNC_protein_coding_genes_31Jan2024.txt\", delimiter='\\t')\n",
    "\n",
    "# long non-coding protein gene symbols\n",
    "non_protein_codying = pd.read_csv(\"../External_data/HGNC_lncRNA_non_coding_genes_31Jan2024.txt\", delimiter='\\t')\n",
    "\n",
    "# Dictionary to convery gene symbols to Ensemble gene IDs:\n",
    "dictionary = pd.read_csv(\"../External_data/HGNC_BioMart_symbol_name_EnsembleGeneID_31Jan2024.txt\", delimiter='\\t')\n",
    "\n",
    "# Ensemble gene IDs for protein and long non-coding protein genes:\n",
    "intersection_genes=pd.read_csv(\"../External_data/Intersection_genes_IR3_counts_gene_IDs_with_HGNC_lncRNA_Protein_Coding_04feb2024.txt\", delimiter='\\t')"
   ]
  },
  {
   "cell_type": "code",
   "execution_count": 12,
   "id": "a8e6cd66",
   "metadata": {},
   "outputs": [],
   "source": [
    "# Copy the dataframe\n",
    "full_list_genes_hc_pd = filtered_df_druggg.copy() \n",
    "\n",
    "# Remove the version\n",
    "full_list_genes_hc_pd.index =full_list_genes_hc_pd.index.str.split('.').str[0]\n",
    "\n",
    "# Protein and long non-coding protein genes list\n",
    "protein_long_non_ptotein= list(intersection_genes[\"Ensemble_Gene_ID\"])\n",
    "\n",
    "# Filter the DataFrame based on the intersection of ensemble gene IDs\n",
    "full_ensemblgene = full_list_genes_hc_pd[full_list_genes_hc_pd.index.isin(protein_long_non_ptotein)]"
   ]
  },
  {
   "cell_type": "markdown",
   "id": "dc4a1f92",
   "metadata": {},
   "source": [
    "## Lowly expressed genes removal\n",
    "We filter out genes with low expression levels, retaining only those genes that exhibit more than five counts in a minimum of 10% of the individuals."
   ]
  },
  {
   "cell_type": "code",
   "execution_count": 19,
   "id": "704963aa",
   "metadata": {},
   "outputs": [],
   "source": [
    "# Calculate the percentage of patients in which each gene has more than five counts\n",
    "gene_percentages = (full_ensemblgene > 5).sum(axis=1) / full_ensemblgene.shape[1]\n",
    "\n",
    "# Set the threshold value\n",
    "threshold = 0.1\n",
    "\n",
    "# Filter out genes whose percentage is below the threshold\n",
    "filtered_genes = gene_percentages[gene_percentages >= threshold].index\n",
    "\n",
    "# Remove the filtered genes from the dataframe\n",
    "highly_expressed_genes = full_ensemblgene.loc[filtered_genes]"
   ]
  },
  {
   "cell_type": "code",
   "execution_count": 21,
   "id": "84a81e31",
   "metadata": {},
   "outputs": [],
   "source": [
    "highly_expressed_genes.to_csv(path2/'ir3_rna_step1_preprocessing.csv', index=True)"
   ]
  },
  {
   "cell_type": "code",
   "execution_count": 83,
   "id": "53af4bc5",
   "metadata": {},
   "outputs": [
    {
     "name": "stdout",
     "output_type": "stream",
     "text": [
      "Last update : 2024-02-06\n"
     ]
    }
   ],
   "source": [
    "# Get the current date\n",
    "current_date = datetime.now().date()\n",
    "\n",
    "# Print the current date\n",
    "print(\"Last update :\", current_date)"
   ]
  }
 ],
 "metadata": {
  "celltoolbar": "Edit Metadata",
  "kernelspec": {
   "display_name": "Python 3",
   "language": "python",
   "name": "python3"
  },
  "language_info": {
   "codemirror_mode": {
    "name": "ipython",
    "version": 3
   },
   "file_extension": ".py",
   "mimetype": "text/x-python",
   "name": "python",
   "nbconvert_exporter": "python",
   "pygments_lexer": "ipython3",
   "version": "3.9.13"
  }
 },
 "nbformat": 4,
 "nbformat_minor": 5
}
