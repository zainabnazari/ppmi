{
 "cells": [
  {
   "cell_type": "markdown",
   "id": "56d184cd",
   "metadata": {},
   "source": [
    " # <span style=\"color:#8B4513;\"> RNA-Seq Data Preprocessing STEP I\n",
    "</span>\n",
    "\n",
    "-------\n",
    "\n",
    "- We keep only individuals with diagnosis of Health control or Parkinson's disease.\n",
    "- We remove patients that have these gene mutations : SNCA, GBA, LRRK2, and taking dopaminergic drugs.\n",
    "- We remove the duplicated gene IDs in which they carry _PAR_Y and its X transcript.\n",
    "-  We only keep genes with the intersection of counts and quants with proteing coding and non protein coding RNAincs.\n",
    "--------\n",
    "- We remove lowely expressed genes, by keeping only genes that had more than five counts in at least 10% of the individuals, which left us with 21,273 genes"
   ]
  },
  {
   "cell_type": "code",
   "execution_count": 86,
   "id": "5c7b8ba7",
   "metadata": {},
   "outputs": [],
   "source": [
    "import pandas as pd\n",
    "from pathlib import Path\n",
    "from datetime import datetime"
   ]
  },
  {
   "cell_type": "code",
   "execution_count": 39,
   "id": "8ba5df20",
   "metadata": {},
   "outputs": [],
   "source": [
    "path2 = Path(\"/home/znazari/data\") # where the output data will be saved at the end.\n",
    "path3=Path(\"/scratch/znazari/PPMI_ver_sep2022/study_data/Subject_Characteristics/\")"
   ]
  },
  {
   "cell_type": "code",
   "execution_count": 40,
   "id": "07749200",
   "metadata": {},
   "outputs": [],
   "source": [
    "# Read the main table of gene IDs vs invididuals \n",
    "read_ir3_counts = pd.read_csv(path2/\"matrix_ir3_counts_bl.csv\")\n",
    "\n",
    "# Set the geneid as indexing column\n",
    "read_ir3_counts.set_index('Geneid', inplace=True)"
   ]
  },
  {
   "cell_type": "code",
   "execution_count": 9,
   "id": "56456e0a",
   "metadata": {},
   "outputs": [],
   "source": [
    "# Read the file which contains diagnosis\n",
    "diago=pd.read_csv(path3/\"Participant_Status.csv\", header=None )\n",
    "diago1=diago.rename(columns=diago.iloc[0]).drop(diago.index[0]).reset_index(drop=True)\n",
    "\n",
    "# Select only diagnosis with parkinson's and control.\n",
    "selected_diagnosis_pd_hc = diago1[diago1['COHORT_DEFINITION'].isin(['Healthy Control', \"Parkinson's Disease\"])]\n",
    "pd_hc = selected_diagnosis_pd_hc['PATNO']\n",
    "\n",
    "filtered_df = read_ir3_counts.loc[:, read_ir3_counts.columns.isin(pd_hc)]"
   ]
  },
  {
   "cell_type": "code",
   "execution_count": 84,
   "id": "a169c1dd",
   "metadata": {},
   "outputs": [],
   "source": [
    "# Read the file which contains patients with gene mutations or dopaminzzergic drug users\n",
    "union_drugs_mutations=pd.read_csv(path2/'union_drugs_mutations.csv', index_col=0)\n",
    "s_union_drugs_mutations= union_drugs_mutations['0']\n",
    "s_union_drugs_mutations_str = s_union_drugs_mutations.astype(str)\n",
    "\n",
    "# Remove patients using dopaminergic drugs\n",
    "filtered_df_drug = filtered_df.drop(columns=s_union_drugs_mutations_str, errors='ignore')"
   ]
  },
  {
   "cell_type": "markdown",
   "id": "a41fc06f",
   "metadata": {},
   "source": [
    "## Complete list of Gene IDs with and withOUT versions"
   ]
  },
  {
   "cell_type": "code",
   "execution_count": 85,
   "id": "ec4f88d8",
   "metadata": {},
   "outputs": [],
   "source": [
    "# This cell must run just once to avoid conflict\n",
    "\n",
    "with_version = filtered_df_drug.copy()\n",
    "\n",
    "# Remove the after dot (.) value, i.e. the version of the geneIDs is removed.\n",
    "filtered_df_drug.index =filtered_df_drug.index.str.split('.').str[0]\n",
    "without_version = filtered_df_drug\n",
    "\n",
    "# Combine them together\n",
    "all_IR3_counts_gene_IDs = pd.DataFrame({\n",
    "    'Gene_IDs_with_version': with_version.index,\n",
    "    'Gene_IDs_withOUT_version': without_version.index\n",
    "})\n",
    "\n",
    "all_IR3_counts_gene_IDs.to_csv(path2/\"all_IR3_counts_gene_IDs.csv\", index=False)"
   ]
  },
  {
   "cell_type": "markdown",
   "id": "f00f9d6f",
   "metadata": {},
   "source": [
    "## Filter the gene list by pairing each gene with its _PAR_Y counterpart\n",
    "\n",
    "To eliminate some genes that contribute gender biases from our study. We exclude genes associated with the Y chromosome in males, as well as their X chromosome counterparts. \n",
    "\n",
    "In case we analyze genes exclusively in males, we aggregate counts for X and PAR_Y transcripts, considering alternative splicing's potential generation of different variants for the same 'Ensembl-ID' transcript. Quantification should encompass the total of these isoforms.\""
   ]
  },
  {
   "cell_type": "code",
   "execution_count": null,
   "id": "82bd159f",
   "metadata": {},
   "outputs": [],
   "source": [
    "# Remove the after dot (.) value, i.e. the version of the geneIDs is removed.\n",
    "filtered_df_drug.index =filtered_df_drug.index.str.split('.').str[0]\n",
    "\n",
    "# Get the duplicated indices\n",
    "duplicated_indices = filtered_df_drug.index[filtered_df_drug.index.duplicated()]\n",
    "\n",
    "# Create a new dataframe with the duplicated indices\n",
    "new_df = filtered_df_drug.loc[duplicated_indices]\n",
    "\n",
    "# Sort the list of based on their indices\n",
    "new_df.sort_index(inplace=True)\n",
    "\n",
    "# Get the indices\n",
    "gene_id_duplicated = new_df.index\n",
    "\n",
    "# Make a list out of indices\n",
    "list_duplicated_genes = list(gene_id_duplicated)\n",
    "\n",
    "# Filter the list of genes with their _PAR_Y counter part and including their versions\n",
    "matching_rows = filtered_df_drug[filtered_df_drug.index.str.contains('|'.join(list_duplicated_genes), case=False)]\n",
    "\n",
    "# Make a list of genes that have duplicated Y chromosomes as well\n",
    "Genes_list_duplicated = list(matching_rows.index)\n",
    "\n",
    "# Remove them from the main list\n",
    "filtered_df_drug_duplicate_indices = filtered_df_drug.drop(list_duplicated_genes)"
   ]
  },
  {
   "cell_type": "code",
   "execution_count": null,
   "id": "6f008f5f",
   "metadata": {},
   "outputs": [],
   "source": []
  },
  {
   "cell_type": "code",
   "execution_count": 13,
   "id": "fc882ed4",
   "metadata": {},
   "outputs": [],
   "source": [
    "# Keep the genes with proteomic and non proteomic IncRNAs genes\n",
    "\n",
    "protein_coding = pd.read_csv(path2/'HGNC_protein_coding_genes_31Jan2024.txt', delimiter='\\t')\n",
    "non_protein_codying = pd.read_csv(path2/'HGNC_lncRNA_non_coding_genes_31Jan2024.txt',delimiter='\\t')\n",
    "all_genes=pd.read_csv(path2/'IR3_counts_all_gene_IDs.txt',delimiter='\\t')\n",
    "intersection_genes=pd.read_csv(path2/'Intersection_genes_IR3_counts_gene_IDs_with_HGNC_lncRNA_Protein_Coding_31Jan2024.txt',delimiter='\\t')"
   ]
  },
  {
   "cell_type": "code",
   "execution_count": null,
   "id": "84a81e31",
   "metadata": {},
   "outputs": [],
   "source": [
    "#rna_filtered.to_csv(path2/'ir3_rna_step1.csv', index=True)\n",
    "# combine the target as well"
   ]
  },
  {
   "cell_type": "code",
   "execution_count": 87,
   "id": "0697aae1",
   "metadata": {},
   "outputs": [
    {
     "name": "stdout",
     "output_type": "stream",
     "text": [
      "Last update : 2024-02-02\n"
     ]
    }
   ],
   "source": [
    "# Get the current date\n",
    "current_date = datetime.now().date()\n",
    "\n",
    "# Print the current date\n",
    "print(\"Last update :\", current_date)"
   ]
  }
 ],
 "metadata": {
  "celltoolbar": "Edit Metadata",
  "kernelspec": {
   "display_name": "Python 3",
   "language": "python",
   "name": "python3"
  },
  "language_info": {
   "codemirror_mode": {
    "name": "ipython",
    "version": 3
   },
   "file_extension": ".py",
   "mimetype": "text/x-python",
   "name": "python",
   "nbconvert_exporter": "python",
   "pygments_lexer": "ipython3",
   "version": "3.9.13"
  }
 },
 "nbformat": 4,
 "nbformat_minor": 5
}
