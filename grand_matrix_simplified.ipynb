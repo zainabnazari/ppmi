{
 "cells": [
  {
   "cell_type": "markdown",
   "id": "56d184cd",
   "metadata": {},
   "source": [
    "# This code is written for the extraction of last column of                               \n",
    "# the each patients for the base visit.\n",
    "# Written by Zainab Nazari, last modify: 18.05.2023 15:46"
   ]
  },
  {
   "cell_type": "code",
   "execution_count": 1,
   "id": "5c7b8ba7",
   "metadata": {},
   "outputs": [],
   "source": [
    "import pandas as pd\n",
    "import numpy as np\n",
    "from pathlib import Path\n",
    "import functools"
   ]
  },
  {
   "cell_type": "markdown",
   "id": "50706425",
   "metadata": {},
   "source": [
    " We put the main path to the folder where 'counts' files are there.\n"
   ]
  },
  {
   "cell_type": "code",
   "execution_count": 2,
   "id": "83382e29",
   "metadata": {},
   "outputs": [],
   "source": [
    "path1=Path(\"/scratch/znazari/PPMI_ver_sep2022/RNA_Seq_data/star_ir2/counts/\")"
   ]
  },
  {
   "cell_type": "markdown",
   "id": "3bd556a6",
   "metadata": {},
   "source": [
    " We read the file: in the bl.txt is written the name of all files."
   ]
  },
  {
   "cell_type": "code",
   "execution_count": 3,
   "id": "89bc7b69",
   "metadata": {},
   "outputs": [],
   "source": [
    "bl_files=pd.read_csv(path1/\"n_bl.txt\", header=None )"
   ]
  },
  {
   "cell_type": "code",
   "execution_count": 4,
   "id": "84dd2250",
   "metadata": {},
   "outputs": [
    {
     "data": {
      "text/plain": [
       "5"
      ]
     },
     "execution_count": 4,
     "metadata": {},
     "output_type": "execute_result"
    }
   ],
   "source": [
    "len(bl_files)"
   ]
  },
  {
   "cell_type": "markdown",
   "id": "d75c2bfa",
   "metadata": {},
   "source": [
    " We define a function where we can take the second phrase seperated by dot. The second phrase \n",
    "is the patient ID. So with this functin we want to get the patient IDs from their file's name"
   ]
  },
  {
   "cell_type": "code",
   "execution_count": 5,
   "id": "1017a70f",
   "metadata": {},
   "outputs": [],
   "source": [
    "def function_names(fname):\n",
    "    tokens=fname.split('.')\n",
    "    return tokens[1] "
   ]
  },
  {
   "cell_type": "code",
   "execution_count": 6,
   "id": "7ba0da03",
   "metadata": {},
   "outputs": [],
   "source": [
    "def merge(a,b):\n",
    "    a.iloc[:,-1:].reset_index(drop=False).merge(b.iloc[:,-1:].reset_index(drop=True), left_index=True, right_index=True)\n",
    "    return a"
   ]
  },
  {
   "cell_type": "code",
   "execution_count": 7,
   "id": "ae8638c9",
   "metadata": {},
   "outputs": [],
   "source": [
    "def merge_df(a,b):\n",
    "    return a.reset_index(drop=True).merge(b.iloc[:,-1:].reset_index(drop=True),left_index=True, right_index=True)"
   ]
  },
  {
   "cell_type": "markdown",
   "id": "3a5ba2ce",
   "metadata": {},
   "source": [
    " here we go through all file names and extract their patient IDs and put into a list\n",
    " So here we have the list of patient IDs for those whom they have put the data for their base visit"
   ]
  },
  {
   "cell_type": "code",
   "execution_count": 8,
   "id": "702c927c",
   "metadata": {},
   "outputs": [],
   "source": [
    "bl_list=[]\n",
    "for i in range(len(bl_files)):\n",
    "    bl_list=bl_list+[function_names(bl_files.iloc[i][0])]"
   ]
  },
  {
   "cell_type": "code",
   "execution_count": 9,
   "id": "5f6f7e3c",
   "metadata": {},
   "outputs": [
    {
     "data": {
      "text/plain": [
       "['3016', '3020', '3023', '3024', '3026']"
      ]
     },
     "execution_count": 9,
     "metadata": {},
     "output_type": "execute_result"
    }
   ],
   "source": [
    "bl_list"
   ]
  },
  {
   "cell_type": "markdown",
   "id": "31fb54cc",
   "metadata": {},
   "source": [
    " here we read all the files with with base visit from the count folder where we have all the files\n",
    " for all the patients and all the visit.\n",
    " here we have a list of all files with base visit."
   ]
  },
  {
   "cell_type": "code",
   "execution_count": 10,
   "id": "19bcdca0",
   "metadata": {},
   "outputs": [
    {
     "name": "stdout",
     "output_type": "stream",
     "text": [
      "CPU times: user 2.16 s, sys: 278 ms, total: 2.43 s\n",
      "Wall time: 2.43 s\n"
     ]
    }
   ],
   "source": [
    "%%time\n",
    "list_bl_files=[]\n",
    "for i in range(len(bl_files)):\n",
    "    list_bl_files=list_bl_files+[pd.read_csv(path1/bl_files.iloc[i][0],skiprows=1,delimiter='\\t', index_col=[0])]"
   ]
  },
  {
   "cell_type": "code",
   "execution_count": 11,
   "id": "e3ce459e",
   "metadata": {},
   "outputs": [],
   "source": [
    "# here  we take the last column of each file? \n",
    "for i in range(len(bl_list)):\n",
    "    list_bl_files[i].columns = list(list_bl_files[i].columns[:-1])+[bl_list[i]]"
   ]
  },
  {
   "cell_type": "code",
   "execution_count": 12,
   "id": "7266274f",
   "metadata": {},
   "outputs": [],
   "source": [
    "# first two columns we merege \n",
    "first_two_elements_merge_bl=list_bl_files[0].iloc[:,-1:].reset_index(drop=False).merge(list_bl_files[1].iloc[:,-1:].reset_index(drop=True), left_index=True, right_index=True)"
   ]
  },
  {
   "cell_type": "code",
   "execution_count": 13,
   "id": "1c623cf9",
   "metadata": {},
   "outputs": [],
   "source": [
    "list_bl_files_conv=[first_two_elements_merge_bl]+list_bl_files[2:]\n",
    "\n",
    "del list_bl_files"
   ]
  },
  {
   "cell_type": "code",
   "execution_count": 14,
   "id": "a60789c2",
   "metadata": {},
   "outputs": [],
   "source": [
    "merged_bl=functools.reduce(merge_df,list_bl_files_conv)\n",
    "del list_bl_files_conv\n"
   ]
  },
  {
   "cell_type": "code",
   "execution_count": 15,
   "id": "1c898823",
   "metadata": {},
   "outputs": [
    {
     "data": {
      "text/html": [
       "<div>\n",
       "<style scoped>\n",
       "    .dataframe tbody tr th:only-of-type {\n",
       "        vertical-align: middle;\n",
       "    }\n",
       "\n",
       "    .dataframe tbody tr th {\n",
       "        vertical-align: top;\n",
       "    }\n",
       "\n",
       "    .dataframe thead th {\n",
       "        text-align: right;\n",
       "    }\n",
       "</style>\n",
       "<table border=\"1\" class=\"dataframe\">\n",
       "  <thead>\n",
       "    <tr style=\"text-align: right;\">\n",
       "      <th></th>\n",
       "      <th>Geneid</th>\n",
       "      <th>3016</th>\n",
       "      <th>3020</th>\n",
       "      <th>3023</th>\n",
       "      <th>3024</th>\n",
       "      <th>3026</th>\n",
       "    </tr>\n",
       "  </thead>\n",
       "  <tbody>\n",
       "    <tr>\n",
       "      <th>0</th>\n",
       "      <td>ENSG00000223972.4</td>\n",
       "      <td>20</td>\n",
       "      <td>7</td>\n",
       "      <td>5</td>\n",
       "      <td>3</td>\n",
       "      <td>1</td>\n",
       "    </tr>\n",
       "    <tr>\n",
       "      <th>1</th>\n",
       "      <td>ENSG00000227232.4</td>\n",
       "      <td>244</td>\n",
       "      <td>239</td>\n",
       "      <td>199</td>\n",
       "      <td>280</td>\n",
       "      <td>192</td>\n",
       "    </tr>\n",
       "    <tr>\n",
       "      <th>2</th>\n",
       "      <td>ENSG00000243485.2</td>\n",
       "      <td>1</td>\n",
       "      <td>0</td>\n",
       "      <td>0</td>\n",
       "      <td>0</td>\n",
       "      <td>2</td>\n",
       "    </tr>\n",
       "    <tr>\n",
       "      <th>3</th>\n",
       "      <td>ENSG00000237613.2</td>\n",
       "      <td>0</td>\n",
       "      <td>0</td>\n",
       "      <td>0</td>\n",
       "      <td>0</td>\n",
       "      <td>0</td>\n",
       "    </tr>\n",
       "    <tr>\n",
       "      <th>4</th>\n",
       "      <td>ENSG00000268020.2</td>\n",
       "      <td>2</td>\n",
       "      <td>0</td>\n",
       "      <td>0</td>\n",
       "      <td>0</td>\n",
       "      <td>0</td>\n",
       "    </tr>\n",
       "    <tr>\n",
       "      <th>...</th>\n",
       "      <td>...</td>\n",
       "      <td>...</td>\n",
       "      <td>...</td>\n",
       "      <td>...</td>\n",
       "      <td>...</td>\n",
       "      <td>...</td>\n",
       "    </tr>\n",
       "    <tr>\n",
       "      <th>57815</th>\n",
       "      <td>ENSG00000198695.2</td>\n",
       "      <td>600</td>\n",
       "      <td>219</td>\n",
       "      <td>53</td>\n",
       "      <td>98</td>\n",
       "      <td>113</td>\n",
       "    </tr>\n",
       "    <tr>\n",
       "      <th>57816</th>\n",
       "      <td>ENSG00000210194.1</td>\n",
       "      <td>69</td>\n",
       "      <td>31</td>\n",
       "      <td>10</td>\n",
       "      <td>11</td>\n",
       "      <td>9</td>\n",
       "    </tr>\n",
       "    <tr>\n",
       "      <th>57817</th>\n",
       "      <td>ENSG00000198727.2</td>\n",
       "      <td>560</td>\n",
       "      <td>426</td>\n",
       "      <td>88</td>\n",
       "      <td>626</td>\n",
       "      <td>987</td>\n",
       "    </tr>\n",
       "    <tr>\n",
       "      <th>57818</th>\n",
       "      <td>ENSG00000210195.2</td>\n",
       "      <td>45</td>\n",
       "      <td>40</td>\n",
       "      <td>10</td>\n",
       "      <td>64</td>\n",
       "      <td>45</td>\n",
       "    </tr>\n",
       "    <tr>\n",
       "      <th>57819</th>\n",
       "      <td>ENSG00000210196.2</td>\n",
       "      <td>184</td>\n",
       "      <td>212</td>\n",
       "      <td>71</td>\n",
       "      <td>118</td>\n",
       "      <td>125</td>\n",
       "    </tr>\n",
       "  </tbody>\n",
       "</table>\n",
       "<p>57820 rows × 6 columns</p>\n",
       "</div>"
      ],
      "text/plain": [
       "                  Geneid  3016  3020  3023  3024  3026\n",
       "0      ENSG00000223972.4    20     7     5     3     1\n",
       "1      ENSG00000227232.4   244   239   199   280   192\n",
       "2      ENSG00000243485.2     1     0     0     0     2\n",
       "3      ENSG00000237613.2     0     0     0     0     0\n",
       "4      ENSG00000268020.2     2     0     0     0     0\n",
       "...                  ...   ...   ...   ...   ...   ...\n",
       "57815  ENSG00000198695.2   600   219    53    98   113\n",
       "57816  ENSG00000210194.1    69    31    10    11     9\n",
       "57817  ENSG00000198727.2   560   426    88   626   987\n",
       "57818  ENSG00000210195.2    45    40    10    64    45\n",
       "57819  ENSG00000210196.2   184   212    71   118   125\n",
       "\n",
       "[57820 rows x 6 columns]"
      ]
     },
     "execution_count": 15,
     "metadata": {},
     "output_type": "execute_result"
    }
   ],
   "source": [
    "merged_bl"
   ]
  },
  {
   "cell_type": "code",
   "execution_count": 16,
   "id": "3d2a543d",
   "metadata": {},
   "outputs": [],
   "source": [
    "merged_bl.to_csv(\"random_test_bl_matrix_counts_ir2.txt\",  index=False)"
   ]
  },
  {
   "cell_type": "code",
   "execution_count": null,
   "id": "e1449283",
   "metadata": {},
   "outputs": [],
   "source": []
  }
 ],
 "metadata": {
  "kernelspec": {
   "display_name": "Python 3",
   "language": "python",
   "name": "python3"
  },
  "language_info": {
   "codemirror_mode": {
    "name": "ipython",
    "version": 3
   },
   "file_extension": ".py",
   "mimetype": "text/x-python",
   "name": "python",
   "nbconvert_exporter": "python",
   "pygments_lexer": "ipython3",
   "version": "3.9.13"
  }
 },
 "nbformat": 4,
 "nbformat_minor": 5
}
