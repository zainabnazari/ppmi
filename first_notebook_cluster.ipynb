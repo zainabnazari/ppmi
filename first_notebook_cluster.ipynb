{
 "cells": [
  {
   "cell_type": "code",
   "execution_count": 1,
   "id": "5c7b8ba7",
   "metadata": {},
   "outputs": [],
   "source": [
    "import pandas as pd\n",
    "from pathlib import Path"
   ]
  },
  {
   "cell_type": "code",
   "execution_count": 2,
   "id": "c5b8de22",
   "metadata": {},
   "outputs": [],
   "source": [
    "file_names=pd.read_csv(\"./IR2_counts_filenames.txt\", header=None )"
   ]
  },
  {
   "cell_type": "code",
   "execution_count": 4,
   "id": "83382e29",
   "metadata": {},
   "outputs": [],
   "source": [
    "path1=Path(\"/scratch/znazari/PPMI_ver_sep2022/RNA_Seq_data/star_ir2/counts/\")"
   ]
  },
  {
   "cell_type": "code",
   "execution_count": 5,
   "id": "89bc7b69",
   "metadata": {},
   "outputs": [],
   "source": [
    "bl_files=pd.read_csv(path1/\"n_bl.txt\", header=None )\n",
    "v02_files=pd.read_csv(path1/\"v02.txt\", header=None )\n",
    "v04_files=pd.read_csv(path1/\"v04.txt\", header=None )\n",
    "v06_files=pd.read_csv(path1/\"v06.txt\", header=None )\n",
    "v08_files=pd.read_csv(path1/\"v08.txt\", header=None )"
   ]
  },
  {
   "cell_type": "code",
   "execution_count": 6,
   "id": "1017a70f",
   "metadata": {},
   "outputs": [],
   "source": [
    "def function_names(fname):\n",
    "    tokens=fname.split('.')\n",
    "    return tokens[1] "
   ]
  },
  {
   "cell_type": "code",
   "execution_count": 7,
   "id": "702c927c",
   "metadata": {},
   "outputs": [],
   "source": [
    "bl_list=[]\n",
    "v02_list=[]\n",
    "v04_list=[]\n",
    "v06_list=[]\n",
    "v08_list=[]\n",
    "\n",
    "for i in range(len(bl_files)):\n",
    "    bl_list=bl_list+[function_names(bl_files.iloc[i][0])]\n",
    "    \n",
    "for i in range(len(v02_files)):\n",
    "    v02_list=v02_list+[function_names(v02_files.iloc[i][0])]\n",
    "    \n",
    "for i in range(len(v04_files)):\n",
    "    v04_list=v04_list+[function_names(v04_files.iloc[i][0])]\n",
    "    \n",
    "for i in range(len(v06_files)):\n",
    "    v06_list=v06_list+[function_names(v06_files.iloc[i][0])]\n",
    "\n",
    "for i in range(len(v08_files)):\n",
    "    v08_list=v08_list+[function_names(v08_files.iloc[i][0])]"
   ]
  },
  {
   "cell_type": "code",
   "execution_count": 8,
   "id": "465d6920",
   "metadata": {},
   "outputs": [
    {
     "data": {
      "text/plain": [
       "'PPMI-Phase1-IR2.3024.BL.PP0015-6647.5104-SL-1837.longRNA-NEBKAP.featureCounts-GENCODE.txt'"
      ]
     },
     "execution_count": 8,
     "metadata": {},
     "output_type": "execute_result"
    }
   ],
   "source": [
    "bl_files.iloc[3][0]"
   ]
  },
  {
   "cell_type": "code",
   "execution_count": 9,
   "id": "19bcdca0",
   "metadata": {},
   "outputs": [],
   "source": [
    "list_bl_files=[]\n",
    "for i in range(len(bl_files)):\n",
    "    list_bl_files=list_bl_files+[pd.read_csv(path1/bl_files.iloc[i][0],skiprows=1,delimiter='\\t', index_col=[0])]"
   ]
  },
  {
   "cell_type": "code",
   "execution_count": 10,
   "id": "6bf61245",
   "metadata": {},
   "outputs": [],
   "source": [
    "def merge(a,b):\n",
    "    a.iloc[:,-1:].reset_index(drop=False).merge(b.iloc[:,-1:].reset_index(drop=True), left_index=True, right_index=True)\n",
    "    return a\n"
   ]
  },
  {
   "cell_type": "code",
   "execution_count": null,
   "id": "afb634b7",
   "metadata": {},
   "outputs": [],
   "source": [
    "import functools\n",
    "num=[1,78,0,99,76]\n",
    "def add_sum(a,b):\n",
    "    return a+b\n",
    "sum_=functools.reduce(add_sum,num)\n",
    "print(sum_)"
   ]
  },
  {
   "cell_type": "code",
   "execution_count": null,
   "id": "f629bf8f",
   "metadata": {},
   "outputs": [],
   "source": [
    "name_f1=file_names.iloc[120][0]\n",
    "print(name_f1)"
   ]
  },
  {
   "cell_type": "code",
   "execution_count": null,
   "id": "45e89957",
   "metadata": {},
   "outputs": [],
   "source": []
  },
  {
   "cell_type": "code",
   "execution_count": null,
   "id": "2f75936e",
   "metadata": {},
   "outputs": [],
   "source": [
    "function_names(name_f1)"
   ]
  },
  {
   "cell_type": "code",
   "execution_count": null,
   "id": "f05ce995",
   "metadata": {},
   "outputs": [],
   "source": []
  },
  {
   "cell_type": "code",
   "execution_count": null,
   "id": "d652aa7b",
   "metadata": {},
   "outputs": [],
   "source": [
    "name_f2=file_names.iloc[127][0]\n",
    "print(name_f2)"
   ]
  },
  {
   "cell_type": "code",
   "execution_count": null,
   "id": "15a1a00b",
   "metadata": {},
   "outputs": [],
   "source": [
    "data_check1=pd.read_csv(\"/scratch/znazari/PPMI_ver_sep2022/RNA_Seq_data/star_ir2/counts/\"+name_f1,skiprows=1,delimiter='\\t', index_col=[0])"
   ]
  },
  {
   "cell_type": "code",
   "execution_count": null,
   "id": "58d6ccdc",
   "metadata": {},
   "outputs": [],
   "source": [
    "data_check1t=pd.read_csv(\"/scratch/znazari/PPMI_ver_sep2022/RNA_Seq_data/star_ir2/counts/\"+name_f1,skiprows=1,delimiter='\\t')"
   ]
  },
  {
   "cell_type": "code",
   "execution_count": null,
   "id": "379bd9bb",
   "metadata": {},
   "outputs": [],
   "source": []
  },
  {
   "cell_type": "code",
   "execution_count": null,
   "id": "4f143b45",
   "metadata": {},
   "outputs": [],
   "source": []
  },
  {
   "cell_type": "code",
   "execution_count": null,
   "id": "22fefe3b",
   "metadata": {},
   "outputs": [],
   "source": [
    "data_check2=pd.read_csv(\"/scratch/znazari/PPMI_ver_sep2022/RNA_Seq_data/star_ir2/counts/\"+name_f2,skiprows=1,delimiter='\\t', index_col=[0])"
   ]
  },
  {
   "cell_type": "code",
   "execution_count": null,
   "id": "d5e28d86",
   "metadata": {},
   "outputs": [],
   "source": [
    "data_frames_bl="
   ]
  },
  {
   "cell_type": "code",
   "execution_count": null,
   "id": "1b4ccd96",
   "metadata": {},
   "outputs": [],
   "source": [
    "data_check1.columns = list(data_check1.columns[:-1])+['3051']"
   ]
  },
  {
   "cell_type": "code",
   "execution_count": null,
   "id": "29655315",
   "metadata": {},
   "outputs": [],
   "source": [
    "data_check1t.columns = list(data_check1t.columns[:-1])+['3051']"
   ]
  },
  {
   "cell_type": "code",
   "execution_count": null,
   "id": "bb6a9313",
   "metadata": {},
   "outputs": [],
   "source": [
    "data_check2.columns = list(data_check2.columns[:-1])+['3053']"
   ]
  },
  {
   "cell_type": "code",
   "execution_count": null,
   "id": "233591aa",
   "metadata": {},
   "outputs": [],
   "source": [
    "print(data_check1.iloc[:,-1:])"
   ]
  },
  {
   "cell_type": "code",
   "execution_count": null,
   "id": "350d1274",
   "metadata": {},
   "outputs": [],
   "source": [
    "print(data_check1t.iloc[:,-1:])"
   ]
  },
  {
   "cell_type": "code",
   "execution_count": null,
   "id": "e6b0665a",
   "metadata": {},
   "outputs": [],
   "source": []
  },
  {
   "cell_type": "code",
   "execution_count": null,
   "id": "7dd54668",
   "metadata": {},
   "outputs": [],
   "source": []
  },
  {
   "cell_type": "code",
   "execution_count": null,
   "id": "2c0e8c3e",
   "metadata": {},
   "outputs": [],
   "source": [
    "print(data_check2.iloc[:,-1:])"
   ]
  },
  {
   "cell_type": "code",
   "execution_count": null,
   "id": "e1e1262e",
   "metadata": {},
   "outputs": [],
   "source": [
    "data_check1.iloc[:,-1:].reset_index(drop=False).merge(data_check2.iloc[:,-1:].reset_index(drop=True), left_index=True, right_index=True)\n"
   ]
  },
  {
   "cell_type": "code",
   "execution_count": null,
   "id": "68b5aa93",
   "metadata": {},
   "outputs": [],
   "source": [
    "first_two_elements_merge=list_bl_files[0].iloc[:,-1:].reset_index(drop=False).merge(list_bl_files[1].iloc[:,-1:].reset_index(drop=True), left_index=True, right_index=True)\n"
   ]
  },
  {
   "cell_type": "code",
   "execution_count": null,
   "id": "21060ee5",
   "metadata": {},
   "outputs": [],
   "source": [
    "import functools\n",
    "num=[1,78,0,99,76]\n",
    "def add_sum(a,b):\n",
    "    return a+b\n",
    "sum_=functools.reduce(add_sum,num)\n",
    "print(sum_)"
   ]
  },
  {
   "cell_type": "code",
   "execution_count": null,
   "id": "b05ab54d",
   "metadata": {},
   "outputs": [],
   "source": [
    "list_bl_files_conv=[first_two_elements_merge]+list_bl_files[2:]\n",
    "def merge_df(a,b):\n",
    "    return a.reset_index(drop=True).merge(b.iloc[:,-1:].reset_index(drop=True),left_index=True, right_index=True)\n",
    "merged=functools.reduce(merge_df,list_bl_files_conv)"
   ]
  },
  {
   "cell_type": "code",
   "execution_count": null,
   "id": "b3eaca81",
   "metadata": {},
   "outputs": [],
   "source": [
    "merged"
   ]
  },
  {
   "cell_type": "code",
   "execution_count": null,
   "id": "614caab7",
   "metadata": {},
   "outputs": [],
   "source": [
    "my_df.reset_index(drop=True).merge(data_check2.iloc[:,-1:].reset_index(drop=True), left_index=True, right_index=True)"
   ]
  },
  {
   "cell_type": "code",
   "execution_count": 11,
   "id": "691cea14",
   "metadata": {},
   "outputs": [],
   "source": [
    "data_3=pd.read_csv(\"/scratch/znazari/PPMI_ver_sep2022/RNA_Seq_data/star_ir2/counts/PPMI-Phase2-IR2.92834.V04.0002325630.5104-SL-4052.longRNA-NEBKAP.featureCounts-Gencode.txt\",skiprows=1,delimiter='\\t', index_col=[0])"
   ]
  },
  {
   "cell_type": "code",
   "execution_count": 16,
   "id": "90f6150c",
   "metadata": {},
   "outputs": [
    {
     "data": {
      "text/html": [
       "<div>\n",
       "<style scoped>\n",
       "    .dataframe tbody tr th:only-of-type {\n",
       "        vertical-align: middle;\n",
       "    }\n",
       "\n",
       "    .dataframe tbody tr th {\n",
       "        vertical-align: top;\n",
       "    }\n",
       "\n",
       "    .dataframe thead th {\n",
       "        text-align: right;\n",
       "    }\n",
       "</style>\n",
       "<table border=\"1\" class=\"dataframe\">\n",
       "  <thead>\n",
       "    <tr style=\"text-align: right;\">\n",
       "      <th></th>\n",
       "      <th>Chr</th>\n",
       "      <th>Start</th>\n",
       "      <th>End</th>\n",
       "      <th>Strand</th>\n",
       "      <th>Length</th>\n",
       "      <th>bams2/inQueue_PPMI-phase2-HA-trim_5104-SL-4052_0002325630_PWB-vblnd_C1_NEBKAP_5104-SL-4052-P216-SL332725.starAligned.final.bam</th>\n",
       "    </tr>\n",
       "    <tr>\n",
       "      <th>Geneid</th>\n",
       "      <th></th>\n",
       "      <th></th>\n",
       "      <th></th>\n",
       "      <th></th>\n",
       "      <th></th>\n",
       "      <th></th>\n",
       "    </tr>\n",
       "  </thead>\n",
       "  <tbody>\n",
       "    <tr>\n",
       "      <th>ENSG00000223972.4</th>\n",
       "      <td>1;1;1;1;1;1;1;1;1;1;1;1;1;1;1;1</td>\n",
       "      <td>11869;11872;11874;12010;12179;12595;12613;1261...</td>\n",
       "      <td>12227;12227;12227;12057;12227;12721;12697;1272...</td>\n",
       "      <td>+;+;+;+;+;+;+;+;+;+;+;+;+;+;+;+</td>\n",
       "      <td>1756</td>\n",
       "      <td>0</td>\n",
       "    </tr>\n",
       "    <tr>\n",
       "      <th>ENSG00000227232.4</th>\n",
       "      <td>1;1;1;1;1;1;1;1;1;1;1;1;1;1;1;1;1;1;1;1;1;1;1;...</td>\n",
       "      <td>14363;14363;14363;14404;14411;14970;14970;1497...</td>\n",
       "      <td>14829;14829;14829;14501;14502;15038;15038;1503...</td>\n",
       "      <td>-;-;-;-;-;-;-;-;-;-;-;-;-;-;-;-;-;-;-;-;-;-;-;...</td>\n",
       "      <td>2073</td>\n",
       "      <td>178</td>\n",
       "    </tr>\n",
       "    <tr>\n",
       "      <th>ENSG00000243485.2</th>\n",
       "      <td>1;1;1;1;1;1</td>\n",
       "      <td>29554;30267;30366;30564;30976;30976</td>\n",
       "      <td>30039;30667;30503;30667;31109;31097</td>\n",
       "      <td>+;+;+;+;+;+</td>\n",
       "      <td>1021</td>\n",
       "      <td>0</td>\n",
       "    </tr>\n",
       "    <tr>\n",
       "      <th>ENSG00000237613.2</th>\n",
       "      <td>1;1;1;1;1</td>\n",
       "      <td>34554;35245;35277;35721;35721</td>\n",
       "      <td>35174;35481;35481;36081;36073</td>\n",
       "      <td>-;-;-;-;-</td>\n",
       "      <td>1219</td>\n",
       "      <td>0</td>\n",
       "    </tr>\n",
       "    <tr>\n",
       "      <th>ENSG00000268020.2</th>\n",
       "      <td>1;1;1</td>\n",
       "      <td>52473;53049;54830</td>\n",
       "      <td>53312;53067;54936</td>\n",
       "      <td>+;+;+</td>\n",
       "      <td>947</td>\n",
       "      <td>0</td>\n",
       "    </tr>\n",
       "    <tr>\n",
       "      <th>...</th>\n",
       "      <td>...</td>\n",
       "      <td>...</td>\n",
       "      <td>...</td>\n",
       "      <td>...</td>\n",
       "      <td>...</td>\n",
       "      <td>...</td>\n",
       "    </tr>\n",
       "    <tr>\n",
       "      <th>ENSG00000198786.2</th>\n",
       "      <td>MT</td>\n",
       "      <td>12337</td>\n",
       "      <td>14148</td>\n",
       "      <td>+</td>\n",
       "      <td>1812</td>\n",
       "      <td>871</td>\n",
       "    </tr>\n",
       "    <tr>\n",
       "      <th>ENSG00000198695.2</th>\n",
       "      <td>MT</td>\n",
       "      <td>14149</td>\n",
       "      <td>14673</td>\n",
       "      <td>-</td>\n",
       "      <td>525</td>\n",
       "      <td>223</td>\n",
       "    </tr>\n",
       "    <tr>\n",
       "      <th>ENSG00000210194.1</th>\n",
       "      <td>MT</td>\n",
       "      <td>14674</td>\n",
       "      <td>14742</td>\n",
       "      <td>-</td>\n",
       "      <td>69</td>\n",
       "      <td>23</td>\n",
       "    </tr>\n",
       "    <tr>\n",
       "      <th>ENSG00000198727.2</th>\n",
       "      <td>MT</td>\n",
       "      <td>14747</td>\n",
       "      <td>15887</td>\n",
       "      <td>+</td>\n",
       "      <td>1141</td>\n",
       "      <td>907</td>\n",
       "    </tr>\n",
       "    <tr>\n",
       "      <th>ENSG00000210195.2</th>\n",
       "      <td>MT</td>\n",
       "      <td>15888</td>\n",
       "      <td>15953</td>\n",
       "      <td>+</td>\n",
       "      <td>66</td>\n",
       "      <td>304</td>\n",
       "    </tr>\n",
       "  </tbody>\n",
       "</table>\n",
       "<p>57819 rows × 6 columns</p>\n",
       "</div>"
      ],
      "text/plain": [
       "                                                                 Chr  \\\n",
       "Geneid                                                                 \n",
       "ENSG00000223972.4                    1;1;1;1;1;1;1;1;1;1;1;1;1;1;1;1   \n",
       "ENSG00000227232.4  1;1;1;1;1;1;1;1;1;1;1;1;1;1;1;1;1;1;1;1;1;1;1;...   \n",
       "ENSG00000243485.2                                        1;1;1;1;1;1   \n",
       "ENSG00000237613.2                                          1;1;1;1;1   \n",
       "ENSG00000268020.2                                              1;1;1   \n",
       "...                                                              ...   \n",
       "ENSG00000198786.2                                                 MT   \n",
       "ENSG00000198695.2                                                 MT   \n",
       "ENSG00000210194.1                                                 MT   \n",
       "ENSG00000198727.2                                                 MT   \n",
       "ENSG00000210195.2                                                 MT   \n",
       "\n",
       "                                                               Start  \\\n",
       "Geneid                                                                 \n",
       "ENSG00000223972.4  11869;11872;11874;12010;12179;12595;12613;1261...   \n",
       "ENSG00000227232.4  14363;14363;14363;14404;14411;14970;14970;1497...   \n",
       "ENSG00000243485.2                29554;30267;30366;30564;30976;30976   \n",
       "ENSG00000237613.2                      34554;35245;35277;35721;35721   \n",
       "ENSG00000268020.2                                  52473;53049;54830   \n",
       "...                                                              ...   \n",
       "ENSG00000198786.2                                              12337   \n",
       "ENSG00000198695.2                                              14149   \n",
       "ENSG00000210194.1                                              14674   \n",
       "ENSG00000198727.2                                              14747   \n",
       "ENSG00000210195.2                                              15888   \n",
       "\n",
       "                                                                 End  \\\n",
       "Geneid                                                                 \n",
       "ENSG00000223972.4  12227;12227;12227;12057;12227;12721;12697;1272...   \n",
       "ENSG00000227232.4  14829;14829;14829;14501;14502;15038;15038;1503...   \n",
       "ENSG00000243485.2                30039;30667;30503;30667;31109;31097   \n",
       "ENSG00000237613.2                      35174;35481;35481;36081;36073   \n",
       "ENSG00000268020.2                                  53312;53067;54936   \n",
       "...                                                              ...   \n",
       "ENSG00000198786.2                                              14148   \n",
       "ENSG00000198695.2                                              14673   \n",
       "ENSG00000210194.1                                              14742   \n",
       "ENSG00000198727.2                                              15887   \n",
       "ENSG00000210195.2                                              15953   \n",
       "\n",
       "                                                              Strand  Length  \\\n",
       "Geneid                                                                         \n",
       "ENSG00000223972.4                    +;+;+;+;+;+;+;+;+;+;+;+;+;+;+;+    1756   \n",
       "ENSG00000227232.4  -;-;-;-;-;-;-;-;-;-;-;-;-;-;-;-;-;-;-;-;-;-;-;...    2073   \n",
       "ENSG00000243485.2                                        +;+;+;+;+;+    1021   \n",
       "ENSG00000237613.2                                          -;-;-;-;-    1219   \n",
       "ENSG00000268020.2                                              +;+;+     947   \n",
       "...                                                              ...     ...   \n",
       "ENSG00000198786.2                                                  +    1812   \n",
       "ENSG00000198695.2                                                  -     525   \n",
       "ENSG00000210194.1                                                  -      69   \n",
       "ENSG00000198727.2                                                  +    1141   \n",
       "ENSG00000210195.2                                                  +      66   \n",
       "\n",
       "                   bams2/inQueue_PPMI-phase2-HA-trim_5104-SL-4052_0002325630_PWB-vblnd_C1_NEBKAP_5104-SL-4052-P216-SL332725.starAligned.final.bam  \n",
       "Geneid                                                                                                                                             \n",
       "ENSG00000223972.4                                                  0                                                                               \n",
       "ENSG00000227232.4                                                178                                                                               \n",
       "ENSG00000243485.2                                                  0                                                                               \n",
       "ENSG00000237613.2                                                  0                                                                               \n",
       "ENSG00000268020.2                                                  0                                                                               \n",
       "...                                                              ...                                                                               \n",
       "ENSG00000198786.2                                                871                                                                               \n",
       "ENSG00000198695.2                                                223                                                                               \n",
       "ENSG00000210194.1                                                 23                                                                               \n",
       "ENSG00000198727.2                                                907                                                                               \n",
       "ENSG00000210195.2                                                304                                                                               \n",
       "\n",
       "[57819 rows x 6 columns]"
      ]
     },
     "execution_count": 16,
     "metadata": {},
     "output_type": "execute_result"
    }
   ],
   "source": [
    "data_3.iloc[:-1:]"
   ]
  },
  {
   "cell_type": "code",
   "execution_count": null,
   "id": "17fffdf7",
   "metadata": {},
   "outputs": [],
   "source": [
    "data_3.columns = list(data_3.columns[:-1])+['Hi Column']"
   ]
  },
  {
   "cell_type": "code",
   "execution_count": null,
   "id": "000bc858",
   "metadata": {},
   "outputs": [],
   "source": [
    "print(data_3)"
   ]
  },
  {
   "cell_type": "code",
   "execution_count": null,
   "id": "d0acb566",
   "metadata": {},
   "outputs": [],
   "source": [
    "with open('result2.txt', 'w') as fp:\n",
    "    fp.write(str(tr_data.iloc[:,-1:]))"
   ]
  },
  {
   "cell_type": "code",
   "execution_count": null,
   "id": "9e5370ab",
   "metadata": {},
   "outputs": [],
   "source": [
    "print(data_3.iloc[:,-1:])"
   ]
  },
  {
   "cell_type": "code",
   "execution_count": null,
   "id": "e69674d3",
   "metadata": {},
   "outputs": [],
   "source": []
  },
  {
   "cell_type": "code",
   "execution_count": null,
   "id": "8f859933",
   "metadata": {},
   "outputs": [],
   "source": []
  },
  {
   "cell_type": "code",
   "execution_count": null,
   "id": "32213e10",
   "metadata": {},
   "outputs": [],
   "source": [
    "data_3[data_3.columns[-1]]"
   ]
  },
  {
   "cell_type": "code",
   "execution_count": null,
   "id": "dfa83ee2",
   "metadata": {},
   "outputs": [],
   "source": [
    "data_3_noindex[data_3_noindex.columns[-1]]"
   ]
  },
  {
   "cell_type": "code",
   "execution_count": null,
   "id": "be841bc2",
   "metadata": {},
   "outputs": [],
   "source": []
  },
  {
   "cell_type": "code",
   "execution_count": null,
   "id": "b415f687",
   "metadata": {},
   "outputs": [],
   "source": []
  },
  {
   "cell_type": "code",
   "execution_count": null,
   "id": "ccbb602e",
   "metadata": {},
   "outputs": [],
   "source": []
  },
  {
   "cell_type": "code",
   "execution_count": null,
   "id": "d497e0a4",
   "metadata": {},
   "outputs": [],
   "source": []
  }
 ],
 "metadata": {
  "kernelspec": {
   "display_name": "Python 3",
   "language": "python",
   "name": "python3"
  },
  "language_info": {
   "codemirror_mode": {
    "name": "ipython",
    "version": 3
   },
   "file_extension": ".py",
   "mimetype": "text/x-python",
   "name": "python",
   "nbconvert_exporter": "python",
   "pygments_lexer": "ipython3",
   "version": "3.9.13"
  }
 },
 "nbformat": 4,
 "nbformat_minor": 5
}
