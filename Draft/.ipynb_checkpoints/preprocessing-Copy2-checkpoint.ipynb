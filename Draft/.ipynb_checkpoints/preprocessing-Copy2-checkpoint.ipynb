{
 "cells": [
  {
   "cell_type": "markdown",
   "id": "56d184cd",
   "metadata": {},
   "source": [
    " # <span style=\"color:#8B4513;\"> RNA-Seq Data Preprocessing STEP I\n",
    "</span>\n",
    "\n",
    "- We keep only individuals with diagnosis of Health control or Parkinson's disease.\n",
    "- We remove patients that have these gene mutations : SNCA, GBA, LRRK2, and taking dopaminergic drugs.\n",
    "- We remove the duplicated gene IDs in which they are also lowly expressed.\n",
    "- 0000\n",
    "-  We only keep genes with the intersection of counts and quants with proteing coding and non protein coding RNAincs.\n",
    "- We remove lowely expressed genes, by keeping only genes that had more than five counts in at least 10% of the individuals, which left us with 21,273 genes"
   ]
  },
  {
   "cell_type": "code",
   "execution_count": 1,
   "id": "5c7b8ba7",
   "metadata": {},
   "outputs": [],
   "source": [
    "import pandas as pd\n",
    "import os\n",
    "from pathlib import Path"
   ]
  },
  {
   "cell_type": "code",
   "execution_count": 2,
   "id": "8ba5df20",
   "metadata": {},
   "outputs": [],
   "source": [
    "path2 = Path(\"/home/znazari/data\") # where the output data will be saved at the end.\n",
    "path3=Path(\"/scratch/znazari/PPMI_ver_sep2022/study_data/Subject_Characteristics/\")"
   ]
  },
  {
   "cell_type": "code",
   "execution_count": 3,
   "id": "07749200",
   "metadata": {},
   "outputs": [],
   "source": [
    "# Read the main table of gene IDs vs invididuals \n",
    "read_ir3_counts = pd.read_csv(path2/\"matrix_ir3_counts_bl.csv\")\n",
    "\n",
    "# Set the geneid as indexing column\n",
    "read_ir3_counts.set_index('Geneid', inplace=True)"
   ]
  },
  {
   "cell_type": "code",
   "execution_count": 4,
   "id": "56456e0a",
   "metadata": {},
   "outputs": [],
   "source": [
    "# Read the file which contains diagnosis\n",
    "diago=pd.read_csv(path3/\"Participant_Status.csv\", header=None )\n",
    "diago1=diago.rename(columns=diago.iloc[0]).drop(diago.index[0]).reset_index(drop=True)\n",
    "\n",
    "# Select only diagnosis with parkinson's and control.\n",
    "selected_diagnosis_pd_hc = diago1[diago1['COHORT_DEFINITION'].isin(['Healthy Control', \"Parkinson's Disease\"])]\n",
    "pd_hc = selected_diagnosis_pd_hc['PATNO']\n",
    "\n",
    "filtered_df = read_ir3_counts.loc[:, read_ir3_counts.columns.isin(pd_hc)]"
   ]
  },
  {
   "cell_type": "code",
   "execution_count": 5,
   "id": "a169c1dd",
   "metadata": {},
   "outputs": [],
   "source": [
    "# Read the file which contains patients with gene mutations or dopaminzzergic drug users\n",
    "union_drugs_mutations=pd.read_csv(path2/'union_drugs_mutations.csv', index_col=0)\n",
    "s_union_drugs_mutations= union_drugs_mutations['0']\n",
    "s_union_drugs_mutations_str = s_union_drugs_mutations.astype(str)\n",
    "\n",
    "# Remove patients using dopaminergic drugs\n",
    "filtered_df_drug = filtered_df.drop(columns=s_union_drugs_mutations_str, errors='ignore')"
   ]
  },
  {
   "cell_type": "code",
   "execution_count": null,
   "id": "019a546c",
   "metadata": {},
   "outputs": [],
   "source": [
    "# Remove duplicated genes\n",
    "\n",
    "# we need to find the duplicated genes, find their values and take the mean of them and keep it with \n",
    "# a new version with only the gene names without version, and then remove all other versions.\n",
    "\n",
    "# Since in this study we do not consider sex biases, we remvoe genes with Y chromosomes \n",
    "# as they can be found only in the males.\n",
    "# I need to find out which gene ids including Y chromosomes, then I need to remove them from the list."
   ]
  },
  {
   "cell_type": "code",
   "execution_count": null,
   "id": "880da247",
   "metadata": {},
   "outputs": [],
   "source": []
  },
  {
   "cell_type": "code",
   "execution_count": null,
   "id": "c18bf0ad",
   "metadata": {},
   "outputs": [],
   "source": []
  },
  {
   "cell_type": "code",
   "execution_count": 12,
   "id": "82bd159f",
   "metadata": {},
   "outputs": [],
   "source": [
    "# result with removing the after dot (.) value, i.e. the version of the geneIDs is removed.\n",
    "read_ir3_counts.index =read_ir3_counts.index.str.split('.').str[0]\n",
    "\n",
    "# get the duplicated indices\n",
    "duplicated_indices = read_ir3_counts.index[read_ir3_counts.index.duplicated()]\n",
    "\n",
    "# create a new dataframe with the duplicated indices\n",
    "new_df = read_ir3_counts.loc[duplicated_indices]\n",
    "\n",
    "\n",
    "new_df['sum'] = new_df.sum(axis=1)\n",
    "\n",
    "# print the new dataframe\n",
    "new_df = new_df.sort_values(by='sum', ascending=False)"
   ]
  },
  {
   "cell_type": "code",
   "execution_count": 14,
   "id": "6b3cc59e",
   "metadata": {
    "scrolled": false
   },
   "outputs": [],
   "source": [
    "new_df.sort_index(inplace=True)\n",
    "gene_id_duplicated = new_df.index\n",
    "list_duplicated_genes = list(gene_id_duplicated)"
   ]
  },
  {
   "cell_type": "code",
   "execution_count": 17,
   "id": "3caa2281",
   "metadata": {},
   "outputs": [
    {
     "data": {
      "text/plain": [
       "['ENSG00000002586.19',\n",
       " 'ENSG00000002586.19_PAR_Y',\n",
       " 'ENSG00000124333.15',\n",
       " 'ENSG00000124333.15_PAR_Y',\n",
       " 'ENSG00000124334.17',\n",
       " 'ENSG00000124334.17_PAR_Y',\n",
       " 'ENSG00000167393.17',\n",
       " 'ENSG00000167393.17_PAR_Y',\n",
       " 'ENSG00000168939.11',\n",
       " 'ENSG00000168939.11_PAR_Y',\n",
       " 'ENSG00000169084.13',\n",
       " 'ENSG00000169084.13_PAR_Y',\n",
       " 'ENSG00000169093.15',\n",
       " 'ENSG00000169093.15_PAR_Y',\n",
       " 'ENSG00000169100.13',\n",
       " 'ENSG00000169100.13_PAR_Y',\n",
       " 'ENSG00000178605.13',\n",
       " 'ENSG00000178605.13_PAR_Y',\n",
       " 'ENSG00000182162.10',\n",
       " 'ENSG00000182162.10_PAR_Y',\n",
       " 'ENSG00000182378.13',\n",
       " 'ENSG00000182378.13_PAR_Y',\n",
       " 'ENSG00000182484.15',\n",
       " 'ENSG00000182484.15_PAR_Y',\n",
       " 'ENSG00000185203.12',\n",
       " 'ENSG00000185203.12_PAR_Y',\n",
       " 'ENSG00000185291.11',\n",
       " 'ENSG00000185291.11_PAR_Y',\n",
       " 'ENSG00000185960.14',\n",
       " 'ENSG00000185960.14_PAR_Y',\n",
       " 'ENSG00000196433.12',\n",
       " 'ENSG00000196433.12_PAR_Y',\n",
       " 'ENSG00000197976.11',\n",
       " 'ENSG00000197976.11_PAR_Y',\n",
       " 'ENSG00000198223.16',\n",
       " 'ENSG00000198223.16_PAR_Y',\n",
       " 'ENSG00000205755.11',\n",
       " 'ENSG00000205755.11_PAR_Y',\n",
       " 'ENSG00000214717.11',\n",
       " 'ENSG00000214717.11_PAR_Y',\n",
       " 'ENSG00000223274.6',\n",
       " 'ENSG00000223274.6_PAR_Y',\n",
       " 'ENSG00000223484.7',\n",
       " 'ENSG00000223484.7_PAR_Y',\n",
       " 'ENSG00000223511.7',\n",
       " 'ENSG00000223511.7_PAR_Y',\n",
       " 'ENSG00000223571.6',\n",
       " 'ENSG00000223571.6_PAR_Y',\n",
       " 'ENSG00000223773.7',\n",
       " 'ENSG00000223773.7_PAR_Y',\n",
       " 'ENSG00000225661.7',\n",
       " 'ENSG00000225661.7_PAR_Y',\n",
       " 'ENSG00000226179.6',\n",
       " 'ENSG00000226179.6_PAR_Y',\n",
       " 'ENSG00000227159.8',\n",
       " 'ENSG00000227159.8_PAR_Y',\n",
       " 'ENSG00000228410.6',\n",
       " 'ENSG00000228410.6_PAR_Y',\n",
       " 'ENSG00000228572.7',\n",
       " 'ENSG00000228572.7_PAR_Y',\n",
       " 'ENSG00000229232.6',\n",
       " 'ENSG00000229232.6_PAR_Y',\n",
       " 'ENSG00000230542.6',\n",
       " 'ENSG00000230542.6_PAR_Y',\n",
       " 'ENSG00000234622.6',\n",
       " 'ENSG00000234622.6_PAR_Y',\n",
       " 'ENSG00000234958.6',\n",
       " 'ENSG00000234958.6_PAR_Y',\n",
       " 'ENSG00000236017.8',\n",
       " 'ENSG00000236017.8_PAR_Y',\n",
       " 'ENSG00000236871.7',\n",
       " 'ENSG00000236871.7_PAR_Y',\n",
       " 'ENSG00000237040.6',\n",
       " 'ENSG00000237040.6_PAR_Y',\n",
       " 'ENSG00000237531.6',\n",
       " 'ENSG00000237531.6_PAR_Y',\n",
       " 'ENSG00000237801.6',\n",
       " 'ENSG00000237801.6_PAR_Y',\n",
       " 'ENSG00000265658.6',\n",
       " 'ENSG00000265658.6_PAR_Y',\n",
       " 'ENSG00000270726.6',\n",
       " 'ENSG00000270726.6_PAR_Y',\n",
       " 'ENSG00000275287.5',\n",
       " 'ENSG00000275287.5_PAR_Y',\n",
       " 'ENSG00000277120.5',\n",
       " 'ENSG00000277120.5_PAR_Y',\n",
       " 'ENSG00000280767.3',\n",
       " 'ENSG00000280767.3_PAR_Y',\n",
       " 'ENSG00000281849.3',\n",
       " 'ENSG00000281849.3_PAR_Y']"
      ]
     },
     "execution_count": 17,
     "metadata": {},
     "output_type": "execute_result"
    }
   ],
   "source": [
    "#matching_indices = filtered_df_drug.index[filtered_df_drug.index.str.contains(\"_PAR_Y\", case=False)]\n",
    "matching_rows = filtered_df_drug[filtered_df_drug.index.str.contains('|'.join(list_duplicated_genes), case=False)]\n",
    "list(matching_rows.index)"
   ]
  },
  {
   "cell_type": "code",
   "execution_count": null,
   "id": "088f9232",
   "metadata": {},
   "outputs": [],
   "source": [
    "# select the rows with a sum of zero\n",
    "read_ir3_counts = read_ir3_counts[read_ir3_counts['sum'] ==0]\n",
    "\n",
    "read_ir3_counts.shape\n",
    "# remove the rows with a sum of zero\n",
    "#df = df[df['sum'] != 0]"
   ]
  },
  {
   "cell_type": "code",
   "execution_count": null,
   "id": "6183da8c",
   "metadata": {},
   "outputs": [],
   "source": []
  },
  {
   "cell_type": "code",
   "execution_count": null,
   "id": "01951c9c",
   "metadata": {},
   "outputs": [],
   "source": []
  },
  {
   "cell_type": "code",
   "execution_count": null,
   "id": "6f008f5f",
   "metadata": {},
   "outputs": [],
   "source": []
  },
  {
   "cell_type": "code",
   "execution_count": null,
   "id": "fc882ed4",
   "metadata": {},
   "outputs": [],
   "source": [
    "# Keep the genes with proteomic and non proteomic IncRNAs genes\n",
    "\n",
    "protein_coding = pd.read_csv(path2/'HGNC_protein_coding_genes_31Jan2024.txt', delimiter='\\t', skiprows=1)\n",
    "non_protein_codying = pd.read_csv(path2/'HGNC_lncRNA_non_coding_genes_31Jan2024.txt',delimiter='\\t', skiprows=1)\n",
    "all_genes=pd.read_csv(path2/'IR3_counts_all_gene_IDs.txt',delimiter='\\t')\n",
    "intersection_genes=pd.read_csv(path2/'Intersection_genes_IR3_counts_gene_IDs_with_HGNC_lncRNA_Protein_Coding_31Jan2024.txt',delimiter='\\t')"
   ]
  },
  {
   "cell_type": "code",
   "execution_count": null,
   "id": "22af2ac0",
   "metadata": {},
   "outputs": [],
   "source": []
  },
  {
   "cell_type": "code",
   "execution_count": null,
   "id": "e55fa2c0",
   "metadata": {},
   "outputs": [],
   "source": []
  },
  {
   "cell_type": "code",
   "execution_count": null,
   "id": "84a81e31",
   "metadata": {},
   "outputs": [],
   "source": [
    "#rna_filtered.to_csv(path2/'ir3_rna_step1.csv', index=True)\n",
    "# combine the target as well"
   ]
  },
  {
   "cell_type": "code",
   "execution_count": null,
   "id": "385b3278",
   "metadata": {},
   "outputs": [],
   "source": []
  }
 ],
 "metadata": {
  "celltoolbar": "Edit Metadata",
  "kernelspec": {
   "display_name": "Python 3",
   "language": "python",
   "name": "python3"
  },
  "language_info": {
   "codemirror_mode": {
    "name": "ipython",
    "version": 3
   },
   "file_extension": ".py",
   "mimetype": "text/x-python",
   "name": "python",
   "nbconvert_exporter": "python",
   "pygments_lexer": "ipython3",
   "version": "3.9.13"
  }
 },
 "nbformat": 4,
 "nbformat_minor": 5
}
