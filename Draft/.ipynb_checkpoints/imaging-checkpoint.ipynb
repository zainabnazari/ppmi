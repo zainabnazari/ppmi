{
 "cells": [
  {
   "cell_type": "markdown",
   "id": "8f91c634",
   "metadata": {},
   "source": [
    "# DaTScan Data Analysis\n",
    "\n",
    "DaTScan, short for Dopamine Transporter Scan, is a diagnostic method based on SPECT imaging (Single Photon Emission Computed Tomography). Its primary purpose is to investigate whether there is a loss of dopaminergic neurons in the striatum of the brain."
   ]
  },
  {
   "cell_type": "code",
   "execution_count": 1,
   "id": "a53b3a87",
   "metadata": {},
   "outputs": [],
   "source": [
    "import pandas as pd\n",
    "from pathlib import Path\n",
    "import matplotlib.pyplot as plt\n",
    "\n",
    "\n",
    "from sklearn.preprocessing import LabelEncoder\n",
    "from sklearn.model_selection import train_test_split\n",
    "from sklearn.metrics import roc_auc_score\n",
    "\n",
    "from xgboost import XGBClassifier\n",
    "import xgboost as xgb"
   ]
  },
  {
   "cell_type": "code",
   "execution_count": 2,
   "id": "88a33e87",
   "metadata": {},
   "outputs": [],
   "source": [
    "path2 = Path(\"/home/znazari/data\") # in your laptop, where the output data will be saved at the end. TAC"
   ]
  },
  {
   "cell_type": "code",
   "execution_count": 3,
   "id": "f295bb12",
   "metadata": {},
   "outputs": [],
   "source": [
    "imaging = pd.read_csv(path2/\"DaTScan_Analysis_only_SC.txt\",delimiter='\\t')"
   ]
  },
  {
   "cell_type": "markdown",
   "id": "588a5670",
   "metadata": {},
   "source": [
    "DATSCAN_LIGAND = Signal CAUDATE_R\tand else different part of the brain  6 different"
   ]
  },
  {
   "cell_type": "code",
   "execution_count": 4,
   "id": "23f64b50",
   "metadata": {},
   "outputs": [],
   "source": [
    "columns_to_remove=['PROTOCOL', 'EVENT_ID','DATSCAN_LIGAND','DATSCAN_DATE','DATSCAN_ANALYZED']\n",
    "imaging_=imaging.drop(columns=columns_to_remove)"
   ]
  },
  {
   "cell_type": "code",
   "execution_count": 5,
   "id": "8d2ed4f4",
   "metadata": {},
   "outputs": [
    {
     "name": "stdout",
     "output_type": "stream",
     "text": [
      "Area Under the ROC Curve (AU-ROC) score: 0.5316127694859039\n"
     ]
    }
   ],
   "source": [
    "le = LabelEncoder()\n",
    "y = le.fit_transform(imaging['Diagnosis'])\n",
    "\n",
    "X_ = imaging_.drop(['PATNO', 'Diagnosis'], axis=1)\n",
    "\n",
    "X_train, X_test, y_train, y_test = train_test_split(X_, y, test_size=0.2, random_state=42)\n",
    "\n",
    "xgb_model = xgb.XGBClassifier()\n",
    "\n",
    "xgb_model.fit(X_train, y_train)\n",
    "\n",
    "# Predict probabilities on the test set\n",
    "y_pred_prob = xgb_model.predict_proba(X_test)[:, 1]\n",
    "\n",
    "# Calculate AU-ROC score\n",
    "roc_auc = roc_auc_score(y_test, y_pred_prob)\n",
    "print(f\"Area Under the ROC Curve (AU-ROC) score: {roc_auc}\")"
   ]
  },
  {
   "cell_type": "code",
   "execution_count": null,
   "id": "8c69c781",
   "metadata": {},
   "outputs": [],
   "source": []
  }
 ],
 "metadata": {
  "kernelspec": {
   "display_name": "Python 3",
   "language": "python",
   "name": "python3"
  },
  "language_info": {
   "codemirror_mode": {
    "name": "ipython",
    "version": 3
   },
   "file_extension": ".py",
   "mimetype": "text/x-python",
   "name": "python",
   "nbconvert_exporter": "python",
   "pygments_lexer": "ipython3",
   "version": "3.9.13"
  }
 },
 "nbformat": 4,
 "nbformat_minor": 5
}
