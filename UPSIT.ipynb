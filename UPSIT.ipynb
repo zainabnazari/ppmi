{
 "cells": [
  {
   "cell_type": "markdown",
   "id": "30c5123b",
   "metadata": {},
   "source": [
    "# UPSIT\n",
    "University of Pennsylvania Smell Identification Test"
   ]
  },
  {
   "cell_type": "code",
   "execution_count": 1,
   "id": "e54733f3",
   "metadata": {},
   "outputs": [],
   "source": [
    "import dask.dataframe as dd\n",
    "import pandas as pd\n",
    "from pathlib import Path\n",
    "from datetime import datetime\n",
    "from sklearn.preprocessing import LabelEncoder\n",
    "from sklearn.model_selection import train_test_split\n",
    "from sklearn.metrics import precision_score, recall_score, f1_score, roc_curve, accuracy_score, auc\n",
    "from sklearn.metrics import roc_auc_score, confusion_matrix, precision_recall_curve\n",
    "from xgboost import XGBClassifier\n",
    "import matplotlib.pyplot as plt"
   ]
  },
  {
   "cell_type": "code",
   "execution_count": 2,
   "id": "81cdffb1",
   "metadata": {},
   "outputs": [],
   "source": [
    "path=Path(\"/scratch/znazari/PPMI_ver_sep2022/study_data/Non-motor_Assessments/\")\n",
    "path2=Path(\"/scratch/znazari/PPMI_ver_sep2022/study_data/Archived_PPMI_Data\")\n",
    "path3=Path(\"/scratch/znazari/PPMI_ver_sep2022/study_data/Subject_Characteristics/\")\n",
    "path_data = Path(\"/home/znazari/data\") # where the output data will be saved at the end."
   ]
  },
  {
   "cell_type": "code",
   "execution_count": 3,
   "id": "67a538d3",
   "metadata": {},
   "outputs": [],
   "source": [
    "upsit=pd.read_csv(path/\"University_of_Pennsylvania_Smell_Identification_Test__UPSIT_.csv\")\n",
    "\n",
    "# Select rows where 'EVENT_ID' is 'BL'\n",
    "upsit_bl = upsit[upsit['EVENT_ID'] == 'BL']\n",
    "upsit[\"TOTAL_CORRECT\"];"
   ]
  },
  {
   "cell_type": "code",
   "execution_count": 12,
   "id": "fe77a5a8",
   "metadata": {},
   "outputs": [
    {
     "data": {
      "text/html": [
       "<div>\n",
       "<style scoped>\n",
       "    .dataframe tbody tr th:only-of-type {\n",
       "        vertical-align: middle;\n",
       "    }\n",
       "\n",
       "    .dataframe tbody tr th {\n",
       "        vertical-align: top;\n",
       "    }\n",
       "\n",
       "    .dataframe thead th {\n",
       "        text-align: right;\n",
       "    }\n",
       "</style>\n",
       "<table border=\"1\" class=\"dataframe\">\n",
       "  <thead>\n",
       "    <tr style=\"text-align: right;\">\n",
       "      <th></th>\n",
       "      <th>PATNO</th>\n",
       "      <th>UPSITBK1</th>\n",
       "      <th>UPSITBK2</th>\n",
       "      <th>UPSITBK3</th>\n",
       "      <th>UPSITBK4</th>\n",
       "    </tr>\n",
       "  </thead>\n",
       "  <tbody>\n",
       "    <tr>\n",
       "      <th>0</th>\n",
       "      <td>3000</td>\n",
       "      <td>9.0</td>\n",
       "      <td>10.0</td>\n",
       "      <td>6.0</td>\n",
       "      <td>10.0</td>\n",
       "    </tr>\n",
       "    <tr>\n",
       "      <th>2</th>\n",
       "      <td>3001</td>\n",
       "      <td>4.0</td>\n",
       "      <td>6.0</td>\n",
       "      <td>9.0</td>\n",
       "      <td>6.0</td>\n",
       "    </tr>\n",
       "    <tr>\n",
       "      <th>4</th>\n",
       "      <td>3002</td>\n",
       "      <td>3.0</td>\n",
       "      <td>5.0</td>\n",
       "      <td>3.0</td>\n",
       "      <td>6.0</td>\n",
       "    </tr>\n",
       "    <tr>\n",
       "      <th>6</th>\n",
       "      <td>3003</td>\n",
       "      <td>5.0</td>\n",
       "      <td>7.0</td>\n",
       "      <td>5.0</td>\n",
       "      <td>6.0</td>\n",
       "    </tr>\n",
       "    <tr>\n",
       "      <th>8</th>\n",
       "      <td>3004</td>\n",
       "      <td>10.0</td>\n",
       "      <td>10.0</td>\n",
       "      <td>8.0</td>\n",
       "      <td>8.0</td>\n",
       "    </tr>\n",
       "    <tr>\n",
       "      <th>...</th>\n",
       "      <td>...</td>\n",
       "      <td>...</td>\n",
       "      <td>...</td>\n",
       "      <td>...</td>\n",
       "      <td>...</td>\n",
       "    </tr>\n",
       "    <tr>\n",
       "      <th>2651</th>\n",
       "      <td>85236</td>\n",
       "      <td>5.0</td>\n",
       "      <td>3.0</td>\n",
       "      <td>4.0</td>\n",
       "      <td>3.0</td>\n",
       "    </tr>\n",
       "    <tr>\n",
       "      <th>2652</th>\n",
       "      <td>90456</td>\n",
       "      <td>5.0</td>\n",
       "      <td>5.0</td>\n",
       "      <td>4.0</td>\n",
       "      <td>5.0</td>\n",
       "    </tr>\n",
       "    <tr>\n",
       "      <th>2654</th>\n",
       "      <td>91097</td>\n",
       "      <td>5.0</td>\n",
       "      <td>4.0</td>\n",
       "      <td>5.0</td>\n",
       "      <td>4.0</td>\n",
       "    </tr>\n",
       "    <tr>\n",
       "      <th>2657</th>\n",
       "      <td>92490</td>\n",
       "      <td>3.0</td>\n",
       "      <td>1.0</td>\n",
       "      <td>3.0</td>\n",
       "      <td>3.0</td>\n",
       "    </tr>\n",
       "    <tr>\n",
       "      <th>2658</th>\n",
       "      <td>92834</td>\n",
       "      <td>2.0</td>\n",
       "      <td>3.0</td>\n",
       "      <td>5.0</td>\n",
       "      <td>2.0</td>\n",
       "    </tr>\n",
       "  </tbody>\n",
       "</table>\n",
       "<p>1905 rows × 5 columns</p>\n",
       "</div>"
      ],
      "text/plain": [
       "      PATNO  UPSITBK1  UPSITBK2  UPSITBK3  UPSITBK4\n",
       "0      3000       9.0      10.0       6.0      10.0\n",
       "2      3001       4.0       6.0       9.0       6.0\n",
       "4      3002       3.0       5.0       3.0       6.0\n",
       "6      3003       5.0       7.0       5.0       6.0\n",
       "8      3004      10.0      10.0       8.0       8.0\n",
       "...     ...       ...       ...       ...       ...\n",
       "2651  85236       5.0       3.0       4.0       3.0\n",
       "2652  90456       5.0       5.0       4.0       5.0\n",
       "2654  91097       5.0       4.0       5.0       4.0\n",
       "2657  92490       3.0       1.0       3.0       3.0\n",
       "2658  92834       2.0       3.0       5.0       2.0\n",
       "\n",
       "[1905 rows x 5 columns]"
      ]
     },
     "execution_count": 12,
     "metadata": {},
     "output_type": "execute_result"
    }
   ],
   "source": [
    "upsit2=pd.read_csv(path2/\"University_of_Pennsylvania_Smell_ID_Test-Archived.csv\")# larger dataset\n",
    "\n",
    "upsit_bl = upsit2[upsit2[\"EVENT_ID\"] == \"BL\"]\n",
    "data_upsit = upsit_bl[[\"PATNO\",\"UPSITBK1\",\"UPSITBK2\",\"UPSITBK3\",\"UPSITBK4\"]]\n",
    "data_upsit"
   ]
  },
  {
   "cell_type": "code",
   "execution_count": 5,
   "id": "a8a810b7",
   "metadata": {},
   "outputs": [],
   "source": [
    "diagnosis_=pd.read_csv(path3/\"Participant_Status.csv\")\n",
    "diagnosis = diagnosis_[[\"PATNO\",\"COHORT_DEFINITION\"]]"
   ]
  },
  {
   "cell_type": "code",
   "execution_count": 6,
   "id": "d126c5c6",
   "metadata": {},
   "outputs": [],
   "source": [
    "filtered_diagnosis = diagnosis[diagnosis['COHORT_DEFINITION'].isin(['Healthy Control', \"Parkinson's Disease\"])]"
   ]
  },
  {
   "cell_type": "code",
   "execution_count": 7,
   "id": "869a58f0",
   "metadata": {},
   "outputs": [],
   "source": [
    "merged_df_inner = pd.merge(data_upsit, filtered_diagnosis, on='PATNO', how='inner')"
   ]
  },
  {
   "cell_type": "code",
   "execution_count": 8,
   "id": "e62d1772",
   "metadata": {},
   "outputs": [],
   "source": [
    "merged_df_inner.to_csv(path_data/'UPSIT.csv', index=False)"
   ]
  },
  {
   "cell_type": "code",
   "execution_count": 9,
   "id": "b12e4c30",
   "metadata": {},
   "outputs": [
    {
     "name": "stdout",
     "output_type": "stream",
     "text": [
      "AU-ROC Score: 0.8209893048128343\n"
     ]
    }
   ],
   "source": [
    "# Separate features (X) and target variable (y)\n",
    "X = merged_df_inner.drop(['PATNO', 'COHORT_DEFINITION'], axis=1)\n",
    "\n",
    "# Initialize LabelEncoder\n",
    "label_encoder = LabelEncoder()\n",
    "\n",
    "# Fit and transform the 'COHORT' column\n",
    "label = label_encoder.fit_transform(merged_df_inner['COHORT_DEFINITION'])\n",
    "\n",
    "# Set the label for parkinson's disease and healthy control\n",
    "merged_df_inner.loc[:, 'COHORT_DEFINITION'] = label\n",
    "\n",
    "y = merged_df_inner['COHORT_DEFINITION']\n",
    "\n",
    "# Split the data into training and testing sets\n",
    "X_train, X_test, y_train, y_test = train_test_split(X, y, test_size=0.3, random_state=41)\n",
    "\n",
    "#  Initialize and train the XGBoost model\n",
    "xgb_model = XGBClassifier()\n",
    "xgb_model.fit(X_train, y_train)\n",
    "\n",
    "#  Make predictions on the testing set\n",
    "y_pred_proba = xgb_model.predict_proba(X_test)[:, 1]\n",
    "\n",
    "# Calculate AU-ROC score\n",
    "au_roc_score = roc_auc_score(y_test, y_pred_proba)\n",
    "\n",
    "# Print the AU-ROC score\n",
    "print(f'AU-ROC Score: {au_roc_score}')"
   ]
  },
  {
   "cell_type": "code",
   "execution_count": 10,
   "id": "773a67c9",
   "metadata": {},
   "outputs": [
    {
     "data": {
      "image/png": "[encoded data removed]",
      "text/plain": [
       "<Figure size 600x500 with 1 Axes>"
      ]
     },
     "metadata": {},
     "output_type": "display_data"
    }
   ],
   "source": [
    "# Calculate the ROC curve points\n",
    "fpr, tpr, thresholds = roc_curve(y_test, y_pred_proba)\n",
    "\n",
    "# Calculate the Area Under the ROC Curve (AUC)\n",
    "roc_auc = auc(fpr, tpr)\n",
    "\n",
    "# Create the ROC curve plot\n",
    "plt.figure(figsize=(6,5))\n",
    "\n",
    "# Plot the ROC curve\n",
    "plt.plot(fpr, tpr, color='tab:purple', lw=2, label=f'AU-ROC Curve (AUC = {roc_auc:.2f})')\n",
    "plt.plot([0, 1], [0, 1], color='tab:orange', lw=2, linestyle='--')\n",
    "\n",
    "# Customize plot\n",
    "plt.xlabel('False Positive Rate')\n",
    "plt.ylabel('True Positive Rate')\n",
    "plt.title('Receiver Operating Characteristic (ROC) Curve')\n",
    "plt.grid(True, linestyle='--', alpha=0.5)\n",
    "plt.legend(loc='lower right')\n",
    "\n",
    "# Show the plot\n",
    "plt.tight_layout()\n",
    "plt.show()"
   ]
  },
  {
   "cell_type": "code",
   "execution_count": 11,
   "id": "ca5970cc",
   "metadata": {},
   "outputs": [
    {
     "name": "stdout",
     "output_type": "stream",
     "text": [
      "Last update : 2024-02-29\n"
     ]
    }
   ],
   "source": [
    "# Get the current date\n",
    "current_date = datetime.now().date()\n",
    "\n",
    "# Print the current date\n",
    "print(\"Last update :\", current_date)"
   ]
  }
 ],
 "metadata": {
  "kernelspec": {
   "display_name": "Python 3",
   "language": "python",
   "name": "python3"
  },
  "language_info": {
   "codemirror_mode": {
    "name": "ipython",
    "version": 3
   },
   "file_extension": ".py",
   "mimetype": "text/x-python",
   "name": "python",
   "nbconvert_exporter": "python",
   "pygments_lexer": "ipython3",
   "version": "3.9.13"
  }
 },
 "nbformat": 4,
 "nbformat_minor": 5
}
