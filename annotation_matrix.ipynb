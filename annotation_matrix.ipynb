{
 "cells": [
  {
   "cell_type": "code",
   "execution_count": 1,
   "id": "5c7b8ba7",
   "metadata": {},
   "outputs": [],
   "source": [
    "import pandas as pd\n",
    "import numpy as np\n",
    "from pathlib import Path\n",
    "import functools"
   ]
  },
  {
   "cell_type": "code",
   "execution_count": 2,
   "id": "83382e29",
   "metadata": {},
   "outputs": [],
   "source": [
    "path1=Path(\"/home/znazari/\")"
   ]
  },
  {
   "cell_type": "code",
   "execution_count": 3,
   "id": "491ea61d",
   "metadata": {},
   "outputs": [],
   "source": [
    "path2=Path(\"/scratch/znazari/PPMI_ver_sep2022/RNA_Seq_data/star_ir2/quant/\")"
   ]
  },
  {
   "cell_type": "code",
   "execution_count": 4,
   "id": "50a8771a",
   "metadata": {},
   "outputs": [],
   "source": [
    "file_rand=pd.read_csv(path2/\"PPMI-Phase2-IR2.92834.V04.0002325630.5104-SL-4052.longRNA-NEBKAP.salmon-gtf.genes.sf\",delimiter='\\t', header=None )"
   ]
  },
  {
   "cell_type": "code",
   "execution_count": 5,
   "id": "1c8895fd",
   "metadata": {},
   "outputs": [
    {
     "data": {
      "text/html": [
       "<div>\n",
       "<style scoped>\n",
       "    .dataframe tbody tr th:only-of-type {\n",
       "        vertical-align: middle;\n",
       "    }\n",
       "\n",
       "    .dataframe tbody tr th {\n",
       "        vertical-align: top;\n",
       "    }\n",
       "\n",
       "    .dataframe thead th {\n",
       "        text-align: right;\n",
       "    }\n",
       "</style>\n",
       "<table border=\"1\" class=\"dataframe\">\n",
       "  <thead>\n",
       "    <tr style=\"text-align: right;\">\n",
       "      <th></th>\n",
       "      <th>0</th>\n",
       "      <th>1</th>\n",
       "      <th>2</th>\n",
       "      <th>3</th>\n",
       "      <th>4</th>\n",
       "    </tr>\n",
       "  </thead>\n",
       "  <tbody>\n",
       "    <tr>\n",
       "      <th>0</th>\n",
       "      <td>Name</td>\n",
       "      <td>Length</td>\n",
       "      <td>EffectiveLength</td>\n",
       "      <td>TPM</td>\n",
       "      <td>NumReads</td>\n",
       "    </tr>\n",
       "    <tr>\n",
       "      <th>1</th>\n",
       "      <td>ENSG00000198900.5</td>\n",
       "      <td>297</td>\n",
       "      <td>94</td>\n",
       "      <td>141.961</td>\n",
       "      <td>215</td>\n",
       "    </tr>\n",
       "    <tr>\n",
       "      <th>2</th>\n",
       "      <td>ENSG00000215515.2</td>\n",
       "      <td>3390</td>\n",
       "      <td>1953.77</td>\n",
       "      <td>0</td>\n",
       "      <td>0</td>\n",
       "    </tr>\n",
       "    <tr>\n",
       "      <th>3</th>\n",
       "      <td>ENSG00000215399.2</td>\n",
       "      <td>1273</td>\n",
       "      <td>792.992</td>\n",
       "      <td>0</td>\n",
       "      <td>0</td>\n",
       "    </tr>\n",
       "    <tr>\n",
       "      <th>4</th>\n",
       "      <td>ENSG00000196331.5</td>\n",
       "      <td>1238</td>\n",
       "      <td>1015.25</td>\n",
       "      <td>0.0266166</td>\n",
       "      <td>0.435378</td>\n",
       "    </tr>\n",
       "    <tr>\n",
       "      <th>...</th>\n",
       "      <td>...</td>\n",
       "      <td>...</td>\n",
       "      <td>...</td>\n",
       "      <td>...</td>\n",
       "      <td>...</td>\n",
       "    </tr>\n",
       "    <tr>\n",
       "      <th>34565</th>\n",
       "      <td>ENSG00000187210.8</td>\n",
       "      <td>894.435</td>\n",
       "      <td>911.71</td>\n",
       "      <td>30.6954</td>\n",
       "      <td>903.65</td>\n",
       "    </tr>\n",
       "    <tr>\n",
       "      <th>34566</th>\n",
       "      <td>ENSG00000263426.1</td>\n",
       "      <td>1600</td>\n",
       "      <td>351</td>\n",
       "      <td>0</td>\n",
       "      <td>0</td>\n",
       "    </tr>\n",
       "    <tr>\n",
       "      <th>34567</th>\n",
       "      <td>ENSG00000264729.1</td>\n",
       "      <td>611</td>\n",
       "      <td>303</td>\n",
       "      <td>0</td>\n",
       "      <td>0</td>\n",
       "    </tr>\n",
       "    <tr>\n",
       "      <th>34568</th>\n",
       "      <td>ENSG00000263919.1</td>\n",
       "      <td>260</td>\n",
       "      <td>75</td>\n",
       "      <td>0</td>\n",
       "      <td>0</td>\n",
       "    </tr>\n",
       "    <tr>\n",
       "      <th>34569</th>\n",
       "      <td>ENSG00000173894.6</td>\n",
       "      <td>2664</td>\n",
       "      <td>3413.86</td>\n",
       "      <td>6.79566</td>\n",
       "      <td>373.782</td>\n",
       "    </tr>\n",
       "  </tbody>\n",
       "</table>\n",
       "<p>34570 rows × 5 columns</p>\n",
       "</div>"
      ],
      "text/plain": [
       "                       0        1                2          3         4\n",
       "0                   Name   Length  EffectiveLength        TPM  NumReads\n",
       "1      ENSG00000198900.5      297               94    141.961       215\n",
       "2      ENSG00000215515.2     3390          1953.77          0         0\n",
       "3      ENSG00000215399.2     1273          792.992          0         0\n",
       "4      ENSG00000196331.5     1238          1015.25  0.0266166  0.435378\n",
       "...                  ...      ...              ...        ...       ...\n",
       "34565  ENSG00000187210.8  894.435           911.71    30.6954    903.65\n",
       "34566  ENSG00000263426.1     1600              351          0         0\n",
       "34567  ENSG00000264729.1      611              303          0         0\n",
       "34568  ENSG00000263919.1      260               75          0         0\n",
       "34569  ENSG00000173894.6     2664          3413.86    6.79566   373.782\n",
       "\n",
       "[34570 rows x 5 columns]"
      ]
     },
     "execution_count": 5,
     "metadata": {},
     "output_type": "execute_result"
    }
   ],
   "source": [
    "file_rand"
   ]
  },
  {
   "cell_type": "code",
   "execution_count": 6,
   "id": "2a960c31",
   "metadata": {},
   "outputs": [],
   "source": [
    "file_rand2=file_rand.rename(columns=file_rand.iloc[0]).drop(file_rand.index[0]).reset_index(drop=True)"
   ]
  },
  {
   "cell_type": "code",
   "execution_count": 7,
   "id": "f7ffa96e",
   "metadata": {},
   "outputs": [
    {
     "data": {
      "text/html": [
       "<div>\n",
       "<style scoped>\n",
       "    .dataframe tbody tr th:only-of-type {\n",
       "        vertical-align: middle;\n",
       "    }\n",
       "\n",
       "    .dataframe tbody tr th {\n",
       "        vertical-align: top;\n",
       "    }\n",
       "\n",
       "    .dataframe thead th {\n",
       "        text-align: right;\n",
       "    }\n",
       "</style>\n",
       "<table border=\"1\" class=\"dataframe\">\n",
       "  <thead>\n",
       "    <tr style=\"text-align: right;\">\n",
       "      <th></th>\n",
       "      <th>Name</th>\n",
       "      <th>Length</th>\n",
       "      <th>EffectiveLength</th>\n",
       "      <th>TPM</th>\n",
       "      <th>NumReads</th>\n",
       "    </tr>\n",
       "  </thead>\n",
       "  <tbody>\n",
       "    <tr>\n",
       "      <th>0</th>\n",
       "      <td>ENSG00000198900.5</td>\n",
       "      <td>297</td>\n",
       "      <td>94</td>\n",
       "      <td>141.961</td>\n",
       "      <td>215</td>\n",
       "    </tr>\n",
       "    <tr>\n",
       "      <th>1</th>\n",
       "      <td>ENSG00000215515.2</td>\n",
       "      <td>3390</td>\n",
       "      <td>1953.77</td>\n",
       "      <td>0</td>\n",
       "      <td>0</td>\n",
       "    </tr>\n",
       "    <tr>\n",
       "      <th>2</th>\n",
       "      <td>ENSG00000215399.2</td>\n",
       "      <td>1273</td>\n",
       "      <td>792.992</td>\n",
       "      <td>0</td>\n",
       "      <td>0</td>\n",
       "    </tr>\n",
       "    <tr>\n",
       "      <th>3</th>\n",
       "      <td>ENSG00000196331.5</td>\n",
       "      <td>1238</td>\n",
       "      <td>1015.25</td>\n",
       "      <td>0.0266166</td>\n",
       "      <td>0.435378</td>\n",
       "    </tr>\n",
       "    <tr>\n",
       "      <th>4</th>\n",
       "      <td>ENSG00000206044.3</td>\n",
       "      <td>1769</td>\n",
       "      <td>351</td>\n",
       "      <td>0</td>\n",
       "      <td>0</td>\n",
       "    </tr>\n",
       "    <tr>\n",
       "      <th>...</th>\n",
       "      <td>...</td>\n",
       "      <td>...</td>\n",
       "      <td>...</td>\n",
       "      <td>...</td>\n",
       "      <td>...</td>\n",
       "    </tr>\n",
       "    <tr>\n",
       "      <th>34564</th>\n",
       "      <td>ENSG00000187210.8</td>\n",
       "      <td>894.435</td>\n",
       "      <td>911.71</td>\n",
       "      <td>30.6954</td>\n",
       "      <td>903.65</td>\n",
       "    </tr>\n",
       "    <tr>\n",
       "      <th>34565</th>\n",
       "      <td>ENSG00000263426.1</td>\n",
       "      <td>1600</td>\n",
       "      <td>351</td>\n",
       "      <td>0</td>\n",
       "      <td>0</td>\n",
       "    </tr>\n",
       "    <tr>\n",
       "      <th>34566</th>\n",
       "      <td>ENSG00000264729.1</td>\n",
       "      <td>611</td>\n",
       "      <td>303</td>\n",
       "      <td>0</td>\n",
       "      <td>0</td>\n",
       "    </tr>\n",
       "    <tr>\n",
       "      <th>34567</th>\n",
       "      <td>ENSG00000263919.1</td>\n",
       "      <td>260</td>\n",
       "      <td>75</td>\n",
       "      <td>0</td>\n",
       "      <td>0</td>\n",
       "    </tr>\n",
       "    <tr>\n",
       "      <th>34568</th>\n",
       "      <td>ENSG00000173894.6</td>\n",
       "      <td>2664</td>\n",
       "      <td>3413.86</td>\n",
       "      <td>6.79566</td>\n",
       "      <td>373.782</td>\n",
       "    </tr>\n",
       "  </tbody>\n",
       "</table>\n",
       "<p>34569 rows × 5 columns</p>\n",
       "</div>"
      ],
      "text/plain": [
       "                    Name   Length EffectiveLength        TPM  NumReads\n",
       "0      ENSG00000198900.5      297              94    141.961       215\n",
       "1      ENSG00000215515.2     3390         1953.77          0         0\n",
       "2      ENSG00000215399.2     1273         792.992          0         0\n",
       "3      ENSG00000196331.5     1238         1015.25  0.0266166  0.435378\n",
       "4      ENSG00000206044.3     1769             351          0         0\n",
       "...                  ...      ...             ...        ...       ...\n",
       "34564  ENSG00000187210.8  894.435          911.71    30.6954    903.65\n",
       "34565  ENSG00000263426.1     1600             351          0         0\n",
       "34566  ENSG00000264729.1      611             303          0         0\n",
       "34567  ENSG00000263919.1      260              75          0         0\n",
       "34568  ENSG00000173894.6     2664         3413.86    6.79566   373.782\n",
       "\n",
       "[34569 rows x 5 columns]"
      ]
     },
     "execution_count": 7,
     "metadata": {},
     "output_type": "execute_result"
    }
   ],
   "source": [
    "file_rand2"
   ]
  },
  {
   "cell_type": "code",
   "execution_count": null,
   "id": "e712c622",
   "metadata": {},
   "outputs": [],
   "source": [
    "all_rows=len(file_rand2.index)"
   ]
  },
  {
   "cell_type": "code",
   "execution_count": null,
   "id": "02ca9047",
   "metadata": {},
   "outputs": [],
   "source": [
    "single_df=file_rand2[['Name']]"
   ]
  },
  {
   "cell_type": "code",
   "execution_count": null,
   "id": "3697d888",
   "metadata": {},
   "outputs": [],
   "source": [
    "single_df"
   ]
  },
  {
   "cell_type": "code",
   "execution_count": null,
   "id": "40a0c6ec",
   "metadata": {},
   "outputs": [],
   "source": [
    "single_df.iloc[0][0]"
   ]
  },
  {
   "cell_type": "code",
   "execution_count": null,
   "id": "ca3604ad",
   "metadata": {},
   "outputs": [],
   "source": [
    "def function_names(fname):\n",
    "    tokens=fname.split('.')\n",
    "    return tokens[0]"
   ]
  },
  {
   "cell_type": "code",
   "execution_count": null,
   "id": "9a8af75f",
   "metadata": {},
   "outputs": [],
   "source": [
    "for i in range(all_rows):\n",
    "    single_df.loc[i,['Name']]=function_names(single_df.loc[i][0])\n",
    "    \n",
    "                  \n",
    "    "
   ]
  },
  {
   "cell_type": "code",
   "execution_count": null,
   "id": "10de11a0",
   "metadata": {},
   "outputs": [],
   "source": [
    "single_dff=single_df"
   ]
  },
  {
   "cell_type": "code",
   "execution_count": null,
   "id": "bf0777a1",
   "metadata": {},
   "outputs": [],
   "source": [
    "single_dff"
   ]
  },
  {
   "cell_type": "code",
   "execution_count": null,
   "id": "0b51a676",
   "metadata": {},
   "outputs": [],
   "source": [
    "df_mine = single_dff.rename(columns={'Name': 'Ensembl gene ID'})"
   ]
  },
  {
   "cell_type": "code",
   "execution_count": null,
   "id": "20ae8b4a",
   "metadata": {},
   "outputs": [],
   "source": [
    "df_mine"
   ]
  },
  {
   "cell_type": "code",
   "execution_count": null,
   "id": "bcf516e9",
   "metadata": {},
   "outputs": [],
   "source": [
    "dataframe.loc[row index,['column-names']] = value"
   ]
  },
  {
   "cell_type": "code",
   "execution_count": null,
   "id": "d0b6bdd3",
   "metadata": {},
   "outputs": [],
   "source": [
    "function_names(file_rand2.loc[0][0])"
   ]
  },
  {
   "cell_type": "code",
   "execution_count": null,
   "id": "adbf7234",
   "metadata": {},
   "outputs": [],
   "source": [
    "result_=pd.read_csv('results.txt', on_bad_lines='skip',delimiter='\\t', header=None )"
   ]
  },
  {
   "cell_type": "code",
   "execution_count": null,
   "id": "f9be0ed1",
   "metadata": {},
   "outputs": [],
   "source": [
    "result_3=result_.rename(columns=result_.iloc[0]).drop(result_.index[0]).reset_index(drop=True)\n"
   ]
  },
  {
   "cell_type": "code",
   "execution_count": null,
   "id": "83d864e4",
   "metadata": {},
   "outputs": [],
   "source": [
    "result_3"
   ]
  },
  {
   "cell_type": "code",
   "execution_count": null,
   "id": "4d6d1bcc",
   "metadata": {},
   "outputs": [],
   "source": [
    "annotation_matrix=pd.merge(df_mine, result_3, on='Ensembl gene ID', how='left')"
   ]
  },
  {
   "cell_type": "code",
   "execution_count": null,
   "id": "4aaa7996",
   "metadata": {},
   "outputs": [],
   "source": [
    "annotation_matrix"
   ]
  },
  {
   "cell_type": "code",
   "execution_count": null,
   "id": "f81355b2",
   "metadata": {},
   "outputs": [],
   "source": []
  },
  {
   "cell_type": "code",
   "execution_count": null,
   "id": "30c6520c",
   "metadata": {},
   "outputs": [],
   "source": []
  },
  {
   "cell_type": "code",
   "execution_count": null,
   "id": "99715a9c",
   "metadata": {},
   "outputs": [],
   "source": []
  },
  {
   "cell_type": "code",
   "execution_count": null,
   "id": "c6b86c9a",
   "metadata": {},
   "outputs": [],
   "source": [
    "annotation_matrix.to_csv(\"annotation_matrix.txt\")"
   ]
  },
  {
   "cell_type": "code",
   "execution_count": null,
   "id": "e1449283",
   "metadata": {},
   "outputs": [],
   "source": []
  }
 ],
 "metadata": {
  "kernelspec": {
   "display_name": "Python 3",
   "language": "python",
   "name": "python3"
  },
  "language_info": {
   "codemirror_mode": {
    "name": "ipython",
    "version": 3
   },
   "file_extension": ".py",
   "mimetype": "text/x-python",
   "name": "python",
   "nbconvert_exporter": "python",
   "pygments_lexer": "ipython3",
   "version": "3.9.13"
  }
 },
 "nbformat": 4,
 "nbformat_minor": 5
}
