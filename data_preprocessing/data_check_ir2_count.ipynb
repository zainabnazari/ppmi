{
 "cells": [
  {
   "cell_type": "markdown",
   "id": "fe6bace1",
   "metadata": {},
   "source": [
    "**In this part we take the matrix we created for BL count IR2 and make a matrix with new PIDs**\n",
    "\n"
   ]
  },
  {
   "cell_type": "code",
   "execution_count": 1,
   "id": "5c7b8ba7",
   "metadata": {},
   "outputs": [],
   "source": [
    "import pandas as pd\n",
    "import numpy as np\n",
    "from pathlib import Path\n",
    "import functools"
   ]
  },
  {
   "cell_type": "code",
   "execution_count": 9,
   "id": "bd4d22c5",
   "metadata": {},
   "outputs": [
    {
     "name": "stdout",
     "output_type": "stream",
     "text": [
      "Requirement already satisfied: dask in /home/znazari/anaconda3/lib/python3.9/site-packages (2022.7.0)\n",
      "Requirement already satisfied: partd>=0.3.10 in /home/znazari/anaconda3/lib/python3.9/site-packages (from dask) (1.2.0)\n",
      "Requirement already satisfied: pyyaml>=5.3.1 in /home/znazari/anaconda3/lib/python3.9/site-packages (from dask) (6.0)\n",
      "Requirement already satisfied: packaging>=20.0 in /home/znazari/anaconda3/lib/python3.9/site-packages (from dask) (21.3)\n",
      "Requirement already satisfied: fsspec>=0.6.0 in /home/znazari/anaconda3/lib/python3.9/site-packages (from dask) (2022.7.1)\n",
      "Requirement already satisfied: cloudpickle>=1.1.1 in /home/znazari/anaconda3/lib/python3.9/site-packages (from dask) (2.0.0)\n",
      "Requirement already satisfied: toolz>=0.8.2 in /home/znazari/anaconda3/lib/python3.9/site-packages (from dask) (0.11.2)\n",
      "Requirement already satisfied: pyparsing!=3.0.5,>=2.0.2 in /home/znazari/anaconda3/lib/python3.9/site-packages (from packaging>=20.0->dask) (3.0.9)\n",
      "Requirement already satisfied: locket in /home/znazari/anaconda3/lib/python3.9/site-packages (from partd>=0.3.10->dask) (1.0.0)\n"
     ]
    }
   ],
   "source": [
    "!pip install dask"
   ]
  },
  {
   "cell_type": "markdown",
   "id": "ab095bad",
   "metadata": {},
   "source": [
    "Here we upload the the big diagnosis that we have created previously."
   ]
  },
  {
   "cell_type": "code",
   "execution_count": 2,
   "id": "e1a243f2",
   "metadata": {},
   "outputs": [
    {
     "data": {
      "text/html": [
       "<div>\n",
       "<style scoped>\n",
       "    .dataframe tbody tr th:only-of-type {\n",
       "        vertical-align: middle;\n",
       "    }\n",
       "\n",
       "    .dataframe tbody tr th {\n",
       "        vertical-align: top;\n",
       "    }\n",
       "\n",
       "    .dataframe thead th {\n",
       "        text-align: right;\n",
       "    }\n",
       "</style>\n",
       "<table border=\"1\" class=\"dataframe\">\n",
       "  <thead>\n",
       "    <tr style=\"text-align: right;\">\n",
       "      <th></th>\n",
       "      <th>PATNO</th>\n",
       "      <th>AGE_AT_VISIT</th>\n",
       "      <th>AFICBERB</th>\n",
       "      <th>ASHKJEW</th>\n",
       "      <th>BASQUE</th>\n",
       "      <th>BIRTHDT</th>\n",
       "      <th>SEX</th>\n",
       "      <th>CHLDBEAR</th>\n",
       "      <th>HANDED</th>\n",
       "      <th>HISPLAT</th>\n",
       "      <th>RAASIAN</th>\n",
       "      <th>RABLACK</th>\n",
       "      <th>RAHAWOPI</th>\n",
       "      <th>RAINDALS</th>\n",
       "      <th>RANOS</th>\n",
       "      <th>RAWHITE</th>\n",
       "      <th>COHORT_DEFINITION</th>\n",
       "    </tr>\n",
       "  </thead>\n",
       "  <tbody>\n",
       "    <tr>\n",
       "      <th>0</th>\n",
       "      <td>3000</td>\n",
       "      <td>69.1</td>\n",
       "      <td>0</td>\n",
       "      <td>0</td>\n",
       "      <td>0</td>\n",
       "      <td>12/1941</td>\n",
       "      <td>0</td>\n",
       "      <td>0</td>\n",
       "      <td>1</td>\n",
       "      <td>0</td>\n",
       "      <td>0</td>\n",
       "      <td>0</td>\n",
       "      <td>0</td>\n",
       "      <td>0</td>\n",
       "      <td>0</td>\n",
       "      <td>1</td>\n",
       "      <td>Healthy Control</td>\n",
       "    </tr>\n",
       "    <tr>\n",
       "      <th>1</th>\n",
       "      <td>3001</td>\n",
       "      <td>65.1</td>\n",
       "      <td>0</td>\n",
       "      <td>0</td>\n",
       "      <td>0</td>\n",
       "      <td>01/1946</td>\n",
       "      <td>1</td>\n",
       "      <td>NaN</td>\n",
       "      <td>2</td>\n",
       "      <td>0</td>\n",
       "      <td>0</td>\n",
       "      <td>0</td>\n",
       "      <td>0</td>\n",
       "      <td>0</td>\n",
       "      <td>0</td>\n",
       "      <td>1</td>\n",
       "      <td>Parkinson's Disease</td>\n",
       "    </tr>\n",
       "    <tr>\n",
       "      <th>2</th>\n",
       "      <td>3002</td>\n",
       "      <td>67.6</td>\n",
       "      <td>0</td>\n",
       "      <td>0</td>\n",
       "      <td>0</td>\n",
       "      <td>08/1943</td>\n",
       "      <td>0</td>\n",
       "      <td>0</td>\n",
       "      <td>1</td>\n",
       "      <td>0</td>\n",
       "      <td>0</td>\n",
       "      <td>0</td>\n",
       "      <td>0</td>\n",
       "      <td>0</td>\n",
       "      <td>0</td>\n",
       "      <td>1</td>\n",
       "      <td>Parkinson's Disease</td>\n",
       "    </tr>\n",
       "    <tr>\n",
       "      <th>3</th>\n",
       "      <td>3003</td>\n",
       "      <td>56.7</td>\n",
       "      <td>0</td>\n",
       "      <td>0</td>\n",
       "      <td>0</td>\n",
       "      <td>07/1954</td>\n",
       "      <td>0</td>\n",
       "      <td>0</td>\n",
       "      <td>1</td>\n",
       "      <td>0</td>\n",
       "      <td>0</td>\n",
       "      <td>0</td>\n",
       "      <td>0</td>\n",
       "      <td>0</td>\n",
       "      <td>0</td>\n",
       "      <td>1</td>\n",
       "      <td>Parkinson's Disease</td>\n",
       "    </tr>\n",
       "    <tr>\n",
       "      <th>4</th>\n",
       "      <td>3004</td>\n",
       "      <td>59.4</td>\n",
       "      <td>0</td>\n",
       "      <td>0</td>\n",
       "      <td>0</td>\n",
       "      <td>11/1951</td>\n",
       "      <td>1</td>\n",
       "      <td>NaN</td>\n",
       "      <td>1</td>\n",
       "      <td>0</td>\n",
       "      <td>0</td>\n",
       "      <td>0</td>\n",
       "      <td>0</td>\n",
       "      <td>0</td>\n",
       "      <td>0</td>\n",
       "      <td>1</td>\n",
       "      <td>Healthy Control</td>\n",
       "    </tr>\n",
       "    <tr>\n",
       "      <th>...</th>\n",
       "      <td>...</td>\n",
       "      <td>...</td>\n",
       "      <td>...</td>\n",
       "      <td>...</td>\n",
       "      <td>...</td>\n",
       "      <td>...</td>\n",
       "      <td>...</td>\n",
       "      <td>...</td>\n",
       "      <td>...</td>\n",
       "      <td>...</td>\n",
       "      <td>...</td>\n",
       "      <td>...</td>\n",
       "      <td>...</td>\n",
       "      <td>...</td>\n",
       "      <td>...</td>\n",
       "      <td>...</td>\n",
       "      <td>...</td>\n",
       "    </tr>\n",
       "    <tr>\n",
       "      <th>1207</th>\n",
       "      <td>160252</td>\n",
       "      <td>80.3</td>\n",
       "      <td>0</td>\n",
       "      <td>0</td>\n",
       "      <td>0</td>\n",
       "      <td>05/1942</td>\n",
       "      <td>1</td>\n",
       "      <td>NaN</td>\n",
       "      <td>1</td>\n",
       "      <td>0</td>\n",
       "      <td>0</td>\n",
       "      <td>0</td>\n",
       "      <td>0</td>\n",
       "      <td>0</td>\n",
       "      <td>0</td>\n",
       "      <td>1</td>\n",
       "      <td>Parkinson's Disease</td>\n",
       "    </tr>\n",
       "    <tr>\n",
       "      <th>1208</th>\n",
       "      <td>161236</td>\n",
       "      <td>55.6</td>\n",
       "      <td>0</td>\n",
       "      <td>0</td>\n",
       "      <td>0</td>\n",
       "      <td>01/1967</td>\n",
       "      <td>1</td>\n",
       "      <td>NaN</td>\n",
       "      <td>1</td>\n",
       "      <td>0</td>\n",
       "      <td>0</td>\n",
       "      <td>0</td>\n",
       "      <td>0</td>\n",
       "      <td>0</td>\n",
       "      <td>0</td>\n",
       "      <td>1</td>\n",
       "      <td>Parkinson's Disease</td>\n",
       "    </tr>\n",
       "    <tr>\n",
       "      <th>1209</th>\n",
       "      <td>162140</td>\n",
       "      <td>68.8</td>\n",
       "      <td>0</td>\n",
       "      <td>0</td>\n",
       "      <td>0</td>\n",
       "      <td>10/1953</td>\n",
       "      <td>1</td>\n",
       "      <td>NaN</td>\n",
       "      <td>1</td>\n",
       "      <td>0</td>\n",
       "      <td>0</td>\n",
       "      <td>0</td>\n",
       "      <td>0</td>\n",
       "      <td>0</td>\n",
       "      <td>0</td>\n",
       "      <td>1</td>\n",
       "      <td>Prodromal</td>\n",
       "    </tr>\n",
       "    <tr>\n",
       "      <th>1210</th>\n",
       "      <td>162905</td>\n",
       "      <td>45.2</td>\n",
       "      <td>0</td>\n",
       "      <td>0</td>\n",
       "      <td>0</td>\n",
       "      <td>06/1977</td>\n",
       "      <td>1</td>\n",
       "      <td>NaN</td>\n",
       "      <td>1</td>\n",
       "      <td>0</td>\n",
       "      <td>0</td>\n",
       "      <td>1</td>\n",
       "      <td>0</td>\n",
       "      <td>0</td>\n",
       "      <td>0</td>\n",
       "      <td>0</td>\n",
       "      <td>Healthy Control</td>\n",
       "    </tr>\n",
       "    <tr>\n",
       "      <th>1211</th>\n",
       "      <td>162929</td>\n",
       "      <td>84.6</td>\n",
       "      <td>0</td>\n",
       "      <td>0</td>\n",
       "      <td>0</td>\n",
       "      <td>01/1938</td>\n",
       "      <td>1</td>\n",
       "      <td>NaN</td>\n",
       "      <td>1</td>\n",
       "      <td>0</td>\n",
       "      <td>0</td>\n",
       "      <td>0</td>\n",
       "      <td>0</td>\n",
       "      <td>0</td>\n",
       "      <td>0</td>\n",
       "      <td>1</td>\n",
       "      <td>Parkinson's Disease</td>\n",
       "    </tr>\n",
       "  </tbody>\n",
       "</table>\n",
       "<p>1212 rows × 17 columns</p>\n",
       "</div>"
      ],
      "text/plain": [
       "       PATNO AGE_AT_VISIT AFICBERB ASHKJEW BASQUE  BIRTHDT SEX CHLDBEAR  \\\n",
       "0       3000         69.1        0       0      0  12/1941   0        0   \n",
       "1       3001         65.1        0       0      0  01/1946   1      NaN   \n",
       "2       3002         67.6        0       0      0  08/1943   0        0   \n",
       "3       3003         56.7        0       0      0  07/1954   0        0   \n",
       "4       3004         59.4        0       0      0  11/1951   1      NaN   \n",
       "...      ...          ...      ...     ...    ...      ...  ..      ...   \n",
       "1207  160252         80.3        0       0      0  05/1942   1      NaN   \n",
       "1208  161236         55.6        0       0      0  01/1967   1      NaN   \n",
       "1209  162140         68.8        0       0      0  10/1953   1      NaN   \n",
       "1210  162905         45.2        0       0      0  06/1977   1      NaN   \n",
       "1211  162929         84.6        0       0      0  01/1938   1      NaN   \n",
       "\n",
       "     HANDED HISPLAT RAASIAN RABLACK RAHAWOPI RAINDALS RANOS RAWHITE  \\\n",
       "0         1       0       0       0        0        0     0       1   \n",
       "1         2       0       0       0        0        0     0       1   \n",
       "2         1       0       0       0        0        0     0       1   \n",
       "3         1       0       0       0        0        0     0       1   \n",
       "4         1       0       0       0        0        0     0       1   \n",
       "...     ...     ...     ...     ...      ...      ...   ...     ...   \n",
       "1207      1       0       0       0        0        0     0       1   \n",
       "1208      1       0       0       0        0        0     0       1   \n",
       "1209      1       0       0       0        0        0     0       1   \n",
       "1210      1       0       0       1        0        0     0       0   \n",
       "1211      1       0       0       0        0        0     0       1   \n",
       "\n",
       "        COHORT_DEFINITION  \n",
       "0         Healthy Control  \n",
       "1     Parkinson's Disease  \n",
       "2     Parkinson's Disease  \n",
       "3     Parkinson's Disease  \n",
       "4         Healthy Control  \n",
       "...                   ...  \n",
       "1207  Parkinson's Disease  \n",
       "1208  Parkinson's Disease  \n",
       "1209            Prodromal  \n",
       "1210      Healthy Control  \n",
       "1211  Parkinson's Disease  \n",
       "\n",
       "[1212 rows x 17 columns]"
      ]
     },
     "execution_count": 2,
     "metadata": {},
     "output_type": "execute_result"
    }
   ],
   "source": [
    "final2=pd.read_csv(\"final.csv\", header=None,index_col=[0])\n",
    "\n",
    "#we make it readable order that we need to have with making the columns in appropriate way.\n",
    "\n",
    "final1=final2.rename(columns=final2.iloc[0]).drop(final2.index[0]).reset_index(drop=True)\n",
    "final1"
   ]
  },
  {
   "cell_type": "code",
   "execution_count": 7,
   "id": "22e23458",
   "metadata": {},
   "outputs": [],
   "source": [
    "path_data=Path(\"/scratch/znazari/matrix_g/new_jobs_counts_ir2/final_data_count/\")"
   ]
  },
  {
   "cell_type": "code",
   "execution_count": null,
   "id": "8fc60e3f",
   "metadata": {},
   "outputs": [],
   "source": []
  },
  {
   "cell_type": "markdown",
   "id": "e363aeb6",
   "metadata": {},
   "source": [
    "We read off the raw matrix that we have created previously, they usually contain more patient that we have their diagnosis."
   ]
  },
  {
   "cell_type": "code",
   "execution_count": 8,
   "id": "0c564117",
   "metadata": {},
   "outputs": [
    {
     "ename": "FileNotFoundError",
     "evalue": "[Errno 2] No such file or directory: '/scratch/znazari/matrix_g/new_jobs_counts_ir2/final_data_count/bl_matrix_counts_ir2.txt'",
     "output_type": "error",
     "traceback": [
      "\u001b[0;31m---------------------------------------------------------------------------\u001b[0m",
      "\u001b[0;31mFileNotFoundError\u001b[0m                         Traceback (most recent call last)",
      "\u001b[0;32m/tmp/ipykernel_11415/2619202293.py\u001b[0m in \u001b[0;36m<module>\u001b[0;34m\u001b[0m\n\u001b[0;32m----> 1\u001b[0;31m \u001b[0mbl_matrix\u001b[0m\u001b[0;34m=\u001b[0m\u001b[0mpd\u001b[0m\u001b[0;34m.\u001b[0m\u001b[0mread_csv\u001b[0m\u001b[0;34m(\u001b[0m\u001b[0mpath_data\u001b[0m\u001b[0;34m/\u001b[0m\u001b[0;34m\"bl_matrix_counts_ir2.txt\"\u001b[0m\u001b[0;34m,\u001b[0m \u001b[0mheader\u001b[0m\u001b[0;34m=\u001b[0m\u001b[0;32mNone\u001b[0m\u001b[0;34m,\u001b[0m \u001b[0mlow_memory\u001b[0m\u001b[0;34m=\u001b[0m\u001b[0;32mFalse\u001b[0m\u001b[0;34m)\u001b[0m\u001b[0;34m\u001b[0m\u001b[0;34m\u001b[0m\u001b[0m\n\u001b[0m",
      "\u001b[0;32m~/anaconda3/lib/python3.9/site-packages/pandas/util/_decorators.py\u001b[0m in \u001b[0;36mwrapper\u001b[0;34m(*args, **kwargs)\u001b[0m\n\u001b[1;32m    309\u001b[0m                     \u001b[0mstacklevel\u001b[0m\u001b[0;34m=\u001b[0m\u001b[0mstacklevel\u001b[0m\u001b[0;34m,\u001b[0m\u001b[0;34m\u001b[0m\u001b[0;34m\u001b[0m\u001b[0m\n\u001b[1;32m    310\u001b[0m                 )\n\u001b[0;32m--> 311\u001b[0;31m             \u001b[0;32mreturn\u001b[0m \u001b[0mfunc\u001b[0m\u001b[0;34m(\u001b[0m\u001b[0;34m*\u001b[0m\u001b[0margs\u001b[0m\u001b[0;34m,\u001b[0m \u001b[0;34m**\u001b[0m\u001b[0mkwargs\u001b[0m\u001b[0;34m)\u001b[0m\u001b[0;34m\u001b[0m\u001b[0;34m\u001b[0m\u001b[0m\n\u001b[0m\u001b[1;32m    312\u001b[0m \u001b[0;34m\u001b[0m\u001b[0m\n\u001b[1;32m    313\u001b[0m         \u001b[0;32mreturn\u001b[0m \u001b[0mwrapper\u001b[0m\u001b[0;34m\u001b[0m\u001b[0;34m\u001b[0m\u001b[0m\n",
      "\u001b[0;32m~/anaconda3/lib/python3.9/site-packages/pandas/io/parsers/readers.py\u001b[0m in \u001b[0;36mread_csv\u001b[0;34m(filepath_or_buffer, sep, delimiter, header, names, index_col, usecols, squeeze, prefix, mangle_dupe_cols, dtype, engine, converters, true_values, false_values, skipinitialspace, skiprows, skipfooter, nrows, na_values, keep_default_na, na_filter, verbose, skip_blank_lines, parse_dates, infer_datetime_format, keep_date_col, date_parser, dayfirst, cache_dates, iterator, chunksize, compression, thousands, decimal, lineterminator, quotechar, quoting, doublequote, escapechar, comment, encoding, encoding_errors, dialect, error_bad_lines, warn_bad_lines, on_bad_lines, delim_whitespace, low_memory, memory_map, float_precision, storage_options)\u001b[0m\n\u001b[1;32m    676\u001b[0m     \u001b[0mkwds\u001b[0m\u001b[0;34m.\u001b[0m\u001b[0mupdate\u001b[0m\u001b[0;34m(\u001b[0m\u001b[0mkwds_defaults\u001b[0m\u001b[0;34m)\u001b[0m\u001b[0;34m\u001b[0m\u001b[0;34m\u001b[0m\u001b[0m\n\u001b[1;32m    677\u001b[0m \u001b[0;34m\u001b[0m\u001b[0m\n\u001b[0;32m--> 678\u001b[0;31m     \u001b[0;32mreturn\u001b[0m \u001b[0m_read\u001b[0m\u001b[0;34m(\u001b[0m\u001b[0mfilepath_or_buffer\u001b[0m\u001b[0;34m,\u001b[0m \u001b[0mkwds\u001b[0m\u001b[0;34m)\u001b[0m\u001b[0;34m\u001b[0m\u001b[0;34m\u001b[0m\u001b[0m\n\u001b[0m\u001b[1;32m    679\u001b[0m \u001b[0;34m\u001b[0m\u001b[0m\n\u001b[1;32m    680\u001b[0m \u001b[0;34m\u001b[0m\u001b[0m\n",
      "\u001b[0;32m~/anaconda3/lib/python3.9/site-packages/pandas/io/parsers/readers.py\u001b[0m in \u001b[0;36m_read\u001b[0;34m(filepath_or_buffer, kwds)\u001b[0m\n\u001b[1;32m    573\u001b[0m \u001b[0;34m\u001b[0m\u001b[0m\n\u001b[1;32m    574\u001b[0m     \u001b[0;31m# Create the parser.\u001b[0m\u001b[0;34m\u001b[0m\u001b[0;34m\u001b[0m\u001b[0m\n\u001b[0;32m--> 575\u001b[0;31m     \u001b[0mparser\u001b[0m \u001b[0;34m=\u001b[0m \u001b[0mTextFileReader\u001b[0m\u001b[0;34m(\u001b[0m\u001b[0mfilepath_or_buffer\u001b[0m\u001b[0;34m,\u001b[0m \u001b[0;34m**\u001b[0m\u001b[0mkwds\u001b[0m\u001b[0;34m)\u001b[0m\u001b[0;34m\u001b[0m\u001b[0;34m\u001b[0m\u001b[0m\n\u001b[0m\u001b[1;32m    576\u001b[0m \u001b[0;34m\u001b[0m\u001b[0m\n\u001b[1;32m    577\u001b[0m     \u001b[0;32mif\u001b[0m \u001b[0mchunksize\u001b[0m \u001b[0;32mor\u001b[0m \u001b[0miterator\u001b[0m\u001b[0;34m:\u001b[0m\u001b[0;34m\u001b[0m\u001b[0;34m\u001b[0m\u001b[0m\n",
      "\u001b[0;32m~/anaconda3/lib/python3.9/site-packages/pandas/io/parsers/readers.py\u001b[0m in \u001b[0;36m__init__\u001b[0;34m(self, f, engine, **kwds)\u001b[0m\n\u001b[1;32m    930\u001b[0m \u001b[0;34m\u001b[0m\u001b[0m\n\u001b[1;32m    931\u001b[0m         \u001b[0mself\u001b[0m\u001b[0;34m.\u001b[0m\u001b[0mhandles\u001b[0m\u001b[0;34m:\u001b[0m \u001b[0mIOHandles\u001b[0m \u001b[0;34m|\u001b[0m \u001b[0;32mNone\u001b[0m \u001b[0;34m=\u001b[0m \u001b[0;32mNone\u001b[0m\u001b[0;34m\u001b[0m\u001b[0;34m\u001b[0m\u001b[0m\n\u001b[0;32m--> 932\u001b[0;31m         \u001b[0mself\u001b[0m\u001b[0;34m.\u001b[0m\u001b[0m_engine\u001b[0m \u001b[0;34m=\u001b[0m \u001b[0mself\u001b[0m\u001b[0;34m.\u001b[0m\u001b[0m_make_engine\u001b[0m\u001b[0;34m(\u001b[0m\u001b[0mf\u001b[0m\u001b[0;34m,\u001b[0m \u001b[0mself\u001b[0m\u001b[0;34m.\u001b[0m\u001b[0mengine\u001b[0m\u001b[0;34m)\u001b[0m\u001b[0;34m\u001b[0m\u001b[0;34m\u001b[0m\u001b[0m\n\u001b[0m\u001b[1;32m    933\u001b[0m \u001b[0;34m\u001b[0m\u001b[0m\n\u001b[1;32m    934\u001b[0m     \u001b[0;32mdef\u001b[0m \u001b[0mclose\u001b[0m\u001b[0;34m(\u001b[0m\u001b[0mself\u001b[0m\u001b[0;34m)\u001b[0m\u001b[0;34m:\u001b[0m\u001b[0;34m\u001b[0m\u001b[0;34m\u001b[0m\u001b[0m\n",
      "\u001b[0;32m~/anaconda3/lib/python3.9/site-packages/pandas/io/parsers/readers.py\u001b[0m in \u001b[0;36m_make_engine\u001b[0;34m(self, f, engine)\u001b[0m\n\u001b[1;32m   1214\u001b[0m             \u001b[0;31m# \"Union[str, PathLike[str], ReadCsvBuffer[bytes], ReadCsvBuffer[str]]\"\u001b[0m\u001b[0;34m\u001b[0m\u001b[0;34m\u001b[0m\u001b[0m\n\u001b[1;32m   1215\u001b[0m             \u001b[0;31m# , \"str\", \"bool\", \"Any\", \"Any\", \"Any\", \"Any\", \"Any\"\u001b[0m\u001b[0;34m\u001b[0m\u001b[0;34m\u001b[0m\u001b[0m\n\u001b[0;32m-> 1216\u001b[0;31m             self.handles = get_handle(  # type: ignore[call-overload]\n\u001b[0m\u001b[1;32m   1217\u001b[0m                 \u001b[0mf\u001b[0m\u001b[0;34m,\u001b[0m\u001b[0;34m\u001b[0m\u001b[0;34m\u001b[0m\u001b[0m\n\u001b[1;32m   1218\u001b[0m                 \u001b[0mmode\u001b[0m\u001b[0;34m,\u001b[0m\u001b[0;34m\u001b[0m\u001b[0;34m\u001b[0m\u001b[0m\n",
      "\u001b[0;32m~/anaconda3/lib/python3.9/site-packages/pandas/io/common.py\u001b[0m in \u001b[0;36mget_handle\u001b[0;34m(path_or_buf, mode, encoding, compression, memory_map, is_text, errors, storage_options)\u001b[0m\n\u001b[1;32m    784\u001b[0m         \u001b[0;32mif\u001b[0m \u001b[0mioargs\u001b[0m\u001b[0;34m.\u001b[0m\u001b[0mencoding\u001b[0m \u001b[0;32mand\u001b[0m \u001b[0;34m\"b\"\u001b[0m \u001b[0;32mnot\u001b[0m \u001b[0;32min\u001b[0m \u001b[0mioargs\u001b[0m\u001b[0;34m.\u001b[0m\u001b[0mmode\u001b[0m\u001b[0;34m:\u001b[0m\u001b[0;34m\u001b[0m\u001b[0;34m\u001b[0m\u001b[0m\n\u001b[1;32m    785\u001b[0m             \u001b[0;31m# Encoding\u001b[0m\u001b[0;34m\u001b[0m\u001b[0;34m\u001b[0m\u001b[0m\n\u001b[0;32m--> 786\u001b[0;31m             handle = open(\n\u001b[0m\u001b[1;32m    787\u001b[0m                 \u001b[0mhandle\u001b[0m\u001b[0;34m,\u001b[0m\u001b[0;34m\u001b[0m\u001b[0;34m\u001b[0m\u001b[0m\n\u001b[1;32m    788\u001b[0m                 \u001b[0mioargs\u001b[0m\u001b[0;34m.\u001b[0m\u001b[0mmode\u001b[0m\u001b[0;34m,\u001b[0m\u001b[0;34m\u001b[0m\u001b[0;34m\u001b[0m\u001b[0m\n",
      "\u001b[0;31mFileNotFoundError\u001b[0m: [Errno 2] No such file or directory: '/scratch/znazari/matrix_g/new_jobs_counts_ir2/final_data_count/bl_matrix_counts_ir2.txt'"
     ]
    }
   ],
   "source": [
    "bl_matrix=pd.read_csv(path_data/\"bl_matrix_counts_ir2.txt\", header=None, low_memory=False)\n"
   ]
  },
  {
   "cell_type": "markdown",
   "id": "64d6c756",
   "metadata": {},
   "source": [
    "We resolve some problem that we have encoutered for reading the file"
   ]
  },
  {
   "cell_type": "code",
   "execution_count": null,
   "id": "18fdfc83",
   "metadata": {},
   "outputs": [],
   "source": [
    "bl_matrix2=bl_matrix.rename(columns=bl_matrix.iloc[0]).drop(bl_matrix.index[0]).reset_index(drop=True)"
   ]
  },
  {
   "cell_type": "code",
   "execution_count": null,
   "id": "85d9d5ba",
   "metadata": {},
   "outputs": [],
   "source": [
    "bl_matrix2['Geneid']"
   ]
  },
  {
   "cell_type": "markdown",
   "id": "1ac3d84d",
   "metadata": {},
   "source": [
    "Then we read the list of pateint that we have which is big and their diagnosis is not necessary available in the diagnosis matrix."
   ]
  },
  {
   "cell_type": "code",
   "execution_count": null,
   "id": "7ce1d487",
   "metadata": {},
   "outputs": [],
   "source": [
    "path1=Path(\"/scratch/znazari/PPMI_ver_sep2022/RNA_Seq_data/star_ir2/counts/\")"
   ]
  },
  {
   "cell_type": "code",
   "execution_count": null,
   "id": "e9df85c2",
   "metadata": {},
   "outputs": [],
   "source": [
    "bl_files=pd.read_csv(path1/\"bl.txt\", header=None )"
   ]
  },
  {
   "cell_type": "code",
   "execution_count": null,
   "id": "50be6b5a",
   "metadata": {},
   "outputs": [],
   "source": [
    "def function_names(fname):\n",
    "    tokens=fname.split('.')\n",
    "    return tokens[1]"
   ]
  },
  {
   "cell_type": "markdown",
   "id": "e2edfa73",
   "metadata": {},
   "source": [
    "Below we will have the list of the patient IDs that are still larger than what is supposed to be."
   ]
  },
  {
   "cell_type": "code",
   "execution_count": null,
   "id": "897259c0",
   "metadata": {},
   "outputs": [],
   "source": [
    "bl_list=[]\n",
    "for i in range(len(bl_files)):\n",
    "    bl_list=bl_list+[function_names(bl_files.iloc[i][0])]"
   ]
  },
  {
   "cell_type": "markdown",
   "id": "6627b6e4",
   "metadata": {},
   "source": [
    "Below we ar going to have all the patients that we have their IDs and diagnosis."
   ]
  },
  {
   "cell_type": "code",
   "execution_count": null,
   "id": "54381093",
   "metadata": {},
   "outputs": [],
   "source": [
    "patient_diagonises=final1[['PATNO','COHORT_DEFINITION']]\n",
    "patient_diagonises"
   ]
  },
  {
   "cell_type": "code",
   "execution_count": null,
   "id": "fca8bab7",
   "metadata": {},
   "outputs": [],
   "source": [
    "big_patients=list(patient_diagonises['PATNO'])\n",
    "len(big_patients)"
   ]
  },
  {
   "cell_type": "markdown",
   "id": "b6d09fd2",
   "metadata": {},
   "source": [
    "Below we are going to check how many of those patients that we initially get from the files of the RNA-seq are actually have their diagnosis in the big list of patients with their diagnosis."
   ]
  },
  {
   "cell_type": "code",
   "execution_count": null,
   "id": "3dcd000a",
   "metadata": {},
   "outputs": [],
   "source": [
    "contains=[]\n",
    "not_contains=[]\n",
    "for i in bl_list:\n",
    "    if i in big_patients:\n",
    "        contains+=[i]\n",
    "    else:\n",
    "        not_contains+=[i]"
   ]
  },
  {
   "cell_type": "markdown",
   "id": "562a62ec",
   "metadata": {},
   "source": [
    "Below we neet to get all the patient IDs which are represented as \"string\" to be presented as type integer, as it was for the list that we had in the orginal RNA-seq matrices."
   ]
  },
  {
   "cell_type": "code",
   "execution_count": null,
   "id": "bae59df6",
   "metadata": {},
   "outputs": [],
   "source": [
    "r_contains=[int(x) for x in contains]"
   ]
  },
  {
   "cell_type": "markdown",
   "id": "ec5d5ef8",
   "metadata": {},
   "source": [
    "Below we just extract the list of patients that are in the big original diagnosis matrix."
   ]
  },
  {
   "cell_type": "code",
   "execution_count": null,
   "id": "dec70ac7",
   "metadata": {},
   "outputs": [],
   "source": [
    "bl_matrix3=bl_matrix2[r_contains]"
   ]
  },
  {
   "cell_type": "markdown",
   "id": "44976e35",
   "metadata": {},
   "source": [
    "Below we need to replace the geneID column that were missing previously."
   ]
  },
  {
   "cell_type": "code",
   "execution_count": null,
   "id": "e2bfa366",
   "metadata": {},
   "outputs": [],
   "source": [
    "bl_matrix3.insert(loc=0, column ='Geneid',value = bl_matrix2['Geneid'])"
   ]
  },
  {
   "cell_type": "code",
   "execution_count": null,
   "id": "7d1a29ef",
   "metadata": {},
   "outputs": [],
   "source": [
    "bl_matrix3.head(20)\n"
   ]
  },
  {
   "cell_type": "code",
   "execution_count": null,
   "id": "1366b23e",
   "metadata": {},
   "outputs": [],
   "source": [
    "len(bl_matrix3)"
   ]
  },
  {
   "cell_type": "code",
   "execution_count": null,
   "id": "8e725db0",
   "metadata": {},
   "outputs": [],
   "source": [
    "def f_names(fname):\n",
    "    tokens=fname.split('.')\n",
    "    return tokens[0]"
   ]
  },
  {
   "cell_type": "code",
   "execution_count": null,
   "id": "47bfce77",
   "metadata": {},
   "outputs": [],
   "source": [
    "%%time\n",
    "#enhanced =D\n",
    "for i in range(len(bl_matrix3)):\n",
    "    x_x=bl_matrix3.loc[i,\"Geneid\"]\n",
    "    j_j=x_x.split('.')\n",
    "    y_y=j_j[0]\n",
    "    bl_matrix3.loc[i, 'Geneid']=y_y\n",
    "bl_matrix3    \n"
   ]
  },
  {
   "cell_type": "markdown",
   "id": "c72c4ca3",
   "metadata": {},
   "source": [
    "#  filter the data with only choosing the protein coding+IncRNA genes \n",
    "Ivan Arisi kindly sent the file"
   ]
  },
  {
   "cell_type": "code",
   "execution_count": null,
   "id": "a2c37e1d",
   "metadata": {},
   "outputs": [],
   "source": [
    "path_i=Path(\"/home/znazari/ppmi_files/\")\n",
    "\n",
    "protein_ivan=pd.read_csv(path_i/\"HUGO_protein_coding_genes_plus_high_confidence_lncRNA.txt\",sep='\\t', header=None)\n",
    "protein_ivan.columns = [\"Ensembl gene ID\"]\n",
    "protein_ivan"
   ]
  },
  {
   "cell_type": "raw",
   "id": "16cbf69b",
   "metadata": {},
   "source": [
    "list(protein_ivan.loc[:,'Ensembl gene ID'])"
   ]
  },
  {
   "cell_type": "raw",
   "id": "ed8f57fe",
   "metadata": {},
   "source": [
    "%%time\n",
    "bb_=bl_matrix3.copy()\n",
    "for i in range(4, 14):\n",
    "    bb_.drop(i, inplace=True)\n",
    "\n",
    "# using drop function is super slow.\n"
   ]
  },
  {
   "cell_type": "raw",
   "id": "94b38157",
   "metadata": {},
   "source": [
    "%%time\n",
    "indices=[]\n",
    "cb_=bl_matrix3.copy()\n",
    "for i in range(4, 14):\n",
    "    indices+=[i]\n",
    "indices    \n",
    "df1 = cb_[~cb_.index.isin(indices)].copy()\n",
    "df1\n",
    "# istead the above piece of code is way better."
   ]
  },
  {
   "cell_type": "raw",
   "id": "18141483",
   "metadata": {},
   "source": [
    "%%time\n",
    "container=[]\n",
    "cpy_bl=bl_matrix3.copy()\n",
    "for i in range(len(cpy_bl)):\n",
    "    if cpy_bl.loc[i,\"Geneid\"] in list(protein_ivan.loc[:,'Ensembl gene ID']):\n",
    "        container += [cpy_bl.loc[i,\"Geneid\"]]\n",
    "        cpy_bl.drop(i, inplace=True)\n",
    "        \n",
    "       \n",
    "len(container)        "
   ]
  },
  {
   "cell_type": "markdown",
   "id": "bcfbd968",
   "metadata": {},
   "source": [
    "Below we try to find the indices of the genes that are actually in the protein coding genes file\n",
    "we also get the container which contains those geneIDs < this is not necessary though."
   ]
  },
  {
   "cell_type": "code",
   "execution_count": null,
   "id": "71ef93d6",
   "metadata": {},
   "outputs": [],
   "source": [
    "%%time\n",
    "container=[]\n",
    "cpy_bl=bl_matrix3.copy()\n",
    "lis_=[]\n",
    "for i in range(len(cpy_bl)):\n",
    "    if cpy_bl.loc[i,\"Geneid\"] in list(protein_ivan.loc[:,'Ensembl gene ID']):\n",
    "        lis_+=[i]\n",
    "        container += [cpy_bl.loc[i,\"Geneid\"]]        \n",
    "       \n",
    "len(container)"
   ]
  },
  {
   "cell_type": "code",
   "execution_count": null,
   "id": "032151cf",
   "metadata": {
    "scrolled": false
   },
   "outputs": [],
   "source": [
    "# we then try to figute out what indices of the genes IDs need to be dropped by subtracting the lists\n",
    "large_lis=list(range(0,57820))\n",
    "res=list(set(large_lis)-set(lis_))\n",
    "res;"
   ]
  },
  {
   "cell_type": "code",
   "execution_count": null,
   "id": "d9599e92",
   "metadata": {},
   "outputs": [],
   "source": [
    "# here we check if it did it correctly:\n",
    "len(large_lis)-len(res)"
   ]
  },
  {
   "cell_type": "markdown",
   "id": "c5482b30",
   "metadata": {},
   "source": [
    "Below we drop the gene IDs based on their indices that we figuered out previously and it is SUPER FAST."
   ]
  },
  {
   "cell_type": "code",
   "execution_count": null,
   "id": "2227ce1a",
   "metadata": {},
   "outputs": [],
   "source": [
    "%%time\n",
    "df_matrix3 = cpy_bl[~cpy_bl.index.isin(res)].copy()\n"
   ]
  },
  {
   "cell_type": "code",
   "execution_count": null,
   "id": "aa23d792",
   "metadata": {},
   "outputs": [],
   "source": [
    "b_df_matrix3=df_matrix3.copy()\n",
    "b_df_matrix3.reset_index(drop=True, inplace=True)\n",
    "b_df_matrix3"
   ]
  },
  {
   "cell_type": "markdown",
   "id": "e9a8e48c",
   "metadata": {},
   "source": [
    "Finally we write the result into a txt file."
   ]
  },
  {
   "cell_type": "code",
   "execution_count": null,
   "id": "7a7848d5",
   "metadata": {},
   "outputs": [],
   "source": [
    "path_data=Path(\"/scratch/znazari/matrix_generation/new_jobs_counts_ir2/final_data_count/\")"
   ]
  },
  {
   "cell_type": "code",
   "execution_count": null,
   "id": "c8a24c55",
   "metadata": {},
   "outputs": [],
   "source": [
    "b_df_matrix3.to_csv(path_data/\"p_ordered_bl_matrix_ir2_count.txt\")"
   ]
  },
  {
   "cell_type": "code",
   "execution_count": null,
   "id": "36b505d3",
   "metadata": {},
   "outputs": [],
   "source": [
    "ml_path=Path(\"/home/znazari/machine_learning_ppmi\")\n",
    "b_df_matrix3.to_csv(ml_path/\"p_ordered_bl_matrix_ir2_count.txt\")\n"
   ]
  }
 ],
 "metadata": {
  "kernelspec": {
   "display_name": "Python 3",
   "language": "python",
   "name": "python3"
  },
  "language_info": {
   "codemirror_mode": {
    "name": "ipython",
    "version": 3
   },
   "file_extension": ".py",
   "mimetype": "text/x-python",
   "name": "python",
   "nbconvert_exporter": "python",
   "pygments_lexer": "ipython3",
   "version": "3.9.13"
  }
 },
 "nbformat": 4,
 "nbformat_minor": 5
}
