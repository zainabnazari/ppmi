{
 "cells": [
  {
   "cell_type": "markdown",
   "id": "56d184cd",
   "metadata": {},
   "source": [
    "# IR3 Last column (counts) of the patients for the BL visit."
   ]
  },
  {
   "cell_type": "code",
   "execution_count": 2,
   "id": "5c7b8ba7",
   "metadata": {},
   "outputs": [],
   "source": [
    "import pandas as pd\n",
    "import numpy as np\n",
    "from pathlib import Path\n",
    "import functools"
   ]
  },
  {
   "cell_type": "code",
   "execution_count": 3,
   "id": "a0b7c45d",
   "metadata": {},
   "outputs": [],
   "source": [
    "#!pip install dask[complete];\n",
    "#!pip install --upgrade pandas \"dask[complete]\"\n",
    "#python -m pip install \"dask[dataframe]\" --upgrade"
   ]
  },
  {
   "cell_type": "code",
   "execution_count": 12,
   "id": "4d0856f1",
   "metadata": {},
   "outputs": [],
   "source": [
    "import dask"
   ]
  },
  {
   "cell_type": "code",
   "execution_count": 3,
   "id": "6f321aea",
   "metadata": {},
   "outputs": [],
   "source": [
    "import dask.dataframe as dd"
   ]
  },
  {
   "cell_type": "markdown",
   "id": "50706425",
   "metadata": {},
   "source": [
    " We put the main path to the folder where 'counts' files are there.\n"
   ]
  },
  {
   "cell_type": "code",
   "execution_count": 4,
   "id": "83382e29",
   "metadata": {},
   "outputs": [],
   "source": [
    "path1=Path(\"/scratch/znazari/PPMI_ver_sep2022/RNA_Seq_data/star_ir2/counts/\")"
   ]
  },
  {
   "cell_type": "markdown",
   "id": "3bd556a6",
   "metadata": {},
   "source": [
    " We read the file: in the bl.txt is written the name of all files."
   ]
  },
  {
   "cell_type": "code",
   "execution_count": 5,
   "id": "89bc7b69",
   "metadata": {},
   "outputs": [],
   "source": [
    "bl_files=pd.read_csv(path1/\"bl.txt\", header=None )"
   ]
  },
  {
   "cell_type": "code",
   "execution_count": 6,
   "id": "1ba4c8a3",
   "metadata": {},
   "outputs": [
    {
     "data": {
      "text/html": [
       "<div>\n",
       "<style scoped>\n",
       "    .dataframe tbody tr th:only-of-type {\n",
       "        vertical-align: middle;\n",
       "    }\n",
       "\n",
       "    .dataframe tbody tr th {\n",
       "        vertical-align: top;\n",
       "    }\n",
       "\n",
       "    .dataframe thead th {\n",
       "        text-align: right;\n",
       "    }\n",
       "</style>\n",
       "<table border=\"1\" class=\"dataframe\">\n",
       "  <thead>\n",
       "    <tr style=\"text-align: right;\">\n",
       "      <th></th>\n",
       "      <th>0</th>\n",
       "    </tr>\n",
       "  </thead>\n",
       "  <tbody>\n",
       "    <tr>\n",
       "      <th>0</th>\n",
       "      <td>PPMI-Phase1-IR2.10874.BL.PP0047-6931.5104-SL-0...</td>\n",
       "    </tr>\n",
       "    <tr>\n",
       "      <th>1</th>\n",
       "      <td>PPMI-Phase1-IR2.12499.BL.PP0042-3049.5104-SL-1...</td>\n",
       "    </tr>\n",
       "    <tr>\n",
       "      <th>2</th>\n",
       "      <td>PPMI-Phase1-IR2.12593.BL.0003149216.5104-SL-13...</td>\n",
       "    </tr>\n",
       "    <tr>\n",
       "      <th>3</th>\n",
       "      <td>PPMI-Phase1-IR2.13039.BL.PP0048-8378.5104-SL-1...</td>\n",
       "    </tr>\n",
       "    <tr>\n",
       "      <th>4</th>\n",
       "      <td>PPMI-Phase1-IR2.13424.BL.0003180024.5104-SL-18...</td>\n",
       "    </tr>\n",
       "    <tr>\n",
       "      <th>...</th>\n",
       "      <td>...</td>\n",
       "    </tr>\n",
       "    <tr>\n",
       "      <th>1532</th>\n",
       "      <td>PPMI-Phase2-IR2.65003.BL.0003195560.5104-SL-03...</td>\n",
       "    </tr>\n",
       "    <tr>\n",
       "      <th>1533</th>\n",
       "      <td>PPMI-Phase2-IR2.65005.BL.0003451950.5104-SL-26...</td>\n",
       "    </tr>\n",
       "    <tr>\n",
       "      <th>1534</th>\n",
       "      <td>PPMI-Phase2-IR2.65008.BL.PP0041-9827.5104-SL-2...</td>\n",
       "    </tr>\n",
       "    <tr>\n",
       "      <th>1535</th>\n",
       "      <td>PPMI-Phase2-IR2.70239.BL.0003414527.5104-SL-39...</td>\n",
       "    </tr>\n",
       "    <tr>\n",
       "      <th>1536</th>\n",
       "      <td>PPMI-Phase2-IR2.85242.BL.0000329301.5104-SL-24...</td>\n",
       "    </tr>\n",
       "  </tbody>\n",
       "</table>\n",
       "<p>1537 rows × 1 columns</p>\n",
       "</div>"
      ],
      "text/plain": [
       "                                                      0\n",
       "0     PPMI-Phase1-IR2.10874.BL.PP0047-6931.5104-SL-0...\n",
       "1     PPMI-Phase1-IR2.12499.BL.PP0042-3049.5104-SL-1...\n",
       "2     PPMI-Phase1-IR2.12593.BL.0003149216.5104-SL-13...\n",
       "3     PPMI-Phase1-IR2.13039.BL.PP0048-8378.5104-SL-1...\n",
       "4     PPMI-Phase1-IR2.13424.BL.0003180024.5104-SL-18...\n",
       "...                                                 ...\n",
       "1532  PPMI-Phase2-IR2.65003.BL.0003195560.5104-SL-03...\n",
       "1533  PPMI-Phase2-IR2.65005.BL.0003451950.5104-SL-26...\n",
       "1534  PPMI-Phase2-IR2.65008.BL.PP0041-9827.5104-SL-2...\n",
       "1535  PPMI-Phase2-IR2.70239.BL.0003414527.5104-SL-39...\n",
       "1536  PPMI-Phase2-IR2.85242.BL.0000329301.5104-SL-24...\n",
       "\n",
       "[1537 rows x 1 columns]"
      ]
     },
     "execution_count": 6,
     "metadata": {},
     "output_type": "execute_result"
    }
   ],
   "source": [
    "bl_files.iloc[:,-1:]"
   ]
  },
  {
   "cell_type": "code",
   "execution_count": 5,
   "id": "84dd2250",
   "metadata": {},
   "outputs": [
    {
     "data": {
      "text/plain": [
       "1537"
      ]
     },
     "execution_count": 5,
     "metadata": {},
     "output_type": "execute_result"
    }
   ],
   "source": [
    "len(bl_files)"
   ]
  },
  {
   "cell_type": "markdown",
   "id": "3a5ba2ce",
   "metadata": {},
   "source": [
    " here we go through all file names and extract their patient IDs and put into a list\n",
    " So here we have the list of patient IDs for those whom they have put the data for their base visit"
   ]
  },
  {
   "cell_type": "code",
   "execution_count": 8,
   "id": "702c927c",
   "metadata": {},
   "outputs": [],
   "source": [
    "bl_list=[]\n",
    "for i in range(len(bl_files)):\n",
    "    bl_list=bl_list+[function_names(bl_files.iloc[i][0])]"
   ]
  },
  {
   "cell_type": "markdown",
   "id": "31fb54cc",
   "metadata": {},
   "source": [
    " here we read all the files with with base visit from the count folder where we have all the files\n",
    " for all the patients and all the visit.\n",
    " here we have a list of all files with base visit."
   ]
  },
  {
   "cell_type": "code",
   "execution_count": 9,
   "id": "19bcdca0",
   "metadata": {},
   "outputs": [
    {
     "name": "stdout",
     "output_type": "stream",
     "text": [
      "CPU times: user 15.9 s, sys: 10.8 s, total: 26.7 s\n",
      "Wall time: 2min 16s\n"
     ]
    }
   ],
   "source": [
    "%%time\n",
    "list_bl_files=[]\n",
    "for i in range(len(bl_files)):\n",
    "    list_bl_files=list_bl_files+[dd.read_csv(path1/bl_files.iloc[i][0],skiprows=1,delimiter='\\t')]"
   ]
  },
  {
   "cell_type": "raw",
   "id": "3c5c9ecf",
   "metadata": {
    "scrolled": false
   },
   "source": [
    "%%time\n",
    "dfSave = pd.DataFrame()\n",
    "for i in range(len(bl_files)):\n",
    "    print(i)\n",
    "    df = pd.read_csv(path1/bl_files.iloc[i][0],skiprows=1,delimiter='\\t')\n",
    "    \n",
    "    dfSave[bl_list[i]] = df.iloc[:,-1:]\n",
    "    \n",
    "    \n",
    "    del df\n",
    "    "
   ]
  },
  {
   "cell_type": "code",
   "execution_count": null,
   "id": "1cc9168f",
   "metadata": {},
   "outputs": [],
   "source": []
  },
  {
   "cell_type": "code",
   "execution_count": null,
   "id": "e1449283",
   "metadata": {},
   "outputs": [],
   "source": []
  }
 ],
 "metadata": {
  "kernelspec": {
   "display_name": "Python 3",
   "language": "python",
   "name": "python3"
  },
  "language_info": {
   "codemirror_mode": {
    "name": "ipython",
    "version": 3
   },
   "file_extension": ".py",
   "mimetype": "text/x-python",
   "name": "python",
   "nbconvert_exporter": "python",
   "pygments_lexer": "ipython3",
   "version": "3.9.13"
  }
 },
 "nbformat": 4,
 "nbformat_minor": 5
}
