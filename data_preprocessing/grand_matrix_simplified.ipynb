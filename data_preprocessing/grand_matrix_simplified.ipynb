{
 "cells": [
  {
   "cell_type": "markdown",
   "id": "56d184cd",
   "metadata": {},
   "source": [
    "# IR3 Last column (counts) of the patients for the BL visit."
   ]
  },
  {
   "cell_type": "code",
   "execution_count": 44,
   "id": "5c7b8ba7",
   "metadata": {},
   "outputs": [],
   "source": [
    "import pandas as pd\n",
    "import numpy as np\n",
    "import dask.dataframe as dd\n",
    "import glob\n",
    "import functools"
   ]
  },
  {
   "cell_type": "code",
   "execution_count": 3,
   "id": "a0b7c45d",
   "metadata": {},
   "outputs": [],
   "source": [
    "#!pip install dask[complete];\n",
    "#!pip install --upgrade pandas \"dask[complete]\"\n",
    "#python -m pip install \"dask[dataframe]\" --upgrade"
   ]
  },
  {
   "cell_type": "code",
   "execution_count": 60,
   "id": "83382e29",
   "metadata": {},
   "outputs": [],
   "source": [
    "path_to_files=\"/scratch/znazari/PPMI_ver_sep2022/RNA_Seq_data/star_ir3/counts/\""
   ]
  },
  {
   "cell_type": "code",
   "execution_count": 72,
   "id": "f75ff5e6",
   "metadata": {},
   "outputs": [],
   "source": [
    "#reading the files which are in BL (Base line) visit.\n",
    "specific_word = 'BL'\n",
    "ending_pattern = '*.txt'\n",
    "file_pattern = f'*{specific_word}*.{ending_pattern}'\n",
    "file_paths = glob.glob(path_to_files + file_pattern)"
   ]
  },
  {
   "cell_type": "code",
   "execution_count": 77,
   "id": "970db9d0",
   "metadata": {
    "scrolled": true
   },
   "outputs": [
    {
     "name": "stdout",
     "output_type": "stream",
     "text": [
      "CPU times: user 263 ms, sys: 136 ms, total: 399 ms\n",
      "Wall time: 764 ms\n"
     ]
    }
   ],
   "source": [
    "%%time\n",
    "dask_files = dd.read_csv(file_paths,skiprows=1,delimiter='\\t')"
   ]
  },
  {
   "cell_type": "raw",
   "id": "bb842c26",
   "metadata": {
    "scrolled": false
   },
   "source": [
    "%%time\n",
    "dfSave = pd.DataFrame()\n",
    "for i in range(len(bl_files)):\n",
    "    print(i)\n",
    "    df = pd.read_csv(path1/bl_files.iloc[i][0],skiprows=1,delimiter='\\t')\n",
    "    \n",
    "    dfSave[bl_list[i]] = df.iloc[:,-1:]\n",
    "    \n",
    "    \n",
    "    del df\n",
    "    "
   ]
  },
  {
   "cell_type": "code",
   "execution_count": null,
   "id": "1cc9168f",
   "metadata": {},
   "outputs": [],
   "source": []
  },
  {
   "cell_type": "code",
   "execution_count": null,
   "id": "e1449283",
   "metadata": {},
   "outputs": [],
   "source": []
  }
 ],
 "metadata": {
  "kernelspec": {
   "display_name": "Python 3",
   "language": "python",
   "name": "python3"
  },
  "language_info": {
   "codemirror_mode": {
    "name": "ipython",
    "version": 3
   },
   "file_extension": ".py",
   "mimetype": "text/x-python",
   "name": "python",
   "nbconvert_exporter": "python",
   "pygments_lexer": "ipython3",
   "version": "3.9.13"
  }
 },
 "nbformat": 4,
 "nbformat_minor": 5
}
