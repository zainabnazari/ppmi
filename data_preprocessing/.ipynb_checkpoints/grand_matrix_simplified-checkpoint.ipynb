{
 "cells": [
  {
   "cell_type": "markdown",
   "id": "56d184cd",
   "metadata": {},
   "source": [
    "# IR3 Last column (counts) of the patients for the BL visit."
   ]
  },
  {
   "cell_type": "code",
   "execution_count": 29,
   "id": "5c7b8ba7",
   "metadata": {},
   "outputs": [],
   "source": [
    "import pandas as pd\n",
    "import numpy as np\n",
    "import dask.dataframe as dd\n",
    "import os\n",
    "import glob\n",
    "import functools"
   ]
  },
  {
   "cell_type": "code",
   "execution_count": 3,
   "id": "a0b7c45d",
   "metadata": {},
   "outputs": [],
   "source": [
    "#!pip install dask[complete];\n",
    "#!pip install --upgrade pandas \"dask[complete]\"\n",
    "#python -m pip install \"dask[dataframe]\" --upgrade"
   ]
  },
  {
   "cell_type": "code",
   "execution_count": 2,
   "id": "83382e29",
   "metadata": {},
   "outputs": [],
   "source": [
    "path_to_files=\"/scratch/znazari/PPMI_ver_sep2022/RNA_Seq_data/star_ir3/counts/\""
   ]
  },
  {
   "cell_type": "code",
   "execution_count": 28,
   "id": "f75ff5e6",
   "metadata": {},
   "outputs": [],
   "source": [
    "#reading the files which are in BL (Base line) visit.\n",
    "specific_word = 'BL'\n",
    "ending_pattern = '*.txt'\n",
    "file_pattern = f'*{specific_word}*.{ending_pattern}'\n",
    "file_paths = glob.glob(path_to_files + file_pattern)"
   ]
  },
  {
   "cell_type": "code",
   "execution_count": 32,
   "id": "92dec9d1",
   "metadata": {},
   "outputs": [
    {
     "data": {
      "text/html": [
       "<div>\n",
       "<style scoped>\n",
       "    .dataframe tbody tr th:only-of-type {\n",
       "        vertical-align: middle;\n",
       "    }\n",
       "\n",
       "    .dataframe tbody tr th {\n",
       "        vertical-align: top;\n",
       "    }\n",
       "\n",
       "    .dataframe thead th {\n",
       "        text-align: right;\n",
       "    }\n",
       "</style>\n",
       "<table border=\"1\" class=\"dataframe\">\n",
       "  <thead>\n",
       "    <tr style=\"text-align: right;\">\n",
       "      <th></th>\n",
       "      <th>0</th>\n",
       "    </tr>\n",
       "  </thead>\n",
       "  <tbody>\n",
       "    <tr>\n",
       "      <th>0</th>\n",
       "      <td>PPMI-Phase1-IR3.10874.BL.PP0047-6931.5104-SL-0...</td>\n",
       "    </tr>\n",
       "    <tr>\n",
       "      <th>1</th>\n",
       "      <td>PPMI-Phase1-IR3.12499.BL.PP0042-3049.5104-SL-1...</td>\n",
       "    </tr>\n",
       "    <tr>\n",
       "      <th>2</th>\n",
       "      <td>PPMI-Phase1-IR3.12593.BL.0003149216.5104-SL-13...</td>\n",
       "    </tr>\n",
       "    <tr>\n",
       "      <th>3</th>\n",
       "      <td>PPMI-Phase1-IR3.13039.BL.PP0048-8378.5104-SL-1...</td>\n",
       "    </tr>\n",
       "    <tr>\n",
       "      <th>4</th>\n",
       "      <td>PPMI-Phase1-IR3.13424.BL.0003180024.5104-SL-18...</td>\n",
       "    </tr>\n",
       "    <tr>\n",
       "      <th>...</th>\n",
       "      <td>...</td>\n",
       "    </tr>\n",
       "    <tr>\n",
       "      <th>1525</th>\n",
       "      <td>PPMI-Phase2-IR3.65003.BL.0003195560.5104-SL-03...</td>\n",
       "    </tr>\n",
       "    <tr>\n",
       "      <th>1526</th>\n",
       "      <td>PPMI-Phase2-IR3.65005.BL.0003451950.5104-SL-26...</td>\n",
       "    </tr>\n",
       "    <tr>\n",
       "      <th>1527</th>\n",
       "      <td>PPMI-Phase2-IR3.65008.BL.PP0041-9827.5104-SL-2...</td>\n",
       "    </tr>\n",
       "    <tr>\n",
       "      <th>1528</th>\n",
       "      <td>PPMI-Phase2-IR3.70239.BL.0003414527.5104-SL-39...</td>\n",
       "    </tr>\n",
       "    <tr>\n",
       "      <th>1529</th>\n",
       "      <td>PPMI-Phase2-IR3.85242.BL.0000329301.5104-SL-24...</td>\n",
       "    </tr>\n",
       "  </tbody>\n",
       "</table>\n",
       "<p>1530 rows × 1 columns</p>\n",
       "</div>"
      ],
      "text/plain": [
       "                                                      0\n",
       "0     PPMI-Phase1-IR3.10874.BL.PP0047-6931.5104-SL-0...\n",
       "1     PPMI-Phase1-IR3.12499.BL.PP0042-3049.5104-SL-1...\n",
       "2     PPMI-Phase1-IR3.12593.BL.0003149216.5104-SL-13...\n",
       "3     PPMI-Phase1-IR3.13039.BL.PP0048-8378.5104-SL-1...\n",
       "4     PPMI-Phase1-IR3.13424.BL.0003180024.5104-SL-18...\n",
       "...                                                 ...\n",
       "1525  PPMI-Phase2-IR3.65003.BL.0003195560.5104-SL-03...\n",
       "1526  PPMI-Phase2-IR3.65005.BL.0003451950.5104-SL-26...\n",
       "1527  PPMI-Phase2-IR3.65008.BL.PP0041-9827.5104-SL-2...\n",
       "1528  PPMI-Phase2-IR3.70239.BL.0003414527.5104-SL-39...\n",
       "1529  PPMI-Phase2-IR3.85242.BL.0000329301.5104-SL-24...\n",
       "\n",
       "[1530 rows x 1 columns]"
      ]
     },
     "execution_count": 32,
     "metadata": {},
     "output_type": "execute_result"
    }
   ],
   "source": [
    "filename = 'bl.txt'\n",
    "file_path_2 = os.path.join(path_to_files, filename)\n",
    "bl_files = pd.read_csv(file_path_2,header=None)\n",
    "bl_files"
   ]
  },
  {
   "cell_type": "code",
   "execution_count": 33,
   "id": "d01cd3c8",
   "metadata": {},
   "outputs": [],
   "source": [
    "# We define a function where we can take the second phrase seperated by dot. The second phrase \n",
    "# is the patient ID. So with this functin we want to get the patient IDs from their file's name\n",
    "def function_names(fname):\n",
    "    tokens=fname.split('.')\n",
    "    return tokens[1]"
   ]
  },
  {
   "cell_type": "code",
   "execution_count": 36,
   "id": "fbc248ea",
   "metadata": {},
   "outputs": [],
   "source": [
    "bl_list=[]\n",
    "for i in range(len(bl_files)):\n",
    "    bl_list=bl_list+[function_names(bl_files.iloc[i][0])]\n",
    "    \n",
    "bl_list;"
   ]
  },
  {
   "cell_type": "code",
   "execution_count": 4,
   "id": "970db9d0",
   "metadata": {
    "scrolled": true
   },
   "outputs": [
    {
     "name": "stdout",
     "output_type": "stream",
     "text": [
      "CPU times: user 411 ms, sys: 504 ms, total: 915 ms\n",
      "Wall time: 18.9 s\n"
     ]
    }
   ],
   "source": [
    "%%time\n",
    "dask_files = dd.read_csv(file_paths,skiprows=1,delimiter='\\t')"
   ]
  },
  {
   "cell_type": "code",
   "execution_count": 15,
   "id": "3fe511df",
   "metadata": {},
   "outputs": [
    {
     "data": {
      "text/plain": [
       "dask.dataframe.core.DataFrame"
      ]
     },
     "execution_count": 15,
     "metadata": {},
     "output_type": "execute_result"
    }
   ],
   "source": [
    "type(dask_files)"
   ]
  },
  {
   "cell_type": "code",
   "execution_count": 22,
   "id": "32383781",
   "metadata": {},
   "outputs": [
    {
     "data": {
      "text/html": [
       "<div><strong>Dask DataFrame Structure:</strong></div>\n",
       "<div>\n",
       "<style scoped>\n",
       "    .dataframe tbody tr th:only-of-type {\n",
       "        vertical-align: middle;\n",
       "    }\n",
       "\n",
       "    .dataframe tbody tr th {\n",
       "        vertical-align: top;\n",
       "    }\n",
       "\n",
       "    .dataframe thead th {\n",
       "        text-align: right;\n",
       "    }\n",
       "</style>\n",
       "<table border=\"1\" class=\"dataframe\">\n",
       "  <thead>\n",
       "    <tr style=\"text-align: right;\">\n",
       "      <th></th>\n",
       "      <th>/home/dtg-scratch-01/Projects/PPMI/working/starB38/symLinks/phase1/PPMI-Phase1-IR1.3385.BL.0003288237.5104-SL-0092.Aligned.out.sorted.bam</th>\n",
       "    </tr>\n",
       "    <tr>\n",
       "      <th>npartitions=1530</th>\n",
       "      <th></th>\n",
       "    </tr>\n",
       "  </thead>\n",
       "  <tbody>\n",
       "    <tr>\n",
       "      <th></th>\n",
       "      <td>int64</td>\n",
       "    </tr>\n",
       "    <tr>\n",
       "      <th></th>\n",
       "      <td>...</td>\n",
       "    </tr>\n",
       "    <tr>\n",
       "      <th>...</th>\n",
       "      <td>...</td>\n",
       "    </tr>\n",
       "    <tr>\n",
       "      <th></th>\n",
       "      <td>...</td>\n",
       "    </tr>\n",
       "    <tr>\n",
       "      <th></th>\n",
       "      <td>...</td>\n",
       "    </tr>\n",
       "  </tbody>\n",
       "</table>\n",
       "</div>\n",
       "<div>Dask Name: getitem, 2 graph layers</div>"
      ],
      "text/plain": [
       "Dask DataFrame Structure:\n",
       "                 /home/dtg-scratch-01/Projects/PPMI/working/starB38/symLinks/phase1/PPMI-Phase1-IR1.3385.BL.0003288237.5104-SL-0092.Aligned.out.sorted.bam\n",
       "npartitions=1530                                                                                                                                          \n",
       "                                                                                                                                                     int64\n",
       "                                                                                                                                                       ...\n",
       "...                                                                                                                                                    ...\n",
       "                                                                                                                                                       ...\n",
       "                                                                                                                                                       ...\n",
       "Dask Name: getitem, 2 graph layers"
      ]
     },
     "execution_count": 22,
     "metadata": {},
     "output_type": "execute_result"
    }
   ],
   "source": [
    "last_columns = dask_files.iloc[:, -1:]\n",
    "type(last_columns)\n",
    "last_columns"
   ]
  },
  {
   "cell_type": "raw",
   "id": "5c8ec785",
   "metadata": {
    "scrolled": false
   },
   "source": [
    "%%time\n",
    "dfSave = pd.DataFrame()\n",
    "for i in range(len(bl_files)):\n",
    "    print(i)\n",
    "    df = pd.read_csv(path1/bl_files.iloc[i][0],skiprows=1,delimiter='\\t')\n",
    "    \n",
    "    dfSave[bl_list[i]] = df.iloc[:,-1:]\n",
    "    \n",
    "    \n",
    "    del df\n",
    "    "
   ]
  },
  {
   "cell_type": "code",
   "execution_count": null,
   "id": "1cc9168f",
   "metadata": {},
   "outputs": [],
   "source": [
    "%%time\n",
    "dfSave = pd.DataFrame()\n",
    "for i in range(len(bl_files)):\n",
    "    print(i)\n",
    "    ddf = dd.read_csv(path1/bl_files.iloc[i][0],skiprows=1,delimiter='\\t')\n",
    "    \n",
    "    dfSave[bl_list[i]] = df.iloc[:,-1:]\n",
    "    \n",
    "    \n",
    "    del df"
   ]
  },
  {
   "cell_type": "code",
   "execution_count": null,
   "id": "e1449283",
   "metadata": {},
   "outputs": [],
   "source": []
  }
 ],
 "metadata": {
  "kernelspec": {
   "display_name": "Python 3",
   "language": "python",
   "name": "python3"
  },
  "language_info": {
   "codemirror_mode": {
    "name": "ipython",
    "version": 3
   },
   "file_extension": ".py",
   "mimetype": "text/x-python",
   "name": "python",
   "nbconvert_exporter": "python",
   "pygments_lexer": "ipython3",
   "version": "3.9.13"
  }
 },
 "nbformat": 4,
 "nbformat_minor": 5
}
