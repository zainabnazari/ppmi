{
 "cells": [
  {
   "cell_type": "code",
   "execution_count": 3,
   "id": "5c7b8ba7",
   "metadata": {},
   "outputs": [],
   "source": [
    "import pandas as pd\n",
    "import numpy as np\n",
    "from pathlib import Path\n",
    "import functools"
   ]
  },
  {
   "cell_type": "markdown",
   "id": "a5a7d075",
   "metadata": {},
   "source": [
    "**Checking whether in IR2 counts there are some NaN value in output matrices**"
   ]
  },
  {
   "cell_type": "code",
   "execution_count": 4,
   "id": "630f7398",
   "metadata": {},
   "outputs": [],
   "source": [
    "path1=Path(\"/scratch/znazari/new_jobs_counts_ir2/final_data_count\")"
   ]
  },
  {
   "cell_type": "code",
   "execution_count": 5,
   "id": "1b81b77c",
   "metadata": {},
   "outputs": [
    {
     "ename": "FileNotFoundError",
     "evalue": "[Errno 2] No such file or directory: '/scratch/znazari/new_jobs_counts_ir2/final_data_count/bl_matrix_counts_ir2.txt'",
     "output_type": "error",
     "traceback": [
      "\u001b[0;31m---------------------------------------------------------------------------\u001b[0m",
      "\u001b[0;31mFileNotFoundError\u001b[0m                         Traceback (most recent call last)",
      "\u001b[0;32m/tmp/ipykernel_31438/4003598110.py\u001b[0m in \u001b[0;36m<module>\u001b[0;34m\u001b[0m\n\u001b[0;32m----> 1\u001b[0;31m \u001b[0mresult_count_ir2_lb\u001b[0m\u001b[0;34m=\u001b[0m\u001b[0mpd\u001b[0m\u001b[0;34m.\u001b[0m\u001b[0mread_csv\u001b[0m\u001b[0;34m(\u001b[0m\u001b[0mpath1\u001b[0m\u001b[0;34m/\u001b[0m\u001b[0;34m\"bl_matrix_counts_ir2.txt\"\u001b[0m\u001b[0;34m,\u001b[0m\u001b[0mindex_col\u001b[0m\u001b[0;34m=\u001b[0m\u001b[0;34m[\u001b[0m\u001b[0;36m0\u001b[0m\u001b[0;34m]\u001b[0m\u001b[0;34m)\u001b[0m\u001b[0;34m\u001b[0m\u001b[0;34m\u001b[0m\u001b[0m\n\u001b[0m",
      "\u001b[0;32m~/anaconda3/lib/python3.9/site-packages/pandas/io/parsers/readers.py\u001b[0m in \u001b[0;36mread_csv\u001b[0;34m(filepath_or_buffer, sep, delimiter, header, names, index_col, usecols, dtype, engine, converters, true_values, false_values, skipinitialspace, skiprows, skipfooter, nrows, na_values, keep_default_na, na_filter, verbose, skip_blank_lines, parse_dates, infer_datetime_format, keep_date_col, date_parser, date_format, dayfirst, cache_dates, iterator, chunksize, compression, thousands, decimal, lineterminator, quotechar, quoting, doublequote, escapechar, comment, encoding, encoding_errors, dialect, on_bad_lines, delim_whitespace, low_memory, memory_map, float_precision, storage_options, dtype_backend)\u001b[0m\n\u001b[1;32m    910\u001b[0m     \u001b[0mkwds\u001b[0m\u001b[0;34m.\u001b[0m\u001b[0mupdate\u001b[0m\u001b[0;34m(\u001b[0m\u001b[0mkwds_defaults\u001b[0m\u001b[0;34m)\u001b[0m\u001b[0;34m\u001b[0m\u001b[0;34m\u001b[0m\u001b[0m\n\u001b[1;32m    911\u001b[0m \u001b[0;34m\u001b[0m\u001b[0m\n\u001b[0;32m--> 912\u001b[0;31m     \u001b[0;32mreturn\u001b[0m \u001b[0m_read\u001b[0m\u001b[0;34m(\u001b[0m\u001b[0mfilepath_or_buffer\u001b[0m\u001b[0;34m,\u001b[0m \u001b[0mkwds\u001b[0m\u001b[0;34m)\u001b[0m\u001b[0;34m\u001b[0m\u001b[0;34m\u001b[0m\u001b[0m\n\u001b[0m\u001b[1;32m    913\u001b[0m \u001b[0;34m\u001b[0m\u001b[0m\n\u001b[1;32m    914\u001b[0m \u001b[0;34m\u001b[0m\u001b[0m\n",
      "\u001b[0;32m~/anaconda3/lib/python3.9/site-packages/pandas/io/parsers/readers.py\u001b[0m in \u001b[0;36m_read\u001b[0;34m(filepath_or_buffer, kwds)\u001b[0m\n\u001b[1;32m    575\u001b[0m \u001b[0;34m\u001b[0m\u001b[0m\n\u001b[1;32m    576\u001b[0m     \u001b[0;31m# Create the parser.\u001b[0m\u001b[0;34m\u001b[0m\u001b[0;34m\u001b[0m\u001b[0m\n\u001b[0;32m--> 577\u001b[0;31m     \u001b[0mparser\u001b[0m \u001b[0;34m=\u001b[0m \u001b[0mTextFileReader\u001b[0m\u001b[0;34m(\u001b[0m\u001b[0mfilepath_or_buffer\u001b[0m\u001b[0;34m,\u001b[0m \u001b[0;34m**\u001b[0m\u001b[0mkwds\u001b[0m\u001b[0;34m)\u001b[0m\u001b[0;34m\u001b[0m\u001b[0;34m\u001b[0m\u001b[0m\n\u001b[0m\u001b[1;32m    578\u001b[0m \u001b[0;34m\u001b[0m\u001b[0m\n\u001b[1;32m    579\u001b[0m     \u001b[0;32mif\u001b[0m \u001b[0mchunksize\u001b[0m \u001b[0;32mor\u001b[0m \u001b[0miterator\u001b[0m\u001b[0;34m:\u001b[0m\u001b[0;34m\u001b[0m\u001b[0;34m\u001b[0m\u001b[0m\n",
      "\u001b[0;32m~/anaconda3/lib/python3.9/site-packages/pandas/io/parsers/readers.py\u001b[0m in \u001b[0;36m__init__\u001b[0;34m(self, f, engine, **kwds)\u001b[0m\n\u001b[1;32m   1405\u001b[0m \u001b[0;34m\u001b[0m\u001b[0m\n\u001b[1;32m   1406\u001b[0m         \u001b[0mself\u001b[0m\u001b[0;34m.\u001b[0m\u001b[0mhandles\u001b[0m\u001b[0;34m:\u001b[0m \u001b[0mIOHandles\u001b[0m \u001b[0;34m|\u001b[0m \u001b[0;32mNone\u001b[0m \u001b[0;34m=\u001b[0m \u001b[0;32mNone\u001b[0m\u001b[0;34m\u001b[0m\u001b[0;34m\u001b[0m\u001b[0m\n\u001b[0;32m-> 1407\u001b[0;31m         \u001b[0mself\u001b[0m\u001b[0;34m.\u001b[0m\u001b[0m_engine\u001b[0m \u001b[0;34m=\u001b[0m \u001b[0mself\u001b[0m\u001b[0;34m.\u001b[0m\u001b[0m_make_engine\u001b[0m\u001b[0;34m(\u001b[0m\u001b[0mf\u001b[0m\u001b[0;34m,\u001b[0m \u001b[0mself\u001b[0m\u001b[0;34m.\u001b[0m\u001b[0mengine\u001b[0m\u001b[0;34m)\u001b[0m\u001b[0;34m\u001b[0m\u001b[0;34m\u001b[0m\u001b[0m\n\u001b[0m\u001b[1;32m   1408\u001b[0m \u001b[0;34m\u001b[0m\u001b[0m\n\u001b[1;32m   1409\u001b[0m     \u001b[0;32mdef\u001b[0m \u001b[0mclose\u001b[0m\u001b[0;34m(\u001b[0m\u001b[0mself\u001b[0m\u001b[0;34m)\u001b[0m \u001b[0;34m->\u001b[0m \u001b[0;32mNone\u001b[0m\u001b[0;34m:\u001b[0m\u001b[0;34m\u001b[0m\u001b[0;34m\u001b[0m\u001b[0m\n",
      "\u001b[0;32m~/anaconda3/lib/python3.9/site-packages/pandas/io/parsers/readers.py\u001b[0m in \u001b[0;36m_make_engine\u001b[0;34m(self, f, engine)\u001b[0m\n\u001b[1;32m   1659\u001b[0m                 \u001b[0;32mif\u001b[0m \u001b[0;34m\"b\"\u001b[0m \u001b[0;32mnot\u001b[0m \u001b[0;32min\u001b[0m \u001b[0mmode\u001b[0m\u001b[0;34m:\u001b[0m\u001b[0;34m\u001b[0m\u001b[0;34m\u001b[0m\u001b[0m\n\u001b[1;32m   1660\u001b[0m                     \u001b[0mmode\u001b[0m \u001b[0;34m+=\u001b[0m \u001b[0;34m\"b\"\u001b[0m\u001b[0;34m\u001b[0m\u001b[0;34m\u001b[0m\u001b[0m\n\u001b[0;32m-> 1661\u001b[0;31m             self.handles = get_handle(\n\u001b[0m\u001b[1;32m   1662\u001b[0m                 \u001b[0mf\u001b[0m\u001b[0;34m,\u001b[0m\u001b[0;34m\u001b[0m\u001b[0;34m\u001b[0m\u001b[0m\n\u001b[1;32m   1663\u001b[0m                 \u001b[0mmode\u001b[0m\u001b[0;34m,\u001b[0m\u001b[0;34m\u001b[0m\u001b[0;34m\u001b[0m\u001b[0m\n",
      "\u001b[0;32m~/anaconda3/lib/python3.9/site-packages/pandas/io/common.py\u001b[0m in \u001b[0;36mget_handle\u001b[0;34m(path_or_buf, mode, encoding, compression, memory_map, is_text, errors, storage_options)\u001b[0m\n\u001b[1;32m    857\u001b[0m         \u001b[0;32mif\u001b[0m \u001b[0mioargs\u001b[0m\u001b[0;34m.\u001b[0m\u001b[0mencoding\u001b[0m \u001b[0;32mand\u001b[0m \u001b[0;34m\"b\"\u001b[0m \u001b[0;32mnot\u001b[0m \u001b[0;32min\u001b[0m \u001b[0mioargs\u001b[0m\u001b[0;34m.\u001b[0m\u001b[0mmode\u001b[0m\u001b[0;34m:\u001b[0m\u001b[0;34m\u001b[0m\u001b[0;34m\u001b[0m\u001b[0m\n\u001b[1;32m    858\u001b[0m             \u001b[0;31m# Encoding\u001b[0m\u001b[0;34m\u001b[0m\u001b[0;34m\u001b[0m\u001b[0m\n\u001b[0;32m--> 859\u001b[0;31m             handle = open(\n\u001b[0m\u001b[1;32m    860\u001b[0m                 \u001b[0mhandle\u001b[0m\u001b[0;34m,\u001b[0m\u001b[0;34m\u001b[0m\u001b[0;34m\u001b[0m\u001b[0m\n\u001b[1;32m    861\u001b[0m                 \u001b[0mioargs\u001b[0m\u001b[0;34m.\u001b[0m\u001b[0mmode\u001b[0m\u001b[0;34m,\u001b[0m\u001b[0;34m\u001b[0m\u001b[0;34m\u001b[0m\u001b[0m\n",
      "\u001b[0;31mFileNotFoundError\u001b[0m: [Errno 2] No such file or directory: '/scratch/znazari/new_jobs_counts_ir2/final_data_count/bl_matrix_counts_ir2.txt'"
     ]
    }
   ],
   "source": [
    "result_count_ir2_lb=pd.read_csv(path1/\"bl_matrix_counts_ir2.txt\",index_col=[0])"
   ]
  },
  {
   "cell_type": "code",
   "execution_count": 4,
   "id": "44d7d338",
   "metadata": {},
   "outputs": [
    {
     "data": {
      "text/plain": [
       "False"
      ]
     },
     "execution_count": 4,
     "metadata": {},
     "output_type": "execute_result"
    }
   ],
   "source": [
    "result_count_ir2_lb.isnull().values.any()"
   ]
  },
  {
   "cell_type": "code",
   "execution_count": 5,
   "id": "3b319249",
   "metadata": {},
   "outputs": [],
   "source": [
    "result_count_ir2_v02=pd.read_csv(path1/\"v02_matrix_counts_ir2.txt\",index_col=[0])"
   ]
  },
  {
   "cell_type": "code",
   "execution_count": 6,
   "id": "0da1f615",
   "metadata": {},
   "outputs": [
    {
     "data": {
      "text/plain": [
       "False"
      ]
     },
     "execution_count": 6,
     "metadata": {},
     "output_type": "execute_result"
    }
   ],
   "source": [
    "result_count_ir2_v02.isnull().values.any()"
   ]
  },
  {
   "cell_type": "code",
   "execution_count": 7,
   "id": "b9b5cb11",
   "metadata": {},
   "outputs": [],
   "source": [
    "result_count_ir2_v04=pd.read_csv(path1/\"v04_matrix_counts_ir2.txt\",index_col=[0])"
   ]
  },
  {
   "cell_type": "code",
   "execution_count": 8,
   "id": "df494491",
   "metadata": {},
   "outputs": [
    {
     "data": {
      "text/plain": [
       "False"
      ]
     },
     "execution_count": 8,
     "metadata": {},
     "output_type": "execute_result"
    }
   ],
   "source": [
    "result_count_ir2_v04.isnull().values.any()"
   ]
  },
  {
   "cell_type": "code",
   "execution_count": 9,
   "id": "85a72719",
   "metadata": {},
   "outputs": [],
   "source": [
    "result_count_ir2_v06=pd.read_csv(path1/\"v06_matrix_counts_ir2.txt\",index_col=[0])"
   ]
  },
  {
   "cell_type": "code",
   "execution_count": 10,
   "id": "d24c6cc1",
   "metadata": {},
   "outputs": [
    {
     "data": {
      "text/plain": [
       "False"
      ]
     },
     "execution_count": 10,
     "metadata": {},
     "output_type": "execute_result"
    }
   ],
   "source": [
    "result_count_ir2_v06.isnull().values.any()"
   ]
  },
  {
   "cell_type": "code",
   "execution_count": 11,
   "id": "7542ed43",
   "metadata": {},
   "outputs": [],
   "source": [
    "result_count_ir2_v08=pd.read_csv(path1/\"v08_matrix_counts_ir2.txt\",index_col=[0])"
   ]
  },
  {
   "cell_type": "code",
   "execution_count": 12,
   "id": "d29c41f1",
   "metadata": {},
   "outputs": [
    {
     "data": {
      "text/plain": [
       "False"
      ]
     },
     "execution_count": 12,
     "metadata": {},
     "output_type": "execute_result"
    }
   ],
   "source": [
    "result_count_ir2_v08.isnull().values.any()"
   ]
  },
  {
   "cell_type": "markdown",
   "id": "0357105d",
   "metadata": {},
   "source": [
    "**Checking whether in IR2 quant there are some NaN value in output matrices**"
   ]
  },
  {
   "cell_type": "code",
   "execution_count": 22,
   "id": "a25067aa",
   "metadata": {},
   "outputs": [],
   "source": [
    "path2=Path(\"/scratch/znazari/new_jobs_quant_ir2/final_data\")"
   ]
  },
  {
   "cell_type": "code",
   "execution_count": 25,
   "id": "99a2d886",
   "metadata": {},
   "outputs": [],
   "source": [
    "result_quant_ir2_bl=pd.read_csv(path2/\"bl_matrix_quant_ir2.txt\",index_col=[0])"
   ]
  },
  {
   "cell_type": "code",
   "execution_count": 26,
   "id": "4bbaa36f",
   "metadata": {},
   "outputs": [
    {
     "data": {
      "text/plain": [
       "False"
      ]
     },
     "execution_count": 26,
     "metadata": {},
     "output_type": "execute_result"
    }
   ],
   "source": [
    "result_quant_ir2_bl.isnull().values.any()"
   ]
  },
  {
   "cell_type": "code",
   "execution_count": 28,
   "id": "282f7488",
   "metadata": {},
   "outputs": [],
   "source": [
    "result_quant_ir2_v02=pd.read_csv(path2/\"v02_matrix_quant_ir2.txt\",index_col=[0])"
   ]
  },
  {
   "cell_type": "code",
   "execution_count": 29,
   "id": "051249cf",
   "metadata": {},
   "outputs": [
    {
     "data": {
      "text/plain": [
       "False"
      ]
     },
     "execution_count": 29,
     "metadata": {},
     "output_type": "execute_result"
    }
   ],
   "source": [
    "result_quant_ir2_v02.isnull().values.any()"
   ]
  },
  {
   "cell_type": "code",
   "execution_count": 33,
   "id": "c4cc7a7d",
   "metadata": {},
   "outputs": [],
   "source": [
    "result_quant_ir2_v04=pd.read_csv(path2/\"v04_matrix_quant_ir2.txt\",index_col=[0])"
   ]
  },
  {
   "cell_type": "code",
   "execution_count": 34,
   "id": "284a069a",
   "metadata": {},
   "outputs": [
    {
     "data": {
      "text/plain": [
       "False"
      ]
     },
     "execution_count": 34,
     "metadata": {},
     "output_type": "execute_result"
    }
   ],
   "source": [
    "result_quant_ir2_v04.isnull().values.any()"
   ]
  },
  {
   "cell_type": "code",
   "execution_count": 35,
   "id": "f38ecffa",
   "metadata": {},
   "outputs": [],
   "source": [
    "result_quant_ir2_v06=pd.read_csv(path2/\"v06_matrix_quant_ir2.txt\",index_col=[0])"
   ]
  },
  {
   "cell_type": "code",
   "execution_count": 36,
   "id": "f27bd530",
   "metadata": {},
   "outputs": [
    {
     "data": {
      "text/plain": [
       "False"
      ]
     },
     "execution_count": 36,
     "metadata": {},
     "output_type": "execute_result"
    }
   ],
   "source": [
    "result_quant_ir2_v06.isnull().values.any()"
   ]
  },
  {
   "cell_type": "code",
   "execution_count": 37,
   "id": "fe9c69d4",
   "metadata": {},
   "outputs": [],
   "source": [
    "result_quant_ir2_v08=pd.read_csv(path2/\"bl_matrix_quant_ir2.txt\",index_col=[0])"
   ]
  },
  {
   "cell_type": "code",
   "execution_count": 38,
   "id": "159a6555",
   "metadata": {},
   "outputs": [
    {
     "data": {
      "text/plain": [
       "False"
      ]
     },
     "execution_count": 38,
     "metadata": {},
     "output_type": "execute_result"
    }
   ],
   "source": [
    "result_quant_ir2_v08.isnull().values.any()"
   ]
  },
  {
   "cell_type": "markdown",
   "id": "0dba4674",
   "metadata": {},
   "source": [
    "**Checking whether in IR3 couts there are some NaN value in output matrices**"
   ]
  },
  {
   "cell_type": "code",
   "execution_count": 39,
   "id": "a4354e21",
   "metadata": {},
   "outputs": [],
   "source": [
    "path3=Path(\"/scratch/znazari/ir3_counts/final_ir3_counts\")"
   ]
  },
  {
   "cell_type": "code",
   "execution_count": 40,
   "id": "75922046",
   "metadata": {},
   "outputs": [],
   "source": [
    "result_count_ir3_lb=pd.read_csv(path3/\"bl_matrix_counts_ir3.txt\",index_col=[0])"
   ]
  },
  {
   "cell_type": "code",
   "execution_count": 41,
   "id": "0e586ccc",
   "metadata": {},
   "outputs": [
    {
     "data": {
      "text/plain": [
       "False"
      ]
     },
     "execution_count": 41,
     "metadata": {},
     "output_type": "execute_result"
    }
   ],
   "source": [
    "result_count_ir3_lb.isnull().values.any()"
   ]
  },
  {
   "cell_type": "code",
   "execution_count": 42,
   "id": "50636deb",
   "metadata": {},
   "outputs": [],
   "source": [
    "result_count_ir3_v02=pd.read_csv(path3/\"v02_matrix_counts_ir3.txt\",index_col=[0])"
   ]
  },
  {
   "cell_type": "code",
   "execution_count": 43,
   "id": "e8ae00e7",
   "metadata": {},
   "outputs": [
    {
     "data": {
      "text/plain": [
       "False"
      ]
     },
     "execution_count": 43,
     "metadata": {},
     "output_type": "execute_result"
    }
   ],
   "source": [
    "result_count_ir3_v02.isnull().values.any()"
   ]
  },
  {
   "cell_type": "code",
   "execution_count": 44,
   "id": "a57ff546",
   "metadata": {},
   "outputs": [],
   "source": [
    "result_count_ir3_v04=pd.read_csv(path3/\"v04_matrix_counts_ir3.txt\",index_col=[0])"
   ]
  },
  {
   "cell_type": "code",
   "execution_count": 45,
   "id": "5238b869",
   "metadata": {},
   "outputs": [
    {
     "data": {
      "text/plain": [
       "False"
      ]
     },
     "execution_count": 45,
     "metadata": {},
     "output_type": "execute_result"
    }
   ],
   "source": [
    "result_count_ir3_v04.isnull().values.any()"
   ]
  },
  {
   "cell_type": "code",
   "execution_count": 46,
   "id": "e180de52",
   "metadata": {},
   "outputs": [],
   "source": [
    "result_count_ir3_v06=pd.read_csv(path3/\"v06_matrix_counts_ir3.txt\",index_col=[0])"
   ]
  },
  {
   "cell_type": "code",
   "execution_count": 47,
   "id": "48e02d4c",
   "metadata": {},
   "outputs": [
    {
     "data": {
      "text/plain": [
       "False"
      ]
     },
     "execution_count": 47,
     "metadata": {},
     "output_type": "execute_result"
    }
   ],
   "source": [
    "result_count_ir3_v06.isnull().values.any()"
   ]
  },
  {
   "cell_type": "code",
   "execution_count": 48,
   "id": "b1a45b01",
   "metadata": {},
   "outputs": [],
   "source": [
    "result_count_ir3_v08=pd.read_csv(path3/\"v08_matrix_counts_ir3.txt\",index_col=[0])"
   ]
  },
  {
   "cell_type": "code",
   "execution_count": 49,
   "id": "ef70609a",
   "metadata": {},
   "outputs": [
    {
     "data": {
      "text/plain": [
       "False"
      ]
     },
     "execution_count": 49,
     "metadata": {},
     "output_type": "execute_result"
    }
   ],
   "source": [
    "result_count_ir3_v08.isnull().values.any()"
   ]
  },
  {
   "cell_type": "markdown",
   "id": "f9c90615",
   "metadata": {},
   "source": [
    "**Checking whether in IR3 quant there are some NaN value in output matrices**"
   ]
  },
  {
   "cell_type": "code",
   "execution_count": 50,
   "id": "f4cbb4e4",
   "metadata": {},
   "outputs": [],
   "source": [
    "path4=Path(\"/scratch/znazari/3ir_quant/final_ir3_quant\")"
   ]
  },
  {
   "cell_type": "code",
   "execution_count": 53,
   "id": "d5b4a498",
   "metadata": {},
   "outputs": [],
   "source": [
    "result_quant_ir3_bl=pd.read_csv(path4/\"bl_matrix_quant_ir3.txt\",index_col=[0])"
   ]
  },
  {
   "cell_type": "code",
   "execution_count": 57,
   "id": "e5aa10ca",
   "metadata": {},
   "outputs": [
    {
     "data": {
      "text/plain": [
       "False"
      ]
     },
     "execution_count": 57,
     "metadata": {},
     "output_type": "execute_result"
    }
   ],
   "source": [
    "result_quant_ir3_bl.isnull().values.any()"
   ]
  },
  {
   "cell_type": "code",
   "execution_count": 58,
   "id": "c5632790",
   "metadata": {},
   "outputs": [],
   "source": [
    "result_quant_ir3_v02=pd.read_csv(path4/\"v02_matrix_quant_ir3.txt\",index_col=[0])"
   ]
  },
  {
   "cell_type": "code",
   "execution_count": 59,
   "id": "07101f2e",
   "metadata": {},
   "outputs": [
    {
     "data": {
      "text/plain": [
       "False"
      ]
     },
     "execution_count": 59,
     "metadata": {},
     "output_type": "execute_result"
    }
   ],
   "source": [
    "result_quant_ir3_v02.isnull().values.any()"
   ]
  },
  {
   "cell_type": "code",
   "execution_count": 60,
   "id": "f26acecd",
   "metadata": {},
   "outputs": [],
   "source": [
    "result_quant_ir3_v04=pd.read_csv(path4/\"v04_matrix_quant_ir3.txt\",index_col=[0])"
   ]
  },
  {
   "cell_type": "code",
   "execution_count": 61,
   "id": "5c00c71e",
   "metadata": {},
   "outputs": [
    {
     "data": {
      "text/plain": [
       "False"
      ]
     },
     "execution_count": 61,
     "metadata": {},
     "output_type": "execute_result"
    }
   ],
   "source": [
    "result_quant_ir3_v04.isnull().values.any()"
   ]
  },
  {
   "cell_type": "code",
   "execution_count": 62,
   "id": "62f3ea28",
   "metadata": {},
   "outputs": [],
   "source": [
    "result_quant_ir3_v06=pd.read_csv(path4/\"v06_matrix_quant_ir3.txt\",index_col=[0])"
   ]
  },
  {
   "cell_type": "code",
   "execution_count": 63,
   "id": "19f37a7e",
   "metadata": {},
   "outputs": [
    {
     "data": {
      "text/plain": [
       "False"
      ]
     },
     "execution_count": 63,
     "metadata": {},
     "output_type": "execute_result"
    }
   ],
   "source": [
    "result_quant_ir3_v06.isnull().values.any()"
   ]
  },
  {
   "cell_type": "code",
   "execution_count": 64,
   "id": "ff11a9c3",
   "metadata": {},
   "outputs": [],
   "source": [
    "result_quant_ir3_v08=pd.read_csv(path4/\"v08_matrix_quant_ir3.txt\",index_col=[0])"
   ]
  },
  {
   "cell_type": "code",
   "execution_count": 65,
   "id": "b77fb42f",
   "metadata": {},
   "outputs": [
    {
     "data": {
      "text/plain": [
       "False"
      ]
     },
     "execution_count": 65,
     "metadata": {},
     "output_type": "execute_result"
    }
   ],
   "source": [
    "result_quant_ir3_v08.isnull().values.any()"
   ]
  },
  {
   "cell_type": "code",
   "execution_count": null,
   "id": "4e3e90d0",
   "metadata": {},
   "outputs": [],
   "source": []
  }
 ],
 "metadata": {
  "kernelspec": {
   "display_name": "Python 3",
   "language": "python",
   "name": "python3"
  },
  "language_info": {
   "codemirror_mode": {
    "name": "ipython",
    "version": 3
   },
   "file_extension": ".py",
   "mimetype": "text/x-python",
   "name": "python",
   "nbconvert_exporter": "python",
   "pygments_lexer": "ipython3",
   "version": "3.9.13"
  }
 },
 "nbformat": 4,
 "nbformat_minor": 5
}
