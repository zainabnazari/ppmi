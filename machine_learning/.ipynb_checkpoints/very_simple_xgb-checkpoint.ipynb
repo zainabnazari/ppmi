{
 "cells": [
  {
   "cell_type": "code",
   "execution_count": 1,
   "id": "bb84555d",
   "metadata": {},
   "outputs": [],
   "source": [
    "#we just do it once\n",
    "#!pip3 install xgboost"
   ]
  },
  {
   "cell_type": "code",
   "execution_count": 2,
   "id": "e12da195",
   "metadata": {},
   "outputs": [],
   "source": [
    "from xgboost import XGBClassifier\n",
    "import numpy as np\n",
    "import pandas as pd\n",
    "from pathlib import Path\n",
    "import functools"
   ]
  },
  {
   "cell_type": "code",
   "execution_count": 3,
   "id": "4cd447bd",
   "metadata": {},
   "outputs": [],
   "source": [
    "# sklearn\n",
    "from sklearn.model_selection import train_test_split\n",
    "from sklearn.metrics import accuracy_score"
   ]
  },
  {
   "cell_type": "code",
   "execution_count": 4,
   "id": "a3424b8d",
   "metadata": {},
   "outputs": [
    {
     "ename": "NameError",
     "evalue": "name 'data_rna1' is not defined",
     "output_type": "error",
     "traceback": [
      "\u001b[0;31m---------------------------------------------------------------------------\u001b[0m",
      "\u001b[0;31mNameError\u001b[0m                                 Traceback (most recent call last)",
      "\u001b[0;32m/tmp/ipykernel_25520/3751040049.py\u001b[0m in \u001b[0;36m<module>\u001b[0;34m\u001b[0m\n\u001b[1;32m      4\u001b[0m \u001b[0;34m\u001b[0m\u001b[0m\n\u001b[1;32m      5\u001b[0m \u001b[0mquant_rna1\u001b[0m\u001b[0;34m=\u001b[0m\u001b[0mpd\u001b[0m\u001b[0;34m.\u001b[0m\u001b[0mread_csv\u001b[0m\u001b[0;34m(\u001b[0m\u001b[0mpath1\u001b[0m\u001b[0;34m/\u001b[0m\u001b[0;34m\"ordered_bl_matrix_ir2_quant.txt\"\u001b[0m\u001b[0;34m,\u001b[0m \u001b[0mheader\u001b[0m\u001b[0;34m=\u001b[0m\u001b[0;32mNone\u001b[0m\u001b[0;34m,\u001b[0m\u001b[0mindex_col\u001b[0m\u001b[0;34m=\u001b[0m\u001b[0;34m[\u001b[0m\u001b[0;36m0\u001b[0m\u001b[0;34m]\u001b[0m \u001b[0;34m)\u001b[0m\u001b[0;34m\u001b[0m\u001b[0;34m\u001b[0m\u001b[0m\n\u001b[0;32m----> 6\u001b[0;31m \u001b[0mquant_rna\u001b[0m\u001b[0;34m=\u001b[0m\u001b[0mdata_rna1\u001b[0m\u001b[0;34m.\u001b[0m\u001b[0mrename\u001b[0m\u001b[0;34m(\u001b[0m\u001b[0mcolumns\u001b[0m\u001b[0;34m=\u001b[0m\u001b[0mquant_rna1\u001b[0m\u001b[0;34m.\u001b[0m\u001b[0miloc\u001b[0m\u001b[0;34m[\u001b[0m\u001b[0;36m0\u001b[0m\u001b[0;34m]\u001b[0m\u001b[0;34m)\u001b[0m\u001b[0;34m.\u001b[0m\u001b[0mdrop\u001b[0m\u001b[0;34m(\u001b[0m\u001b[0mquant_rna1\u001b[0m\u001b[0;34m.\u001b[0m\u001b[0mindex\u001b[0m\u001b[0;34m[\u001b[0m\u001b[0;36m0\u001b[0m\u001b[0;34m]\u001b[0m\u001b[0;34m)\u001b[0m\u001b[0;34m.\u001b[0m\u001b[0mreset_index\u001b[0m\u001b[0;34m(\u001b[0m\u001b[0mdrop\u001b[0m\u001b[0;34m=\u001b[0m\u001b[0;32mTrue\u001b[0m\u001b[0;34m)\u001b[0m\u001b[0;34m\u001b[0m\u001b[0;34m\u001b[0m\u001b[0m\n\u001b[0m",
      "\u001b[0;31mNameError\u001b[0m: name 'data_rna1' is not defined"
     ]
    }
   ],
   "source": [
    "#loading the data quant\n",
    "\n",
    "path1=Path(\"/home/znazari/machine_learning_ppmi\")\n",
    "\n",
    "quant_rna1=pd.read_csv(path1/\"ordered_bl_matrix_ir2_quant.txt\", header=None,index_col=[0] )\n",
    "quant_rna=quant_rna1.rename(columns=quant_rna1.iloc[0]).drop(quant_rna1.index[0]).reset_index(drop=True)"
   ]
  },
  {
   "cell_type": "code",
   "execution_count": null,
   "id": "9c869614",
   "metadata": {},
   "outputs": [],
   "source": [
    "#quant diagnosis prediction\n",
    "\n",
    "quant_predict1=pd.read_csv(path1/\"the_diagnosis_quant_ir2.txt\", header=None ,index_col=[0])\n",
    "quant_predict=quant_predict1.rename(columns=quant_predict1.iloc[0]).drop(quant_predict1.index[0]).reset_index(drop=True)"
   ]
  },
  {
   "cell_type": "code",
   "execution_count": null,
   "id": "293ad773",
   "metadata": {},
   "outputs": [],
   "source": [
    "quant_rna_=quant_rna.drop(columns='Geneid')"
   ]
  },
  {
   "cell_type": "code",
   "execution_count": null,
   "id": "73fbdf92",
   "metadata": {},
   "outputs": [],
   "source": [
    "a_quant_rna=quant_rna_.add(1)"
   ]
  },
  {
   "cell_type": "code",
   "execution_count": null,
   "id": "6c94a66a",
   "metadata": {},
   "outputs": [],
   "source": [
    "log_quant_rna=np.log2(a_quant_rna)"
   ]
  },
  {
   "cell_type": "code",
   "execution_count": null,
   "id": "94618436",
   "metadata": {},
   "outputs": [],
   "source": [
    "d_log_quant_rna=pd.DataFrame(log_quant_rna)"
   ]
  },
  {
   "cell_type": "code",
   "execution_count": null,
   "id": "cde45ac6",
   "metadata": {},
   "outputs": [],
   "source": [
    "# plus one and log2 transformed data of rna seq quant ir2\n",
    "d_log_quant_rna"
   ]
  },
  {
   "cell_type": "code",
   "execution_count": null,
   "id": "235cae50",
   "metadata": {},
   "outputs": [],
   "source": [
    "#transposed matrix\n",
    "t_quant=d_log_quant_rna.T\n",
    "t_quant"
   ]
  },
  {
   "cell_type": "code",
   "execution_count": null,
   "id": "b69f91ca",
   "metadata": {},
   "outputs": [],
   "source": [
    "searchfor = ['Healthy Control', \"Parkinson's Disease\"]\n"
   ]
  },
  {
   "cell_type": "code",
   "execution_count": null,
   "id": "1f81c49a",
   "metadata": {},
   "outputs": [],
   "source": [
    "quant_p=quant_predict[quant_predict['COHORT_DEFINITION'].astype(str).str.contains('|'.join(searchfor))]"
   ]
  },
  {
   "cell_type": "code",
   "execution_count": null,
   "id": "97b026b6",
   "metadata": {},
   "outputs": [],
   "source": [
    "quant_new_predict=quant_p['BL_PATNO']"
   ]
  },
  {
   "cell_type": "code",
   "execution_count": null,
   "id": "844910e8",
   "metadata": {},
   "outputs": [],
   "source": [
    "r_quant_patients=[int(x) for x in quant_new_predict]"
   ]
  },
  {
   "cell_type": "code",
   "execution_count": null,
   "id": "124b7150",
   "metadata": {},
   "outputs": [],
   "source": [
    "#here we select those rna-seq data that includes both health control and parkinson \n",
    "selected_quant_rna=d_log_quant_rna[r_quant_patients]"
   ]
  },
  {
   "cell_type": "code",
   "execution_count": null,
   "id": "c16b7d60",
   "metadata": {},
   "outputs": [],
   "source": [
    "select_quant_rna=selected_quant_rna.T"
   ]
  },
  {
   "cell_type": "code",
   "execution_count": null,
   "id": "0f8af3e9",
   "metadata": {},
   "outputs": [],
   "source": [
    "quant_p['COHORT_DEFINITION'].replace(['Healthy Control', \"Parkinson's Disease\"],\n",
    "                        [0, 1], inplace=True)"
   ]
  },
  {
   "cell_type": "code",
   "execution_count": null,
   "id": "511508fd",
   "metadata": {},
   "outputs": [],
   "source": [
    "#here we split the data quant\n",
    "X_trainq, X_testq, y_trainq, y_testq = train_test_split(select_quant_rna,quant_p['COHORT_DEFINITION'], test_size=.3)\n"
   ]
  },
  {
   "cell_type": "code",
   "execution_count": null,
   "id": "1ec6419d",
   "metadata": {},
   "outputs": [],
   "source": [
    "#here we make the model\n",
    "bst_q = XGBClassifier(n_estimators=2, max_depth=2, learning_rate=1, objective='binary:logistic')\n"
   ]
  },
  {
   "cell_type": "code",
   "execution_count": null,
   "id": "f3f4f7ff",
   "metadata": {},
   "outputs": [],
   "source": [
    "#here we fit the model\n",
    "bst_q.fit(X_trainq, y_trainq)"
   ]
  },
  {
   "cell_type": "code",
   "execution_count": null,
   "id": "6868593b",
   "metadata": {},
   "outputs": [],
   "source": [
    "#here we chech the prediction\n",
    "preds_q = bst_q.predict(X_testq)\n"
   ]
  },
  {
   "cell_type": "code",
   "execution_count": null,
   "id": "513afec8",
   "metadata": {},
   "outputs": [],
   "source": [
    "#let us see how the quant normalized data is doing\n",
    "#predictions = [round(value) for value in y_pred]\n",
    "# evaluate predictions\n",
    "accuracy = accuracy_score(y_testq, preds_q)\n",
    "print(\"Accuracy: %.2f%%\" % (accuracy * 100.0))"
   ]
  },
  {
   "cell_type": "code",
   "execution_count": null,
   "id": "98dc6ef0",
   "metadata": {},
   "outputs": [],
   "source": []
  }
 ],
 "metadata": {
  "kernelspec": {
   "display_name": "Python 3",
   "language": "python",
   "name": "python3"
  },
  "language_info": {
   "codemirror_mode": {
    "name": "ipython",
    "version": 3
   },
   "file_extension": ".py",
   "mimetype": "text/x-python",
   "name": "python",
   "nbconvert_exporter": "python",
   "pygments_lexer": "ipython3",
   "version": "3.9.13"
  }
 },
 "nbformat": 4,
 "nbformat_minor": 5
}
